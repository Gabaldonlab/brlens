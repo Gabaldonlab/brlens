{
 "cells": [
  {
   "cell_type": "code",
   "execution_count": 1,
   "id": "c0e04801-ca9f-44a1-a0d4-2b240c4c84a5",
   "metadata": {},
   "outputs": [],
   "source": [
    "import ete3\n",
    "import pandas as pd"
   ]
  },
  {
   "cell_type": "code",
   "execution_count": 2,
   "id": "1e6baf50-cd78-4b1b-b4a7-fa47a91c1ea3",
   "metadata": {},
   "outputs": [],
   "source": [
    "gnmdf = pd.read_csv('../data/README', sep='\\t')"
   ]
  },
  {
   "cell_type": "code",
   "execution_count": 3,
   "id": "b52c4c3b-6cdc-463c-8a63-aee216793ae1",
   "metadata": {},
   "outputs": [],
   "source": [
    "def get_species(node):\n",
    "    return node.split('_')[1]"
   ]
  },
  {
   "cell_type": "code",
   "execution_count": 120,
   "id": "5f261e9f-6f33-42d5-baea-c5ec07d4766a",
   "metadata": {},
   "outputs": [],
   "source": [
    "tree = open('../data/0739_0.txt', 'r').read().split('\\n')[11].split('\\t')[3]\n",
    "t = ete3.PhyloTree(tree, sp_naming_function=get_species)"
   ]
  },
  {
   "cell_type": "code",
   "execution_count": 128,
   "id": "7a373c06-a571-4110-8647-b99fdf4d9d84",
   "metadata": {},
   "outputs": [],
   "source": [
    "def annotate_lineages(tree):\n",
    "    for leaf in tree.get_leaves():\n",
    "        sp = list(leaf.get_species())[0]\n",
    "        leaf.add_feature('lineage', list(gnmdf['kingdom'][gnmdf['PhylomeDB'] == sp])[0])\n",
    "    return 0"
   ]
  },
  {
   "cell_type": "code",
   "execution_count": 125,
   "id": "cc40de5f-34c3-4fbf-bfc3-de1790f45013",
   "metadata": {},
   "outputs": [],
   "source": [
    "def ref_clades(tree):\n",
    "    mphysets = list()\n",
    "    for st in tree.traverse():\n",
    "        leaves = st.get_leaves()\n",
    "\n",
    "        lineages = list()\n",
    "        for stleag in st.get_leaves():\n",
    "            lineages.append(stleag.lineage)\n",
    "\n",
    "        if len(set(lineages)) == 1 and len(leaves) > 1:\n",
    "            mphy = dict()\n",
    "            mphy['node'] = st\n",
    "            mphy['seq_no'] = len(leaves)\n",
    "            mphy['lineage'] = lineages[0]\n",
    "            mphysets.append(mphy)\n",
    "\n",
    "    nodedf = pd.DataFrame(mphysets)\n",
    "    indexes = nodedf.index\n",
    "\n",
    "    mphylist = list()\n",
    "    for group in set(nodedf['lineage']):\n",
    "        maxval = max(nodedf.loc[nodedf['lineage'] == group]['seq_no'])\n",
    "        dfindex = indexes[(nodedf['lineage'] == group) & (nodedf['seq_no'] == maxval)]\n",
    "        mphylist.append(mphysets[dfindex.values[0]])\n",
    "\n",
    "    return mphylist"
   ]
  },
  {
   "cell_type": "code",
   "execution_count": 135,
   "id": "d3969def-b68c-4022-bfe3-8da573c10451",
   "metadata": {},
   "outputs": [
    {
     "name": "stdout",
     "output_type": "stream",
     "text": [
      "[{'node': PhyloTree node '' (0x7efd805cc08), 'seq_no': 200, 'lineage': 'eukaryota'}]\n",
      "[{'node': PhyloTree node '' (0x7efd805cc0f), 'seq_no': 200, 'lineage': 'eukaryota'}]\n",
      "[{'node': PhyloTree node '' (0x7efd806a978), 'seq_no': 53, 'lineage': 'eukaryota'}]\n",
      "[{'node': PhyloTree node '' (0x7efd801ae78), 'seq_no': 17, 'lineage': 'eukaryota'}]\n",
      "[{'node': PhyloTree node '' (0x7efd7aeda39), 'seq_no': 200, 'lineage': 'eukaryota'}]\n",
      "[{'node': PhyloTree node '' (-0x7ffff81027ffb069), 'seq_no': 55, 'lineage': 'eukaryota'}]\n",
      "[{'node': PhyloTree node '' (0x7efd7ad82f6), 'seq_no': 67, 'lineage': 'eukaryota'}]\n",
      "[{'node': PhyloTree node '' (0x7efd7ac2486), 'seq_no': 175, 'lineage': 'eukaryota'}]\n",
      "[{'node': PhyloTree node '' (0x7efd7ac3c5c), 'seq_no': 200, 'lineage': 'eukaryota'}]\n",
      "[{'node': PhyloTree node '' (-0x7ffff8102853dbb6), 'seq_no': 200, 'lineage': 'eukaryota'}]\n",
      "[{'node': PhyloTree node '' (-0x7ffff81027fc6cfc), 'seq_no': 4, 'lineage': 'archaea'}, {'node': PhyloTree node '' (-0x7ffff81027fc6c46), 'seq_no': 86, 'lineage': 'eukaryota'}, {'node': PhyloTree node '' (0x7efd8039324), 'seq_no': 6, 'lineage': 'bacteria'}]\n",
      "[{'node': PhyloTree node '' (-0x7ffff8102853efee), 'seq_no': 15, 'lineage': 'archaea'}, {'node': PhyloTree node '' (-0x7ffff8102853ef46), 'seq_no': 67, 'lineage': 'eukaryota'}, {'node': PhyloTree node '' (-0x7ffff8102853ef93), 'seq_no': 7, 'lineage': 'bacteria'}]\n",
      "[{'node': PhyloTree node '' (-0x7ffff81027fb6da8), 'seq_no': 104, 'lineage': 'eukaryota'}]\n",
      "[{'node': PhyloTree node '' (-0x7ffff8102854752a), 'seq_no': 51, 'lineage': 'eukaryota'}]\n",
      "[{'node': PhyloTree node '' (-0x7ffff8102854c15b), 'seq_no': 13, 'lineage': 'eukaryota'}]\n",
      "[{'node': PhyloTree node '' (0x7efd7ab6cb0), 'seq_no': 11, 'lineage': 'eukaryota'}, {'node': PhyloTree node '' (0x7efd7ab6c55), 'seq_no': 6, 'lineage': 'bacteria'}]\n",
      "[{'node': PhyloTree node '' (-0x7ffff8102854c15b), 'seq_no': 50, 'lineage': 'eukaryota'}]\n",
      "[{'node': PhyloTree node '' (0x7efd7abefef), 'seq_no': 57, 'lineage': 'eukaryota'}, {'node': PhyloTree node '' (0x7efd7ab1b8d), 'seq_no': 2, 'lineage': 'bacteria'}]\n",
      "[{'node': PhyloTree node '' (-0x7ffff81027f964ee), 'seq_no': 3, 'lineage': 'archaea'}, {'node': PhyloTree node '' (-0x7ffff81027fe801c), 'seq_no': 34, 'lineage': 'eukaryota'}, {'node': PhyloTree node '' (-0x7ffff81027fe5193), 'seq_no': 2, 'lineage': 'bacteria'}]\n",
      "[{'node': PhyloTree node '' (-0x7ffff8102854f3d2), 'seq_no': 70, 'lineage': 'eukaryota'}]\n",
      "[{'node': PhyloTree node '' (0x7efd8008847), 'seq_no': 200, 'lineage': 'eukaryota'}]\n",
      "[{'node': PhyloTree node '' (-0x7ffff81028500ccb), 'seq_no': 30, 'lineage': 'eukaryota'}]\n",
      "[{'node': PhyloTree node '' (0x7efd7ab6155), 'seq_no': 32, 'lineage': 'eukaryota'}]\n",
      "[{'node': PhyloTree node '' (0x7efd7ad820f), 'seq_no': 19, 'lineage': 'eukaryota'}]\n",
      "[{'node': PhyloTree node '' (0x7efd7ab53d3), 'seq_no': 200, 'lineage': 'eukaryota'}]\n",
      "[{'node': PhyloTree node '' (0x7efd7ab53da), 'seq_no': 200, 'lineage': 'eukaryota'}]\n",
      "[{'node': PhyloTree node '' (-0x7ffff810285474af), 'seq_no': 38, 'lineage': 'eukaryota'}]\n",
      "[{'node': PhyloTree node '' (0x7efd803c0da), 'seq_no': 60, 'lineage': 'eukaryota'}]\n",
      "[{'node': PhyloTree node '' (0x7efd7ad87e1), 'seq_no': 59, 'lineage': 'eukaryota'}]\n",
      "[{'node': PhyloTree node '' (0x7efd8049eef), 'seq_no': 14, 'lineage': 'eukaryota'}]\n",
      "[{'node': PhyloTree node '' (-0x7ffff81028500ca1), 'seq_no': 188, 'lineage': 'eukaryota'}]\n",
      "[{'node': PhyloTree node '' (-0x7ffff81027fc6caf), 'seq_no': 65, 'lineage': 'eukaryota'}]\n",
      "[{'node': PhyloTree node '' (0x7efd7ab452b), 'seq_no': 200, 'lineage': 'eukaryota'}]\n",
      "[{'node': PhyloTree node '' (0x7efd7aae1fd), 'seq_no': 27, 'lineage': 'eukaryota'}]\n",
      "[{'node': PhyloTree node '' (0x7efd7aa584e), 'seq_no': 2, 'lineage': 'archaea'}, {'node': PhyloTree node '' (-0x7ffff8102855a777), 'seq_no': 37, 'lineage': 'eukaryota'}, {'node': PhyloTree node '' (-0x7ffff8102855a7af), 'seq_no': 6, 'lineage': 'bacteria'}]\n",
      "[{'node': PhyloTree node '' (-0x7ffff8102855b1fc), 'seq_no': 49, 'lineage': 'eukaryota'}]\n",
      "[{'node': PhyloTree node '' (0x7efd7aa4e08), 'seq_no': 13, 'lineage': 'eukaryota'}]\n",
      "[{'node': PhyloTree node '' (-0x7ffff8102855589a), 'seq_no': 36, 'lineage': 'eukaryota'}, {'node': PhyloTree node '' (0x7efd7aacc8d), 'seq_no': 2, 'lineage': 'bacteria'}]\n",
      "[{'node': PhyloTree node '' (-0x7ffff8102855330e), 'seq_no': 26, 'lineage': 'eukaryota'}]\n",
      "[{'node': PhyloTree node '' (-0x7ffff81027fb6d54), 'seq_no': 19, 'lineage': 'eukaryota'}]\n",
      "[{'node': PhyloTree node '' (0x7efd806a908), 'seq_no': 10, 'lineage': 'eukaryota'}]\n",
      "[{'node': PhyloTree node '' (-0x7ffff81027fc26c4), 'seq_no': 12, 'lineage': 'eukaryota'}]\n",
      "[{'node': PhyloTree node '' (-0x7ffff8102850cd15), 'seq_no': 2, 'lineage': 'archaea'}, {'node': PhyloTree node '' (-0x7ffff81027fb6193), 'seq_no': 28, 'lineage': 'eukaryota'}, {'node': PhyloTree node '' (-0x7ffff81028500ce0), 'seq_no': 7, 'lineage': 'bacteria'}]\n",
      "[{'node': PhyloTree node '' (0x7efd8017fd3), 'seq_no': 198, 'lineage': 'eukaryota'}]\n",
      "[{'node': PhyloTree node '' (0x7efd83648e8), 'seq_no': 108, 'lineage': 'eukaryota'}]\n",
      "[{'node': PhyloTree node '' (0x7efd7aabbfd), 'seq_no': 11, 'lineage': 'eukaryota'}]\n",
      "[{'node': PhyloTree node '' (0x7efd7aabb6a), 'seq_no': 35, 'lineage': 'eukaryota'}]\n",
      "[{'node': PhyloTree node '' (0x7efd7aa0278), 'seq_no': 37, 'lineage': 'eukaryota'}, {'node': PhyloTree node '' (0x7efd7aa087f), 'seq_no': 6, 'lineage': 'bacteria'}]\n",
      "[{'node': PhyloTree node '' (0x7efd7aaee08), 'seq_no': 200, 'lineage': 'eukaryota'}]\n",
      "[{'node': PhyloTree node '' (-0x7ffff8102855f731), 'seq_no': 67, 'lineage': 'eukaryota'}]\n",
      "[{'node': PhyloTree node '' (-0x7ffff8102852781c), 'seq_no': 38, 'lineage': 'eukaryota'}]\n",
      "[{'node': PhyloTree node '' (-0x7ffff81027fe152a), 'seq_no': 22, 'lineage': 'eukaryota'}]\n",
      "[{'node': PhyloTree node '' (0x7efd806b224), 'seq_no': 200, 'lineage': 'eukaryota'}]\n",
      "[{'node': PhyloTree node '' (-0x7ffff81027fc3f07), 'seq_no': 53, 'lineage': 'eukaryota'}]\n",
      "[{'node': PhyloTree node '' (-0x7ffff81027fc6c77), 'seq_no': 23, 'lineage': 'eukaryota'}]\n",
      "[{'node': PhyloTree node '' (0x7efd8017fc5), 'seq_no': 167, 'lineage': 'eukaryota'}]\n",
      "[{'node': PhyloTree node '' (-0x7ffff8102855118c), 'seq_no': 41, 'lineage': 'eukaryota'}]\n",
      "[{'node': PhyloTree node '' (-0x7ffff8102854d885), 'seq_no': 200, 'lineage': 'eukaryota'}]\n",
      "[{'node': PhyloTree node '' (-0x7ffff81028554a69), 'seq_no': 35, 'lineage': 'eukaryota'}]\n",
      "[{'node': PhyloTree node '' (-0x7ffff81028560af5), 'seq_no': 10, 'lineage': 'eukaryota'}]\n",
      "[{'node': PhyloTree node '' (0x7efd7a99b63), 'seq_no': 150, 'lineage': 'eukaryota'}]\n",
      "[{'node': PhyloTree node '' (-0x7ffff81027f9393f), 'seq_no': 2, 'lineage': 'archaea'}, {'node': PhyloTree node '' (0x7efd7aab578), 'seq_no': 20, 'lineage': 'eukaryota'}, {'node': PhyloTree node '' (0x7efd7aaccb7), 'seq_no': 9, 'lineage': 'bacteria'}]\n",
      "[{'node': PhyloTree node '' (-0x7ffff810285664bd), 'seq_no': 21, 'lineage': 'eukaryota'}]\n",
      "[{'node': PhyloTree node '' (-0x7ffff81027ff77a8), 'seq_no': 14, 'lineage': 'eukaryota'}]\n",
      "[{'node': PhyloTree node '' (0x7efd80492cc), 'seq_no': 5, 'lineage': 'archaea'}, {'node': PhyloTree node '' (0x7efd80393cc), 'seq_no': 27, 'lineage': 'eukaryota'}, {'node': PhyloTree node '' (-0x7ffff81027fb6dd9), 'seq_no': 24, 'lineage': 'bacteria'}]\n",
      "[{'node': PhyloTree node '' (0x7efd7aaa7fd), 'seq_no': 200, 'lineage': 'eukaryota'}]\n",
      "[{'node': PhyloTree node '' (0x7efd8049eb7), 'seq_no': 76, 'lineage': 'eukaryota'}, {'node': PhyloTree node '' (0x7efd7aa98fd), 'seq_no': 3, 'lineage': 'bacteria'}]\n",
      "[{'node': PhyloTree node '' (-0x7ffff8102854d677), 'seq_no': 73, 'lineage': 'eukaryota'}, {'node': PhyloTree node '' (-0x7ffff8102854d6f5), 'seq_no': 12, 'lineage': 'bacteria'}]\n",
      "[{'node': PhyloTree node '' (-0x7ffff81028556d69), 'seq_no': 150, 'lineage': 'eukaryota'}]\n",
      "[{'node': PhyloTree node '' (0x7efd7ab05be), 'seq_no': 138, 'lineage': 'eukaryota'}]\n",
      "[{'node': PhyloTree node '' (-0x7ffff8102854fa5b), 'seq_no': 198, 'lineage': 'eukaryota'}]\n",
      "[{'node': PhyloTree node '' (-0x7ffff81028556d5b), 'seq_no': 10, 'lineage': 'eukaryota'}]\n",
      "[{'node': PhyloTree node '' (-0x7ffff8102855f731), 'seq_no': 52, 'lineage': 'eukaryota'}]\n",
      "[{'node': PhyloTree node '' (-0x7ffff81028500cc4), 'seq_no': 26, 'lineage': 'eukaryota'}]\n",
      "[{'node': PhyloTree node '' (0x7efd7aa92be), 'seq_no': 35, 'lineage': 'eukaryota'}]\n",
      "[{'node': PhyloTree node '' (0x7efd801ae78), 'seq_no': 24, 'lineage': 'eukaryota'}, {'node': PhyloTree node '' (0x7efd80393f6), 'seq_no': 4, 'lineage': 'bacteria'}]\n",
      "[{'node': PhyloTree node '' (-0x7ffff81028500cc4), 'seq_no': 199, 'lineage': 'eukaryota'}]\n",
      "[{'node': PhyloTree node '' (0x7efd7a99b32), 'seq_no': 18, 'lineage': 'eukaryota'}, {'node': PhyloTree node '' (0x7efd7aad747), 'seq_no': 8, 'lineage': 'bacteria'}]\n",
      "[{'node': PhyloTree node '' (0x7efd7aab5ef), 'seq_no': 36, 'lineage': 'eukaryota'}]\n",
      "[{'node': PhyloTree node '' (-0x7ffff81028550b15), 'seq_no': 20, 'lineage': 'eukaryota'}]\n",
      "[{'node': PhyloTree node '' (0x7efd7aaf1d3), 'seq_no': 31, 'lineage': 'eukaryota'}]\n",
      "[{'node': PhyloTree node '' (-0x7ffff810285739bd), 'seq_no': 3, 'lineage': 'eukaryota'}]\n",
      "[{'node': PhyloTree node '' (-0x7ffff81028572ec4), 'seq_no': 175, 'lineage': 'eukaryota'}]\n",
      "[{'node': PhyloTree node '' (0x7efd7a8d132), 'seq_no': 168, 'lineage': 'eukaryota'}]\n",
      "[{'node': PhyloTree node '' (-0x7ffff81027f939d2), 'seq_no': 14, 'lineage': 'eukaryota'}, {'node': PhyloTree node '' (0x7efd7aaccbe), 'seq_no': 6, 'lineage': 'bacteria'}]\n",
      "[{'node': PhyloTree node '' (0x7efd7aab516), 'seq_no': 47, 'lineage': 'eukaryota'}]\n",
      "[{'node': PhyloTree node '' (-0x7ffff81027ff77a8), 'seq_no': 67, 'lineage': 'eukaryota'}]\n",
      "[{'node': PhyloTree node '' (0x7efd8049239), 'seq_no': 197, 'lineage': 'eukaryota'}]\n",
      "[{'node': PhyloTree node '' (0x7efd806a916), 'seq_no': 7, 'lineage': 'eukaryota'}, {'node': PhyloTree node '' (-0x7ffff81027f956ee), 'seq_no': 2, 'lineage': 'bacteria'}]\n",
      "[{'node': PhyloTree node '' (-0x7ffff8102856c038), 'seq_no': 82, 'lineage': 'eukaryota'}]\n",
      "[{'node': PhyloTree node '' (-0x7ffff81027fb6169), 'seq_no': 84, 'lineage': 'eukaryota'}]\n",
      "[{'node': PhyloTree node '' (-0x7ffff81028558b93), 'seq_no': 82, 'lineage': 'eukaryota'}]\n",
      "[{'node': PhyloTree node '' (0x7efd7aaa26a), 'seq_no': 76, 'lineage': 'eukaryota'}]\n",
      "[{'node': PhyloTree node '' (0x7efd7a83fa2), 'seq_no': 13, 'lineage': 'eukaryota'}]\n",
      "[{'node': PhyloTree node '' (0x7efd7a861fd), 'seq_no': 20, 'lineage': 'eukaryota'}]\n",
      "[{'node': PhyloTree node '' (-0x7ffff8102857f6f5), 'seq_no': 38, 'lineage': 'eukaryota'}, {'node': PhyloTree node '' (-0x7ffff8102857ebf5), 'seq_no': 9, 'lineage': 'bacteria'}]\n",
      "[{'node': PhyloTree node '' (-0x7ffff81028579e3f), 'seq_no': 200, 'lineage': 'eukaryota'}]\n",
      "[{'node': PhyloTree node '' (0x7efd7a861e1), 'seq_no': 19, 'lineage': 'eukaryota'}]\n",
      "[{'node': PhyloTree node '' (0x7efd7aa92a2), 'seq_no': 12, 'lineage': 'eukaryota'}]\n",
      "[{'node': PhyloTree node '' (-0x7ffff81027f95438), 'seq_no': 22, 'lineage': 'eukaryota'}]\n",
      "[{'node': PhyloTree node '' (-0x7ffff81027fc3f31), 'seq_no': 57, 'lineage': 'eukaryota'}]\n",
      "[{'node': PhyloTree node '' (0x7efd806a91d), 'seq_no': 15, 'lineage': 'eukaryota'}]\n",
      "[{'node': PhyloTree node '' (-0x7ffff81028556de7), 'seq_no': 107, 'lineage': 'eukaryota'}]\n",
      "[{'node': PhyloTree node '' (0x7efd801aea9), 'seq_no': 2, 'lineage': 'archaea'}, {'node': PhyloTree node '' (-0x7ffff81028500c69), 'seq_no': 42, 'lineage': 'eukaryota'}, {'node': PhyloTree node '' (0x7efd801ae5c), 'seq_no': 3, 'lineage': 'bacteria'}]\n",
      "[{'node': PhyloTree node '' (0x7efd804a778), 'seq_no': 16, 'lineage': 'eukaryota'}]\n",
      "[{'node': PhyloTree node '' (-0x7ffff81027fe8007), 'seq_no': 195, 'lineage': 'eukaryota'}]\n",
      "[{'node': PhyloTree node '' (-0x7ffff81027ff775b), 'seq_no': 11, 'lineage': 'eukaryota'}]\n",
      "[{'node': PhyloTree node '' (-0x7ffff8102854a47e), 'seq_no': 15, 'lineage': 'eukaryota'}]\n",
      "[{'node': PhyloTree node '' (0x7efd7ab5bf6), 'seq_no': 182, 'lineage': 'eukaryota'}]\n",
      "[{'node': PhyloTree node '' (-0x7ffff8102854a41c), 'seq_no': 191, 'lineage': 'eukaryota'}]\n",
      "[{'node': PhyloTree node '' (-0x7ffff81028581d70), 'seq_no': 197, 'lineage': 'eukaryota'}]\n",
      "[{'node': PhyloTree node '' (-0x7ffff810285558ee), 'seq_no': 198, 'lineage': 'eukaryota'}]\n",
      "[{'node': PhyloTree node '' (0x7efd7aa74ef), 'seq_no': 3, 'lineage': 'archaea'}, {'node': PhyloTree node '' (-0x7ffff81027fe1538), 'seq_no': 54, 'lineage': 'eukaryota'}, {'node': PhyloTree node '' (-0x7ffff81028510ea1), 'seq_no': 3, 'lineage': 'bacteria'}]\n",
      "[{'node': PhyloTree node '' (0x7efd80393a9), 'seq_no': 7, 'lineage': 'eukaryota'}]\n",
      "[{'node': PhyloTree node '' (0x7efd803c0be), 'seq_no': 170, 'lineage': 'eukaryota'}]\n",
      "[{'node': PhyloTree node '' (-0x7ffff81027fc3f31), 'seq_no': 165, 'lineage': 'eukaryota'}]\n",
      "[{'node': PhyloTree node '' (-0x7ffff810285897d2), 'seq_no': 40, 'lineage': 'eukaryota'}]\n",
      "[{'node': PhyloTree node '' (0x7efd7a72ed3), 'seq_no': 11, 'lineage': 'eukaryota'}]\n",
      "[{'node': PhyloTree node '' (0x7efd7a6d3e1), 'seq_no': 44, 'lineage': 'eukaryota'}]\n",
      "[{'node': PhyloTree node '' (0x7efd7a6e21d), 'seq_no': 6, 'lineage': 'eukaryota'}]\n",
      "[{'node': PhyloTree node '' (-0x7ffff81028591446), 'seq_no': 66, 'lineage': 'eukaryota'}]\n",
      "[{'node': PhyloTree node '' (-0x7ffff81027fb6177), 'seq_no': 124, 'lineage': 'eukaryota'}]\n",
      "[{'node': PhyloTree node '' (0x7efd7ae1724), 'seq_no': 36, 'lineage': 'eukaryota'}]\n",
      "[{'node': PhyloTree node '' (-0x7ffff81027fb587e), 'seq_no': 197, 'lineage': 'eukaryota'}]\n",
      "[{'node': PhyloTree node '' (0x7efd7ad82d3), 'seq_no': 200, 'lineage': 'eukaryota'}]\n",
      "[{'node': PhyloTree node '' (0x7efd806c6be), 'seq_no': 200, 'lineage': 'eukaryota'}]\n"
     ]
    }
   ],
   "source": [
    "for trow in open('../data/0739_0.txt', 'r').read().split('\\n'):\n",
    "    if trow != '':\n",
    "        tree = trow.split('\\t')[3]\n",
    "        t = ete3.PhyloTree(tree, sp_naming_function=get_species)\n",
    "        annotate_lineages(t)\n",
    "        print(ref_clades(t))"
   ]
  },
  {
   "cell_type": "code",
   "execution_count": 139,
   "id": "7d999e20-9344-4ab9-a134-9aeed80bd3c5",
   "metadata": {},
   "outputs": [],
   "source": [
    "A = {'id': '005', 'mean': 10, 'med': 56, 'skew': 22,\n",
    "              'kurt': 24, 'sd': 12}\n",
    "B = {'id': '005', 'mean': 12, 'med': 6, 'skew': 2,\n",
    "              'kurt': 4, 'sd': 1}"
   ]
  },
  {
   "cell_type": "code",
   "execution_count": 140,
   "id": "efa6eca4-7e71-4cef-8c8a-4edb07a5b799",
   "metadata": {},
   "outputs": [
    {
     "data": {
      "text/plain": [
       "{'id': '005', 'mean': 12, 'med': 6, 'skew': 2, 'kurt': 4, 'sd': 1}"
      ]
     },
     "execution_count": 140,
     "metadata": {},
     "output_type": "execute_result"
    }
   ],
   "source": [
    "{**A, **B}"
   ]
  },
  {
   "cell_type": "code",
   "execution_count": null,
   "id": "71f6966d-cd86-47d5-80df-116dd243889b",
   "metadata": {},
   "outputs": [],
   "source": []
  }
 ],
 "metadata": {
  "kernelspec": {
   "display_name": "Python 3",
   "language": "python",
   "name": "python3"
  },
  "language_info": {
   "codemirror_mode": {
    "name": "ipython",
    "version": 3
   },
   "file_extension": ".py",
   "mimetype": "text/x-python",
   "name": "python",
   "nbconvert_exporter": "python",
   "pygments_lexer": "ipython3",
   "version": "3.6.15"
  }
 },
 "nbformat": 4,
 "nbformat_minor": 5
}
