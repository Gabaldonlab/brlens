{
 "cells": [
  {
   "cell_type": "code",
   "execution_count": null,
   "id": "300fb83e-917c-4280-acf6-bbbd8970ada4",
   "metadata": {},
   "outputs": [],
   "source": [
    "import statistics as stat\n",
    "from scipy import stats"
   ]
  },
  {
   "cell_type": "code",
   "execution_count": null,
   "id": "413fcc19-f781-4094-8271-fec502cb8281",
   "metadata": {},
   "outputs": [],
   "source": [
    "from tree_funs import *\n",
    "from rooted_phylomes import ROOTED_PHYLOMES"
   ]
  },
  {
   "cell_type": "code",
   "execution_count": null,
   "id": "6ac9a014-487a-4f5f-a165-1454227e1004",
   "metadata": {},
   "outputs": [],
   "source": [
    "prot_dict = csv_to_dict('../data/0003_all_protein_names.txt', sep='\\t')"
   ]
  },
  {
   "cell_type": "code",
   "execution_count": null,
   "id": "79a1143d-965c-4d73-9f62-69c2356eefa3",
   "metadata": {},
   "outputs": [],
   "source": [
    "tree = open('../data/0003_best_trees.txt').read().split('\\n')[1].split('\\t')"
   ]
  },
  {
   "cell_type": "code",
   "execution_count": null,
   "id": "97bae336-f8f2-483f-9947-3167492eecc4",
   "metadata": {},
   "outputs": [],
   "source": [
    "t1 = phylome_tree('0003', tree[0], tree[1], tree[2], tree[3], ROOTED_PHYLOMES[3], prot_dict)"
   ]
  },
  {
   "cell_type": "code",
   "execution_count": null,
   "id": "3de63430-ed32-4046-8541-ca13ae5854d5",
   "metadata": {},
   "outputs": [],
   "source": [
    "t1.tree.show()"
   ]
  },
  {
   "cell_type": "code",
   "execution_count": null,
   "id": "f2ff247d-176c-45ee-a0fb-afbaacd17f0c",
   "metadata": {},
   "outputs": [],
   "source": [
    "t1.root()\n",
    "t1.tree.get_descendant_evol_events()"
   ]
  },
  {
   "cell_type": "code",
   "execution_count": null,
   "id": "b10b4a24-766e-4098-aef2-3930246e4bcf",
   "metadata": {},
   "outputs": [],
   "source": [
    "t1.tree.get_speciation_trees()"
   ]
  },
  {
   "cell_type": "code",
   "execution_count": null,
   "id": "63518842-a2bc-435c-8522-258c2d31a29d",
   "metadata": {},
   "outputs": [],
   "source": [
    "for tree in t1.tree.get_speciation_trees()[2]:\n",
    "    if len(tree.get_leaf_names()) > 1:\n",
    "        sps = [item.split('_')[1] for item in tree.get_leaf_names()]\n",
    "        print(len(sps), len(set(sps)))\n",
    "        for leaf in tree.get_leaf_names():\n",
    "            print(tree.get_distance(tree.get_common_ancestor(tree), leaf))"
   ]
  },
  {
   "cell_type": "code",
   "execution_count": null,
   "id": "3856430e-b363-46a5-9a2f-0d87cab2d147",
   "metadata": {},
   "outputs": [],
   "source": []
  },
  {
   "cell_type": "code",
   "execution_count": null,
   "id": "5fc638cb-1aca-464c-8a27-d6ed8f0ee53d",
   "metadata": {},
   "outputs": [],
   "source": [
    "mphsptrees = dict()\n",
    "mphgtrees = dict()\n",
    "for i, subtree in enumerate(t1.tree.traverse()):\n",
    "    sps = [sp.split('_')[1] for sp in subtree.get_leaf_names()]\n",
    "    if len(sps) == len(set(sps)) and len(sps) > 10:\n",
    "        mphsptrees[len(sps)] = subtree\n",
    "    elif len(sps) > 10:\n",
    "        mphgtrees[len(sps) - len(set(sps))] = subtree\n",
    "\n",
    "if len(mphsptrees) > 0:\n",
    "    rtree = mphsptrees.get(max(mphsptrees.keys()))\n",
    "else:\n",
    "    rtree = mphgtrees.get(min(mphgtrees.keys()))\n",
    "\n",
    "root = rtree.get_common_ancestor(rtree)\n",
    "rwdth = rtree.get_farthest_leaf()[1]\n",
    "\n",
    "rtldist = list()\n",
    "for leaf in rtree.get_leaf_names():\n",
    "    rtldist.append(rtree.get_distance(root, leaf))\n",
    "\n",
    "rmean = stat.mean(rtldist)\n",
    "rmed = stat.median(rtldist)\n",
    "rskew = stats.skew(rtldist)\n",
    "rkurt = stats.kurtosis(rtldist)"
   ]
  },
  {
   "cell_type": "code",
   "execution_count": null,
   "id": "1834e814-6f41-4b34-98db-1dd83e239e28",
   "metadata": {},
   "outputs": [],
   "source": [
    "stat.stdev(rtldist)"
   ]
  },
  {
   "cell_type": "code",
   "execution_count": null,
   "id": "b044d729-9987-4050-a83d-bd0786a19763",
   "metadata": {},
   "outputs": [],
   "source": [
    "mphsptrees.keys()"
   ]
  },
  {
   "cell_type": "code",
   "execution_count": null,
   "id": "a28b67e2-ace0-4329-8169-b80925c31f94",
   "metadata": {},
   "outputs": [],
   "source": [
    "rtree.get_distance(rtree.get_common_ancestor(rtree), rtree.get_farthest_leaf()[0])"
   ]
  },
  {
   "cell_type": "code",
   "execution_count": null,
   "id": "19dcb9d1-dc8b-4c1a-802a-fb1417d9d205",
   "metadata": {},
   "outputs": [],
   "source": []
  },
  {
   "cell_type": "code",
   "execution_count": 1,
   "id": "08250a25-d43a-431b-88a1-5392dee4c986",
   "metadata": {},
   "outputs": [],
   "source": [
    "from tree_funs import *\n",
    "from rooted_phylomes import ROOTED_PHYLOMES"
   ]
  },
  {
   "cell_type": "code",
   "execution_count": 9,
   "id": "87d28123-bf33-4162-9a94-f06c93228fed",
   "metadata": {},
   "outputs": [],
   "source": [
    "treeset = open('../data/0469_best_trees.txt').read().split('\\n')\n",
    "protset = '../data/0469_all_protein_names.txt'\n",
    "prot_dict = csv_to_dict(protset, sep='\\t')"
   ]
  },
  {
   "cell_type": "code",
   "execution_count": 19,
   "id": "c6a0dfd9-1df9-463d-b5d2-0d828f1b367d",
   "metadata": {},
   "outputs": [],
   "source": [
    "tree = treeset[0]\n",
    "tree = tree.split('\\t')\n",
    "t1 = phylome_tree('0793', tree[0], tree[1], tree[2], tree[3], ROOTED_PHYLOMES[793], prot_dict, 'ofile_1.txt', 'ofile_2.txt')\n",
    "t1.root()"
   ]
  },
  {
   "cell_type": "code",
   "execution_count": 20,
   "id": "e77d088c-e0e8-45e0-81e7-44b44e6fb1c8",
   "metadata": {},
   "outputs": [
    {
     "name": "stdout",
     "output_type": "stream",
     "text": [
      "\n",
      "   /-Phy008B7YK_508771\n",
      "--|\n",
      "  |   /-Phy008BNW7_1169540\n",
      "   \\-|\n",
      "      \\-Phy008CS42_333668\n"
     ]
    }
   ],
   "source": [
    "print(t1.tree)"
   ]
  },
  {
   "cell_type": "code",
   "execution_count": 14,
   "id": "f109c1ff-0343-41dc-a156-b6425868c0dd",
   "metadata": {},
   "outputs": [
    {
     "ename": "AttributeError",
     "evalue": "'str' object has no attribute 'get'",
     "output_type": "error",
     "traceback": [
      "\u001b[0;31m---------------------------------------------------------------------------\u001b[0m",
      "\u001b[0;31mAttributeError\u001b[0m                            Traceback (most recent call last)",
      "\u001b[0;32m/var/folders/hh/5hklqj_s6750r7xj6t72sqyw0000gn/T/ipykernel_31041/2339555608.py\u001b[0m in \u001b[0;36m<module>\u001b[0;34m\u001b[0m\n\u001b[0;32m----> 1\u001b[0;31m \u001b[0mt1\u001b[0m\u001b[0;34m.\u001b[0m\u001b[0mget_refpars\u001b[0m\u001b[0;34m(\u001b[0m\u001b[0;34m)\u001b[0m\u001b[0;34m\u001b[0m\u001b[0;34m\u001b[0m\u001b[0m\n\u001b[0m",
      "\u001b[0;32m~/Documents/github/brlens/03_calc_dists/scripts/tree_funs.py\u001b[0m in \u001b[0;36mget_refpars\u001b[0;34m(self)\u001b[0m\n\u001b[1;32m     99\u001b[0m         \u001b[0mself\u001b[0m\u001b[0;34m.\u001b[0m\u001b[0msd\u001b[0m \u001b[0;34m=\u001b[0m \u001b[0mst\u001b[0m\u001b[0;34m.\u001b[0m\u001b[0mstdev\u001b[0m\u001b[0;34m(\u001b[0m\u001b[0mrtldist\u001b[0m\u001b[0;34m)\u001b[0m\u001b[0;34m\u001b[0m\u001b[0;34m\u001b[0m\u001b[0m\n\u001b[1;32m    100\u001b[0m \u001b[0;34m\u001b[0m\u001b[0m\n\u001b[0;32m--> 101\u001b[0;31m         self.rstats = [self.phylome_id, self.prot_dict.get(self.seed_id, 'NA'),\n\u001b[0m\u001b[1;32m    102\u001b[0m                        \u001b[0mself\u001b[0m\u001b[0;34m.\u001b[0m\u001b[0mrwdth\u001b[0m\u001b[0;34m,\u001b[0m \u001b[0mself\u001b[0m\u001b[0;34m.\u001b[0m\u001b[0mrmean\u001b[0m\u001b[0;34m,\u001b[0m \u001b[0mself\u001b[0m\u001b[0;34m.\u001b[0m\u001b[0mrmed\u001b[0m\u001b[0;34m,\u001b[0m \u001b[0mself\u001b[0m\u001b[0;34m.\u001b[0m\u001b[0mrskew\u001b[0m\u001b[0;34m,\u001b[0m\u001b[0;34m\u001b[0m\u001b[0;34m\u001b[0m\u001b[0m\n\u001b[1;32m    103\u001b[0m                        self.rkurt, self.sd]\n",
      "\u001b[0;31mAttributeError\u001b[0m: 'str' object has no attribute 'get'"
     ]
    }
   ],
   "source": [
    "t1.get_refpars()"
   ]
  },
  {
   "cell_type": "code",
   "execution_count": 7,
   "id": "ce86f4c3-c228-4357-9183-6130abe8a579",
   "metadata": {},
   "outputs": [
    {
     "name": "stdout",
     "output_type": "stream",
     "text": [
      "\n",
      "                  /-Phy0002HWP_CANAL\n",
      "               /-|\n",
      "            /-|   \\-Phy0002N5J_CANAL\n",
      "           |  |\n",
      "         /-|   \\-Phy000CVPH_YEAST\n",
      "        |  |\n",
      "        |   \\-Phy000EUZ6_YARLI\n",
      "        |\n",
      "      /-|         /-Phy000OY9I_PHANO\n",
      "     |  |      /-|\n",
      "     |  |   /-|   \\-Phy0058DRR_SCLS1\n",
      "     |  |  |  |\n",
      "   /-|   \\-|   \\-Phy001S6VR_NEUCR\n",
      "  |  |     |\n",
      "  |  |      \\-Phy000FPI3_ASPFU\n",
      "  |  |\n",
      "--|  |   /-Phy001SWFY_SCHPO\n",
      "  |   \\-|\n",
      "  |      \\-Phy001SWFZ_SCHPO\n",
      "  |\n",
      "   \\-Phy008O4C8_PUCGT\n"
     ]
    }
   ],
   "source": [
    "print(t1.rtree)"
   ]
  },
  {
   "cell_type": "code",
   "execution_count": 18,
   "id": "f93aad22-8b3b-4c93-b1ab-bb79b8d6b3d2",
   "metadata": {},
   "outputs": [
    {
     "name": "stdout",
     "output_type": "stream",
     "text": [
      "Phy008B7YK_508771\n"
     ]
    },
    {
     "ename": "IndexError",
     "evalue": "list index out of range",
     "output_type": "error",
     "traceback": [
      "\u001b[0;31m---------------------------------------------------------------------------\u001b[0m",
      "\u001b[0;31mIndexError\u001b[0m                                Traceback (most recent call last)",
      "\u001b[0;32m/var/folders/hh/5hklqj_s6750r7xj6t72sqyw0000gn/T/ipykernel_31041/3044963770.py\u001b[0m in \u001b[0;36m<module>\u001b[0;34m\u001b[0m\n\u001b[1;32m      3\u001b[0m     \u001b[0mprint\u001b[0m\u001b[0;34m(\u001b[0m\u001b[0mtree\u001b[0m\u001b[0;34m[\u001b[0m\u001b[0;36m0\u001b[0m\u001b[0;34m]\u001b[0m\u001b[0;34m)\u001b[0m\u001b[0;34m\u001b[0m\u001b[0;34m\u001b[0m\u001b[0m\n\u001b[1;32m      4\u001b[0m     \u001b[0mt1\u001b[0m \u001b[0;34m=\u001b[0m \u001b[0mphylome_tree\u001b[0m\u001b[0;34m(\u001b[0m\u001b[0;34m'0469'\u001b[0m\u001b[0;34m,\u001b[0m \u001b[0mtree\u001b[0m\u001b[0;34m[\u001b[0m\u001b[0;36m0\u001b[0m\u001b[0;34m]\u001b[0m\u001b[0;34m,\u001b[0m \u001b[0mtree\u001b[0m\u001b[0;34m[\u001b[0m\u001b[0;36m1\u001b[0m\u001b[0;34m]\u001b[0m\u001b[0;34m,\u001b[0m \u001b[0mtree\u001b[0m\u001b[0;34m[\u001b[0m\u001b[0;36m2\u001b[0m\u001b[0;34m]\u001b[0m\u001b[0;34m,\u001b[0m \u001b[0mtree\u001b[0m\u001b[0;34m[\u001b[0m\u001b[0;36m3\u001b[0m\u001b[0;34m]\u001b[0m\u001b[0;34m,\u001b[0m \u001b[0mROOTED_PHYLOMES\u001b[0m\u001b[0;34m[\u001b[0m\u001b[0;36m469\u001b[0m\u001b[0;34m]\u001b[0m\u001b[0;34m,\u001b[0m \u001b[0mprotset\u001b[0m\u001b[0;34m,\u001b[0m \u001b[0;34m'ofile_1.txt'\u001b[0m\u001b[0;34m,\u001b[0m \u001b[0;34m'ofile_2.txt'\u001b[0m\u001b[0;34m)\u001b[0m\u001b[0;34m\u001b[0m\u001b[0;34m\u001b[0m\u001b[0m\n\u001b[0;32m----> 5\u001b[0;31m     \u001b[0mt1\u001b[0m\u001b[0;34m.\u001b[0m\u001b[0mroot\u001b[0m\u001b[0;34m(\u001b[0m\u001b[0;34m)\u001b[0m\u001b[0;34m\u001b[0m\u001b[0;34m\u001b[0m\u001b[0m\n\u001b[0m",
      "\u001b[0;32m~/Documents/github/brlens/03_calc_dists/scripts/tree_funs.py\u001b[0m in \u001b[0;36mroot\u001b[0;34m(self)\u001b[0m\n\u001b[1;32m     62\u001b[0m             \u001b[0mogdval\u001b[0m \u001b[0;34m=\u001b[0m \u001b[0mmax\u001b[0m\u001b[0;34m(\u001b[0m\u001b[0;34m[\u001b[0m\u001b[0mself\u001b[0m\u001b[0;34m.\u001b[0m\u001b[0mroot_dict\u001b[0m\u001b[0;34m.\u001b[0m\u001b[0mget\u001b[0m\u001b[0;34m(\u001b[0m\u001b[0msp\u001b[0m\u001b[0;34m,\u001b[0m \u001b[0;36m0\u001b[0m\u001b[0;34m)\u001b[0m \u001b[0;32mfor\u001b[0m \u001b[0msp\u001b[0m \u001b[0;32min\u001b[0m \u001b[0mself\u001b[0m\u001b[0;34m.\u001b[0m\u001b[0mtree\u001b[0m\u001b[0;34m.\u001b[0m\u001b[0mget_species\u001b[0m\u001b[0;34m(\u001b[0m\u001b[0;34m)\u001b[0m\u001b[0;34m]\u001b[0m\u001b[0;34m)\u001b[0m\u001b[0;34m\u001b[0m\u001b[0;34m\u001b[0m\u001b[0m\n\u001b[1;32m     63\u001b[0m             \u001b[0mogsps\u001b[0m \u001b[0;34m=\u001b[0m \u001b[0;34m[\u001b[0m\u001b[0mk\u001b[0m \u001b[0;32mfor\u001b[0m \u001b[0mk\u001b[0m\u001b[0;34m,\u001b[0m \u001b[0mval\u001b[0m \u001b[0;32min\u001b[0m \u001b[0mself\u001b[0m\u001b[0;34m.\u001b[0m\u001b[0mroot_dict\u001b[0m\u001b[0;34m.\u001b[0m\u001b[0mitems\u001b[0m\u001b[0;34m(\u001b[0m\u001b[0;34m)\u001b[0m \u001b[0;32mif\u001b[0m \u001b[0mval\u001b[0m \u001b[0;34m==\u001b[0m \u001b[0mogdval\u001b[0m\u001b[0;34m]\u001b[0m\u001b[0;34m[\u001b[0m\u001b[0;36m0\u001b[0m\u001b[0;34m]\u001b[0m\u001b[0;34m\u001b[0m\u001b[0;34m\u001b[0m\u001b[0m\n\u001b[0;32m---> 64\u001b[0;31m             \u001b[0mself\u001b[0m\u001b[0;34m.\u001b[0m\u001b[0mogseq\u001b[0m \u001b[0;34m=\u001b[0m \u001b[0;34m[\u001b[0m\u001b[0mseq\u001b[0m \u001b[0;32mfor\u001b[0m \u001b[0mseq\u001b[0m \u001b[0;32min\u001b[0m \u001b[0mself\u001b[0m\u001b[0;34m.\u001b[0m\u001b[0mtree\u001b[0m\u001b[0;34m.\u001b[0m\u001b[0mget_leaf_names\u001b[0m\u001b[0;34m(\u001b[0m\u001b[0;34m)\u001b[0m \u001b[0;32mif\u001b[0m \u001b[0mogsps\u001b[0m \u001b[0;32min\u001b[0m \u001b[0mseq\u001b[0m\u001b[0;34m]\u001b[0m\u001b[0;34m[\u001b[0m\u001b[0;36m0\u001b[0m\u001b[0;34m]\u001b[0m\u001b[0;34m\u001b[0m\u001b[0;34m\u001b[0m\u001b[0m\n\u001b[0m\u001b[1;32m     65\u001b[0m         \u001b[0;32melse\u001b[0m\u001b[0;34m:\u001b[0m\u001b[0;34m\u001b[0m\u001b[0;34m\u001b[0m\u001b[0m\n\u001b[1;32m     66\u001b[0m             \u001b[0mself\u001b[0m\u001b[0;34m.\u001b[0m\u001b[0mogseq\u001b[0m \u001b[0;34m=\u001b[0m \u001b[0mself\u001b[0m\u001b[0;34m.\u001b[0m\u001b[0mtree\u001b[0m\u001b[0;34m.\u001b[0m\u001b[0mget_farthest_leaf\u001b[0m\u001b[0;34m(\u001b[0m\u001b[0;34m)\u001b[0m\u001b[0;34m[\u001b[0m\u001b[0;36m0\u001b[0m\u001b[0;34m]\u001b[0m\u001b[0;34m.\u001b[0m\u001b[0mget_leaf_names\u001b[0m\u001b[0;34m(\u001b[0m\u001b[0;34m)\u001b[0m\u001b[0;34m[\u001b[0m\u001b[0;36m0\u001b[0m\u001b[0;34m]\u001b[0m\u001b[0;34m\u001b[0m\u001b[0;34m\u001b[0m\u001b[0m\n",
      "\u001b[0;31mIndexError\u001b[0m: list index out of range"
     ]
    }
   ],
   "source": [
    "for tree in treeset:\n",
    "    tree = tree.split('\\t')\n",
    "    print(tree[0])\n",
    "    t1 = phylome_tree('0469', tree[0], tree[1], tree[2], tree[3], ROOTED_PHYLOMES[469], protset, 'ofile_1.txt', 'ofile_2.txt')\n",
    "    t1.root()"
   ]
  },
  {
   "cell_type": "code",
   "execution_count": 8,
   "id": "ef45e4ca-c61d-44ea-a8b7-baeae44e2c9e",
   "metadata": {
    "tags": []
   },
   "outputs": [
    {
     "name": "stdout",
     "output_type": "stream",
     "text": [
      "\n",
      "   /-Phy00DOH37_MAIZE\n",
      "  |\n",
      "  |   /-Phy006W167_ORYSJ\n",
      "  |  |\n",
      "  |  |   /-Phy003ZZQL_MONBE\n",
      "  |  |  |\n",
      "  |  |  |                     /-Phy00E6GIW_ORYLA\n",
      "  |  |  |                  /-|\n",
      "  |  |  |                 |   \\-Phy003749Y_DANRE\n",
      "--|  |  |               /-|\n",
      "  |  |  |              |  |   /-Phy00E6Q4T_ORYLA\n",
      "  |  |  |            /-|   \\-|\n",
      "  |  |  |           |  |      \\-Phy00E54QJ_DANRE\n",
      "  |  |  |           |  |\n",
      "  |  |  |           |   \\-Phy006SXN7_LEPOC\n",
      "  |  |  |           |\n",
      "  |  |  |           |      /-Phy0054587_CHICK\n",
      "  |  |  |           |     |\n",
      "   \\-|  |         /-|     |   /-Phy003FGZC_MONDO\n",
      "     |  |        |  |   /-|  |\n",
      "     |  |        |  |  |  |  |         /-Phy001SIYB_RAT\n",
      "     |  |        |  |  |  |  |      /-|\n",
      "     |  |        |  |  |   \\-|     |   \\-Phy0038VSY_MOUSE\n",
      "     |  |        |  |  |     |   /-|\n",
      "     |  |        |  |  |     |  |  |   /-Phy001R804_HUMAN\n",
      "     |  |        |  |  |     |  |   \\-|\n",
      "     |  |        |   \\-|     |  |     |   /-Phy002J2VN_GORGO\n",
      "     |  |        |     |      \\-|      \\-|\n",
      "     |  |        |     |        |         \\-Phy007996N_PANTR\n",
      "     |  |        |     |        |\n",
      "     |  |        |     |        |   /-Phy00EAQR8_CANFA\n",
      "     |  |        |     |         \\-|\n",
      "     |  |        |     |            \\-Phy003JHMU_BOVIN\n",
      "     |  |      /-|     |\n",
      "      \\-|     |  |      \\-Phy00EB18N_XENTR\n",
      "        |     |  |\n",
      "        |     |  |      /-Phy00EB2M3_XENTR\n",
      "        |     |  |     |\n",
      "        |     |  |     |   /-Phy00DMIZM_CHICK\n",
      "        |     |  |     |  |\n",
      "        |     |  |   /-|  |            /-Phy00EBBWU_BOVIN\n",
      "        |     |  |  |  |  |         /-|\n",
      "        |     |  |  |  |  |        |   \\-Phy0069A22_CANFA\n",
      "        |     |  |  |  |  |      /-|\n",
      "        |     |  |  |   \\-|     |  |      /-Phy003IXEN_PANTR\n",
      "        |     |  |  |     |     |  |   /-|\n",
      "        |     |  |  |     |     |   \\-|   \\-Phy001R7ZF_HUMAN\n",
      "        |     |  |  |     |   /-|     |\n",
      "        |     |   \\-|     |  |  |      \\-Phy003NC3U_GORGO\n",
      "        |     |     |     |  |  |\n",
      "        |     |     |      \\-|  |   /-Phy001RSMY_MOUSE\n",
      "        |   /-|     |        |   \\-|\n",
      "        |  |  |     |        |      \\-Phy00CEWVF_RAT\n",
      "        |  |  |     |        |\n",
      "        |  |  |     |         \\-Phy00EBIY9_MONDO\n",
      "        |  |  |     |\n",
      "        |  |  |     |   /-Phy006TAPH_LEPOC\n",
      "        |  |  |      \\-|\n",
      "        |  |  |        |   /-Phy000603Z_DANRE\n",
      "        |  |  |         \\-|\n",
      "        |  |  |            \\-Phy00E6ZSD_ORYLA\n",
      "        |  |  |\n",
      "        |  |  |            /-Phy00DNXMM_TRICA\n",
      "        |  |  |         /-|\n",
      "         \\-|  |        |  |   /-Phy0005VW2_DROME\n",
      "           |  |      /-|   \\-|\n",
      "           |  |     |  |      \\-Phy0042GUE_ANOGA\n",
      "           |  |   /-|  |\n",
      "           |  |  |  |   \\-Phy0037ZYF_IXOSC\n",
      "           |   \\-|  |\n",
      "           |     |   \\-Phy00DMZIE_CAEEL\n",
      "           |     |\n",
      "           |      \\-Phy000WUVO_BRAFL\n",
      "           |\n",
      "           |   /-Phy003UYXP_CAEEL\n",
      "           |  |\n",
      "           |  |   /-Phy000WV6W_BRAFL\n",
      "           |  |  |\n",
      "            \\-|  |   /-Phy000W6KJ_NEMVE\n",
      "              |  |  |\n",
      "              |  |  |   /-Phy000X7G5_BRAFL\n",
      "              |  |  |  |\n",
      "              |  |  |  |                  /-Phy00E53CH_DANRE\n",
      "               \\-|  |  |               /-|\n",
      "                 |  |  |            /-|   \\-Phy00E6ZSQ_ORYLA\n",
      "                 |  |  |           |  |\n",
      "                 |  |  |           |   \\-Phy006T0RM_LEPOC\n",
      "                 |  |  |           |\n",
      "                 |  |  |           |               /-Phy001RR2Q_MOUSE\n",
      "                 |  |  |           |            /-|\n",
      "                 |  |  |           |           |   \\-Phy001SHY1_RAT\n",
      "                  \\-|  |           |         /-|\n",
      "                    |  |         /-|        |  |      /-Phy00DN6SB_PANTR\n",
      "                    |  |        |  |        |  |   /-|\n",
      "                    |  |        |  |        |   \\-|   \\-Phy002JFA5_GORGO\n",
      "                    |  |        |  |      /-|     |\n",
      "                    |  |        |  |     |  |      \\-Phy00086XI_HUMAN\n",
      "                    |  |        |  |     |  |\n",
      "                    |  |        |  |   /-|  |   /-Phy00EASLV_CANFA\n",
      "                    |  |        |  |  |  |   \\-|\n",
      "                    |  |        |  |  |  |      \\-Phy00EBA5U_BOVIN\n",
      "                    |  |        |   \\-|  |\n",
      "                    |  |        |     |   \\-Phy00EBLQZ_MONDO\n",
      "                    |  |        |     |\n",
      "                     \\-|        |      \\-Phy00E5C9S_CHICK\n",
      "                       |        |\n",
      "                       |        |         /-Phy00DMFAS_CHICK\n",
      "                       |      /-|        |\n",
      "                       |     |  |        |            /-Phy00CES7X_RAT\n",
      "                       |     |  |        |         /-|\n",
      "                       |     |  |        |        |   \\-Phy000A2YP_MOUSE\n",
      "                       |     |  |        |      /-|\n",
      "                       |     |  |      /-|     |  |      /-Phy00DN7BS_PANTR\n",
      "                       |     |  |     |  |     |  |   /-|\n",
      "                       |     |  |     |  |     |   \\-|   \\-Phy00DMLGP_GORGO\n",
      "                       |     |  |     |  |   /-|     |\n",
      "                       |     |  |     |  |  |  |      \\-Phy001R6HI_HUMAN\n",
      "                       |     |  |     |  |  |  |\n",
      "                       |     |  |   /-|   \\-|  |   /-Phy0069989_CANFA\n",
      "                       |   /-|  |  |  |     |   \\-|\n",
      "                       |  |  |  |  |  |     |      \\-Phy00EB794_BOVIN\n",
      "                       |  |  |  |  |  |     |\n",
      "                       |  |  |  |  |  |      \\-Phy00EBENM_MONDO\n",
      "                       |  |  |   \\-|  |\n",
      "                       |  |  |     |   \\-Phy00EBQJ1_XENTR\n",
      "                       |  |  |     |\n",
      "                       |  |  |     |      /-Phy001QM41_DANRE\n",
      "                       |  |  |     |   /-|\n",
      "                        \\-|  |      \\-|   \\-Phy00E6J2U_ORYLA\n",
      "                          |  |        |\n",
      "                          |  |         \\-Phy006T85E_LEPOC\n",
      "                          |  |\n",
      "                          |   \\-Phy00DOTJR_CIOIN\n",
      "                          |\n",
      "                          |         /-Phy004BG04_HELRO\n",
      "                          |      /-|\n",
      "                          |   /-|   \\-Phy004BDXT_HELRO\n",
      "                          |  |  |\n",
      "                           \\-|   \\-Phy004BD0I_HELRO\n",
      "                             |\n",
      "                             |   /-Phy0010KJY_TRICA\n",
      "                              \\-|\n",
      "                                |   /-Phy0005MNZ_DROME\n",
      "                                 \\-|\n",
      "                                    \\-Phy0042IKN_ANOGA\n"
     ]
    }
   ],
   "source": [
    "print(t1.tree)"
   ]
  },
  {
   "cell_type": "code",
   "execution_count": 11,
   "id": "4ec55cb6-da25-4abf-a24d-ec59ffc14574",
   "metadata": {},
   "outputs": [
    {
     "name": "stdout",
     "output_type": "stream",
     "text": [
      "True\n",
      "{'158386': 1, 'FRAEX': 2, 'MIMGU': 3, 'SALMI': 3, 'SESIN': 3, 'UTRGI': 3, 'COFCA': 4, 'SOLLC': 4, 'HELAN': 5, 'ARATH': 6, 'AMBTC': 7}\n",
      "{'RAT', 'MONDO', 'CANFA', 'MAIZE', 'HUMAN', 'ORYLA', 'BOVIN', 'BRAFL', 'CHICK', 'XENTR', 'MOUSE', 'PANTR', 'TRICA', 'DROME', 'MONBE', 'PHYPA', 'CIOIN', 'GORGO', 'IXOSC', 'ARATH', 'ANOGA', 'DICDI', 'LEPOC', 'NEMVE', 'DANRE', 'HELRO', 'CAEEL'}\n",
      "{'158386': 1, 'FRAEX': 2, 'MIMGU': 3, 'SALMI': 3, 'SESIN': 3, 'UTRGI': 3, 'COFCA': 4, 'SOLLC': 4, 'HELAN': 5, 'ARATH': 6, 'AMBTC': 7}\n"
     ]
    },
    {
     "ename": "KeyError",
     "evalue": "'DROME'",
     "output_type": "error",
     "traceback": [
      "\u001b[0;31m---------------------------------------------------------------------------\u001b[0m",
      "\u001b[0;31mKeyError\u001b[0m                                  Traceback (most recent call last)",
      "\u001b[0;32m/var/folders/hh/5hklqj_s6750r7xj6t72sqyw0000gn/T/ipykernel_25778/3719677324.py\u001b[0m in \u001b[0;36m<module>\u001b[0;34m\u001b[0m\n\u001b[1;32m      4\u001b[0m     \u001b[0mprint\u001b[0m\u001b[0;34m(\u001b[0m\u001b[0mt1\u001b[0m\u001b[0;34m.\u001b[0m\u001b[0mtree\u001b[0m\u001b[0;34m.\u001b[0m\u001b[0mget_species\u001b[0m\u001b[0;34m(\u001b[0m\u001b[0;34m)\u001b[0m\u001b[0;34m)\u001b[0m\u001b[0;34m\u001b[0m\u001b[0;34m\u001b[0m\u001b[0m\n\u001b[1;32m      5\u001b[0m     \u001b[0mprint\u001b[0m\u001b[0;34m(\u001b[0m\u001b[0mt1\u001b[0m\u001b[0;34m.\u001b[0m\u001b[0mroot_dict\u001b[0m\u001b[0;34m)\u001b[0m\u001b[0;34m\u001b[0m\u001b[0;34m\u001b[0m\u001b[0m\n\u001b[0;32m----> 6\u001b[0;31m     \u001b[0mog\u001b[0m \u001b[0;34m=\u001b[0m \u001b[0mt1\u001b[0m\u001b[0;34m.\u001b[0m\u001b[0mtree\u001b[0m\u001b[0;34m.\u001b[0m\u001b[0mget_farthest_oldest_leaf\u001b[0m\u001b[0;34m(\u001b[0m\u001b[0mt1\u001b[0m\u001b[0;34m.\u001b[0m\u001b[0mroot_dict\u001b[0m\u001b[0;34m)\u001b[0m\u001b[0;34m\u001b[0m\u001b[0;34m\u001b[0m\u001b[0m\n\u001b[0m\u001b[1;32m      7\u001b[0m     \u001b[0mogseq\u001b[0m \u001b[0;34m=\u001b[0m \u001b[0mog\u001b[0m\u001b[0;34m.\u001b[0m\u001b[0mget_leaf_names\u001b[0m\u001b[0;34m(\u001b[0m\u001b[0;34m)\u001b[0m\u001b[0;34m[\u001b[0m\u001b[0;36m0\u001b[0m\u001b[0;34m]\u001b[0m\u001b[0;34m\u001b[0m\u001b[0;34m\u001b[0m\u001b[0m\n\u001b[1;32m      8\u001b[0m     \u001b[0mt1\u001b[0m\u001b[0;34m.\u001b[0m\u001b[0mtree\u001b[0m\u001b[0;34m.\u001b[0m\u001b[0mset_outgroup\u001b[0m\u001b[0;34m(\u001b[0m\u001b[0mog\u001b[0m\u001b[0;34m)\u001b[0m\u001b[0;34m\u001b[0m\u001b[0;34m\u001b[0m\u001b[0m\n",
      "\u001b[0;32m~/Library/Python/3.8/lib/python/site-packages/ete3/phylo/phylotree.py\u001b[0m in \u001b[0;36mget_farthest_oldest_leaf\u001b[0;34m(self, species2age, is_leaf_fn)\u001b[0m\n\u001b[1;32m    524\u001b[0m \u001b[0;34m\u001b[0m\u001b[0m\n\u001b[1;32m    525\u001b[0m         \u001b[0;32mfor\u001b[0m \u001b[0mleaf\u001b[0m \u001b[0;32min\u001b[0m \u001b[0mroot\u001b[0m\u001b[0;34m.\u001b[0m\u001b[0miter_leaves\u001b[0m\u001b[0;34m(\u001b[0m\u001b[0mis_leaf_fn\u001b[0m\u001b[0;34m=\u001b[0m\u001b[0mis_leaf_fn\u001b[0m\u001b[0;34m)\u001b[0m\u001b[0;34m:\u001b[0m\u001b[0;34m\u001b[0m\u001b[0;34m\u001b[0m\u001b[0m\n\u001b[0;32m--> 526\u001b[0;31m             \u001b[0;32mif\u001b[0m \u001b[0mleaf\u001b[0m\u001b[0;34m.\u001b[0m\u001b[0mget_age\u001b[0m\u001b[0;34m(\u001b[0m\u001b[0mspecies2age\u001b[0m\u001b[0;34m)\u001b[0m \u001b[0;34m>\u001b[0m \u001b[0moutgroup_age\u001b[0m\u001b[0;34m:\u001b[0m\u001b[0;34m\u001b[0m\u001b[0;34m\u001b[0m\u001b[0m\n\u001b[0m\u001b[1;32m    527\u001b[0m                 \u001b[0moutgroup_dist\u001b[0m \u001b[0;34m=\u001b[0m \u001b[0mleaf\u001b[0m\u001b[0;34m.\u001b[0m\u001b[0mget_distance\u001b[0m\u001b[0;34m(\u001b[0m\u001b[0mself\u001b[0m\u001b[0;34m)\u001b[0m\u001b[0;34m\u001b[0m\u001b[0;34m\u001b[0m\u001b[0m\n\u001b[1;32m    528\u001b[0m                 \u001b[0moutgroup_node\u001b[0m \u001b[0;34m=\u001b[0m \u001b[0mleaf\u001b[0m\u001b[0;34m\u001b[0m\u001b[0;34m\u001b[0m\u001b[0m\n",
      "\u001b[0;32m~/Library/Python/3.8/lib/python/site-packages/ete3/phylo/phylotree.py\u001b[0m in \u001b[0;36mget_age\u001b[0;34m(self, species2age)\u001b[0m\n\u001b[1;32m    471\u001b[0m         \u001b[0;36m38\u001b[0m\u001b[0;34m-\u001b[0m\u001b[0;36m45.\u001b[0m\u001b[0;34m\u001b[0m\u001b[0;34m\u001b[0m\u001b[0m\n\u001b[1;32m    472\u001b[0m         \"\"\"\n\u001b[0;32m--> 473\u001b[0;31m         \u001b[0;32mreturn\u001b[0m \u001b[0mmax\u001b[0m\u001b[0;34m(\u001b[0m\u001b[0;34m[\u001b[0m\u001b[0mspecies2age\u001b[0m\u001b[0;34m[\u001b[0m\u001b[0msp\u001b[0m\u001b[0;34m]\u001b[0m \u001b[0;32mfor\u001b[0m \u001b[0msp\u001b[0m \u001b[0;32min\u001b[0m \u001b[0mself\u001b[0m\u001b[0;34m.\u001b[0m\u001b[0mget_species\u001b[0m\u001b[0;34m(\u001b[0m\u001b[0;34m)\u001b[0m\u001b[0;34m]\u001b[0m\u001b[0;34m)\u001b[0m\u001b[0;34m\u001b[0m\u001b[0;34m\u001b[0m\u001b[0m\n\u001b[0m\u001b[1;32m    474\u001b[0m \u001b[0;34m\u001b[0m\u001b[0m\n\u001b[1;32m    475\u001b[0m     \u001b[0;32mdef\u001b[0m \u001b[0mreconcile\u001b[0m\u001b[0;34m(\u001b[0m\u001b[0mself\u001b[0m\u001b[0;34m,\u001b[0m \u001b[0mspecies_tree\u001b[0m\u001b[0;34m)\u001b[0m\u001b[0;34m:\u001b[0m\u001b[0;34m\u001b[0m\u001b[0;34m\u001b[0m\u001b[0m\n",
      "\u001b[0;32m~/Library/Python/3.8/lib/python/site-packages/ete3/phylo/phylotree.py\u001b[0m in \u001b[0;36m<listcomp>\u001b[0;34m(.0)\u001b[0m\n\u001b[1;32m    471\u001b[0m         \u001b[0;36m38\u001b[0m\u001b[0;34m-\u001b[0m\u001b[0;36m45.\u001b[0m\u001b[0;34m\u001b[0m\u001b[0;34m\u001b[0m\u001b[0m\n\u001b[1;32m    472\u001b[0m         \"\"\"\n\u001b[0;32m--> 473\u001b[0;31m         \u001b[0;32mreturn\u001b[0m \u001b[0mmax\u001b[0m\u001b[0;34m(\u001b[0m\u001b[0;34m[\u001b[0m\u001b[0mspecies2age\u001b[0m\u001b[0;34m[\u001b[0m\u001b[0msp\u001b[0m\u001b[0;34m]\u001b[0m \u001b[0;32mfor\u001b[0m \u001b[0msp\u001b[0m \u001b[0;32min\u001b[0m \u001b[0mself\u001b[0m\u001b[0;34m.\u001b[0m\u001b[0mget_species\u001b[0m\u001b[0;34m(\u001b[0m\u001b[0;34m)\u001b[0m\u001b[0;34m]\u001b[0m\u001b[0;34m)\u001b[0m\u001b[0;34m\u001b[0m\u001b[0;34m\u001b[0m\u001b[0m\n\u001b[0m\u001b[1;32m    474\u001b[0m \u001b[0;34m\u001b[0m\u001b[0m\n\u001b[1;32m    475\u001b[0m     \u001b[0;32mdef\u001b[0m \u001b[0mreconcile\u001b[0m\u001b[0;34m(\u001b[0m\u001b[0mself\u001b[0m\u001b[0;34m,\u001b[0m \u001b[0mspecies_tree\u001b[0m\u001b[0;34m)\u001b[0m\u001b[0;34m:\u001b[0m\u001b[0;34m\u001b[0m\u001b[0;34m\u001b[0m\u001b[0m\n",
      "\u001b[0;31mKeyError\u001b[0m: 'DROME'"
     ]
    }
   ],
   "source": [
    "print(any(sp in t1.root_dict for sp in t1.tree.get_species()))\n",
    "if any(sp in t1.root_dict for sp in t1.tree.get_species()):\n",
    "    print(t1.root_dict)\n",
    "    print(t1.tree.get_species())\n",
    "    og = t1.tree.get_farthest_oldest_leaf(t1.root_dict)\n",
    "    ogseq = og.get_leaf_names()[0]\n",
    "    t1.tree.set_outgroup(og)\n",
    "else:\n",
    "    og = t1.tree.get_farthest_leaf()[0]\n",
    "    ogseq = og.get_leaf_names()[0]\n",
    "    t1.tree.set_outgroup(og)"
   ]
  },
  {
   "cell_type": "code",
   "execution_count": 8,
   "id": "4acc9ba6-3151-41ca-90e6-c5b86a0e4a49",
   "metadata": {},
   "outputs": [
    {
     "name": "stdout",
     "output_type": "stream",
     "text": [
      "\n",
      "   /-Phy0005MO9_DROME\n",
      "  |\n",
      "  |--Phy000T7V3_ANOGA\n",
      "  |\n",
      "  |   /-Phy00DNWTJ_TRICA\n",
      "  |  |\n",
      "  |  |                                 /-Phy00EB7XX_BOVIN\n",
      "  |  |                              /-|\n",
      "  |  |                             |   \\-Phy00EAQQ1_CANFA\n",
      "  |  |                           /-|\n",
      "  |  |                          |  |      /-Phy00DN54K_PANTR\n",
      "  |  |                          |  |   /-|\n",
      "  |  |                          |   \\-|   \\-Phy00DMTY8_GORGO\n",
      "  |  |                        /-|     |\n",
      "  |  |                       |  |      \\-Phy001R5HR_HUMAN\n",
      "  |  |                       |  |\n",
      "  |  |                     /-|  |   /-Phy00CEWVC_RAT\n",
      "  |  |                    |  |   \\-|\n",
      "  |  |                    |  |      \\-Phy001RPXR_MOUSE\n",
      "  |  |                  /-|  |\n",
      "  |  |                 |  |   \\-Phy00E56HB_CHICK\n",
      "  |  |                 |  |\n",
      "  |  |               /-|   \\-Phy00EK9LI_XENTR\n",
      "  |  |              |  |\n",
      "  |  |              |  |      /-Phy00E6WEU_ORYLA\n",
      "  |  |              |  |   /-|\n",
      "  |  |              |   \\-|   \\-Phy004M567_DANRE\n",
      "  |  |              |     |\n",
      "  |  |              |      \\-Phy006SWAZ_LEPOC\n",
      "  |  |              |\n",
      "  |  |              |                  /-Phy00EB6KR_BOVIN\n",
      "  |  |              |               /-|\n",
      "  |  |              |              |   \\-Phy00EAY0R_CANFA\n",
      "  |  |              |            /-|\n",
      "--|  |            /-|           |  |   /-Phy0038REM_MOUSE\n",
      "  |  |           |  |           |   \\-|\n",
      "  |  |           |  |         /-|      \\-Phy00CET2R_RAT\n",
      "  |  |           |  |        |  |\n",
      "  |  |           |  |        |  |      /-Phy00DN6TJ_PANTR\n",
      "  |  |           |  |        |  |   /-|\n",
      "  |  |           |  |      /-|   \\-|   \\-Phy00DMSC8_GORGO\n",
      "  |  |           |  |     |  |     |\n",
      "  |  |           |  |     |  |      \\-Phy0024H8W_HUMAN\n",
      "  |  |           |  |   /-|  |\n",
      "  |  |           |  |  |  |   \\-Phy00EBEO0_MONDO\n",
      "  |  |           |  |  |  |\n",
      "  |  |           |   \\-|   \\-Phy00EK9EY_XENTR\n",
      "  |  |           |     |\n",
      "  |  |           |     |      /-Phy00E71G0_ORYLA\n",
      "  |  |           |     |   /-|\n",
      "  |  |           |      \\-|   \\-Phy004M71F_DANRE\n",
      "  |  |           |        |\n",
      "  |  |         /-|         \\-Phy006T2D7_LEPOC\n",
      "  |  |        |  |\n",
      "  |  |        |  |               /-Phy00EAPT6_CANFA\n",
      "  |  |        |  |              |\n",
      "  |  |        |  |            /-|      /-Phy0038WD5_MOUSE\n",
      "  |  |        |  |           |  |   /-|\n",
      "  |  |        |  |           |  |  |   \\-Phy006BDDC_RAT\n",
      "  |  |        |  |           |   \\-|\n",
      "  |  |        |  |           |     |      /-Phy00DMNVB_GORGO\n",
      "  |  |        |  |         /-|     |   /-|\n",
      "  |  |        |  |        |  |      \\-|   \\-Phy0026GNM_HUMAN\n",
      "  |  |        |  |        |  |        |\n",
      "  |  |        |  |      /-|  |         \\-Phy00DNCC2_PANTR\n",
      "  |  |      /-|  |     |  |  |\n",
      "  |  |     |  |  |     |  |   \\-Phy00691O6_BOVIN\n",
      "  |  |     |  |  |   /-|  |\n",
      "   \\-|     |  |  |  |  |   \\-Phy00E56AQ_CHICK\n",
      "     |     |  |  |  |  |\n",
      "     |     |  |   \\-|   \\-Phy00EK6LN_XENTR\n",
      "     |     |  |     |\n",
      "     |     |  |     |   /-Phy006T9F6_LEPOC\n",
      "     |     |  |      \\-|\n",
      "     |     |  |        |   /-Phy004M34L_DANRE\n",
      "     |     |  |         \\-|\n",
      "     |     |  |            \\-Phy00E71VL_ORYLA\n",
      "     |     |  |\n",
      "     |     |  |   /-Phy000WL2H_NEMVE\n",
      "     |     |   \\-|\n",
      "     |     |      \\-Phy000WYRT_BRAFL\n",
      "     |     |\n",
      "     |     |   /-Phy00DOOKH_CIOIN\n",
      "     |     |  |\n",
      "     |   /-|  |   /-Phy0003E05_CAEEL\n",
      "     |  |  |  |  |\n",
      "     |  |  |  |  |                                             /-Phy00DN3RH_PANTR\n",
      "     |  |  |  |  |                                          /-|\n",
      "     |  |  |  |  |                                         |   \\-Phy001RPXT_MOUSE\n",
      "     |  |  |  |  |                                       /-|\n",
      "     |  |  |  |  |                                      |  |   /-Phy00DMTVW_GORGO\n",
      "     |  |  |  |  |                                    /-|   \\-|\n",
      "     |  |  |  |  |                                   |  |      \\-Phy00695Q9_BOVIN\n",
      "     |  |  |  |  |                                 /-|  |\n",
      "     |  |  |  |  |                                |  |   \\-Phy001R5HS_HUMAN\n",
      "     |  |  |  |  |                              /-|  |\n",
      "     |  |  |  |  |                             |  |   \\-Phy00EAT06_CANFA\n",
      "     |  |  |  |  |                           /-|  |\n",
      "     |  |  |  |  |                          |  |   \\-Phy00EBLUN_MONDO\n",
      "     |  |  |  |  |                          |  |\n",
      "     |  |  |  |  |                        /-|   \\-Phy00547PD_CHICK\n",
      "     |  |  |  |  |                       |  |\n",
      "     |  |  |  |  |                       |  |   /-Phy00E4V66_DANRE\n",
      "     |  |  |  |  |                       |   \\-|\n",
      "     |  |   \\-|  |                       |     |   /-Phy006SWOB_LEPOC\n",
      "     |  |     |  |                       |      \\-|\n",
      "     |  |     |  |                       |        |   /-Phy00DM7ZM_DANRE\n",
      "     |  |     |  |                       |         \\-|\n",
      "     |  |     |  |                     /-|            \\-Phy00E6JWH_ORYLA\n",
      "     |  |     |  |                    |  |\n",
      "     |  |     |  |                    |  |      /-Phy00DM7H5_DANRE\n",
      "     |  |     |  |                    |  |   /-|\n",
      "     |  |     |  |                    |  |  |   \\-Phy006T59C_LEPOC\n",
      "     |  |     |  |                    |  |  |\n",
      "     |  |     |  |                    |  |  |   /-Phy00EAZDL_XENTR\n",
      "     |  |     |  |                    |  |  |  |\n",
      "     |  |     |  |                    |   \\-|  |            /-Phy00EAULR_CANFA\n",
      "     |  |     |  |                    |     |  |           |\n",
      "     |  |     |  |                    |     |  |         /-|      /-Phy00CESKF_RAT\n",
      "     |  |     |  |                    |     |  |        |  |   /-|\n",
      "     |  |     |  |                    |     |  |        |  |  |   \\-Phy00391IW_MOUSE\n",
      "     |  |     |  |                    |      \\-|        |   \\-|\n",
      "     |  |     |  |                    |        |        |     |      /-Phy00DNAQV_PANTR\n",
      "     |  |     |  |                    |        |      /-|     |   /-|\n",
      "     |  |     |  |                  /-|        |     |  |      \\-|   \\-Phy0024HGS_HUMAN\n",
      "     |  |     |  |                 |  |        |     |  |        |\n",
      "     |  |     |  |                 |  |        |   /-|  |         \\-Phy002IYBX_GORGO\n",
      "     |  |      \\-|                 |  |        |  |  |  |\n",
      "     |  |        |                 |  |        |  |  |   \\-Phy00EB85X_BOVIN\n",
      "     |  |        |                 |  |         \\-|  |\n",
      "     |  |        |                 |  |           |   \\-Phy00EBJE8_MONDO\n",
      "     |  |        |                 |  |           |\n",
      "      \\-|        |                 |  |            \\-Phy00DMH3N_CHICK\n",
      "        |        |                 |  |\n",
      "        |        |                 |  |      /-Phy006T13U_LEPOC\n",
      "        |        |                 |  |   /-|\n",
      "        |        |                 |  |  |   \\-Phy00DM38D_DANRE\n",
      "        |        |                 |  |  |\n",
      "        |        |               /-|  |  |      /-Phy00EB8SD_BOVIN\n",
      "        |        |              |  |  |  |     |\n",
      "        |        |              |  |   \\-|   /-|   /-Phy00EAV1U_CANFA\n",
      "        |        |              |  |     |  |  |  |\n",
      "        |        |              |  |     |  |  |  |         /-Phy00DMVVR_GORGO\n",
      "        |        |              |  |     |  |   \\-|      /-|\n",
      "        |        |              |  |     |  |     |   /-|   \\-Phy0008BGD_HUMAN\n",
      "        |        |              |  |      \\-|     |  |  |\n",
      "        |        |            /-|  |        |      \\-|   \\-Phy00DNBXI_PANTR\n",
      "        |        |           |  |  |        |        |\n",
      "        |        |           |  |  |        |         \\-Phy001RPXJ_MOUSE\n",
      "        |        |           |  |  |        |\n",
      "        |        |           |  |  |         \\-Phy00E5F2U_CHICK\n",
      "        |        |           |  |  |\n",
      "        |        |         /-|  |   \\-Phy00DOOWI_CIOIN\n",
      "        |        |        |  |  |\n",
      "        |        |        |  |   \\-Phy000WQK2_BRAFL\n",
      "        |        |        |  |\n",
      "        |        |        |  |      /-Phy000Z2B2_TRICA\n",
      "        |        |        |  |   /-|\n",
      "        |        |      /-|  |  |  |   /-Phy006F83I_DROME\n",
      "        |        |     |  |   \\-|   \\-|\n",
      "        |        |     |  |     |      \\-Phy000T6T2_ANOGA\n",
      "        |        |     |  |     |\n",
      "        |        |     |  |      \\-Phy0038689_IXOSC\n",
      "        |        |   /-|  |\n",
      "        |        |  |  |   \\-Phy0040443_MONBE\n",
      "        |        |  |  |\n",
      "        |        |  |  |      /-Phy0005DYV_DICDI\n",
      "        |        |  |  |   /-|\n",
      "        |        |  |  |  |   \\-Phy0005F8X_DICDI\n",
      "        |        |  |   \\-|\n",
      "        |         \\-|     |   /-Phy003T6C0_PHYPA\n",
      "        |           |      \\-|\n",
      "        |           |        |   /-Phy00019N3_ARATH\n",
      "        |           |         \\-|\n",
      "        |           |           |   /-Phy00DO754_MAIZE\n",
      "        |           |            \\-|\n",
      "        |           |               \\-Phy00DO58I_MAIZE\n",
      "        |           |\n",
      "        |            \\-Phy004023V_MONBE\n",
      "        |\n",
      "         \\-Phy004B5V3_HELRO\n"
     ]
    }
   ],
   "source": [
    "print(t1.tree)"
   ]
  },
  {
   "cell_type": "code",
   "execution_count": null,
   "id": "9f59faeb-fcfa-4267-863b-0f9d4fa32d51",
   "metadata": {},
   "outputs": [],
   "source": [
    "t1.tree.get_farthest_leaf()[0].get_leaf_names()"
   ]
  },
  {
   "cell_type": "code",
   "execution_count": 52,
   "id": "9546031d-61ba-4917-b823-83645e0baf88",
   "metadata": {},
   "outputs": [],
   "source": [
    "tree = t1.tree\n",
    "root_diction = t1.root_dict"
   ]
  },
  {
   "cell_type": "code",
   "execution_count": 15,
   "id": "ee12e361-5f0c-49d9-8422-c564403f58a0",
   "metadata": {},
   "outputs": [
    {
     "name": "stdout",
     "output_type": "stream",
     "text": [
      "True\n"
     ]
    }
   ],
   "source": [
    "print(any(sp in root_diction for sp in tree.get_species()))"
   ]
  },
  {
   "cell_type": "code",
   "execution_count": 20,
   "id": "c4eb0da4-ccc9-4e3b-9c9a-4b1fe0419fe7",
   "metadata": {},
   "outputs": [
    {
     "ename": "KeyError",
     "evalue": "'DROME'",
     "output_type": "error",
     "traceback": [
      "\u001b[0;31m---------------------------------------------------------------------------\u001b[0m",
      "\u001b[0;31mKeyError\u001b[0m                                  Traceback (most recent call last)",
      "\u001b[0;32m/var/folders/hh/5hklqj_s6750r7xj6t72sqyw0000gn/T/ipykernel_25778/1235587210.py\u001b[0m in \u001b[0;36m<module>\u001b[0;34m\u001b[0m\n\u001b[0;32m----> 1\u001b[0;31m \u001b[0mog\u001b[0m \u001b[0;34m=\u001b[0m \u001b[0mt1\u001b[0m\u001b[0;34m.\u001b[0m\u001b[0mtree\u001b[0m\u001b[0;34m.\u001b[0m\u001b[0mget_farthest_oldest_leaf\u001b[0m\u001b[0;34m(\u001b[0m\u001b[0mt1\u001b[0m\u001b[0;34m.\u001b[0m\u001b[0mroot_dict\u001b[0m\u001b[0;34m)\u001b[0m\u001b[0;34m\u001b[0m\u001b[0;34m\u001b[0m\u001b[0m\n\u001b[0m\u001b[1;32m      2\u001b[0m \u001b[0mogseq\u001b[0m \u001b[0;34m=\u001b[0m \u001b[0mog\u001b[0m\u001b[0;34m.\u001b[0m\u001b[0mget_leaf_names\u001b[0m\u001b[0;34m(\u001b[0m\u001b[0;34m)\u001b[0m\u001b[0;34m[\u001b[0m\u001b[0;36m0\u001b[0m\u001b[0;34m]\u001b[0m\u001b[0;34m\u001b[0m\u001b[0;34m\u001b[0m\u001b[0m\n\u001b[1;32m      3\u001b[0m \u001b[0mt1\u001b[0m\u001b[0;34m.\u001b[0m\u001b[0mtree\u001b[0m\u001b[0;34m.\u001b[0m\u001b[0mset_outgroup\u001b[0m\u001b[0;34m(\u001b[0m\u001b[0mog\u001b[0m\u001b[0;34m)\u001b[0m\u001b[0;34m\u001b[0m\u001b[0;34m\u001b[0m\u001b[0m\n",
      "\u001b[0;32m~/Library/Python/3.8/lib/python/site-packages/ete3/phylo/phylotree.py\u001b[0m in \u001b[0;36mget_farthest_oldest_leaf\u001b[0;34m(self, species2age, is_leaf_fn)\u001b[0m\n\u001b[1;32m    524\u001b[0m \u001b[0;34m\u001b[0m\u001b[0m\n\u001b[1;32m    525\u001b[0m         \u001b[0;32mfor\u001b[0m \u001b[0mleaf\u001b[0m \u001b[0;32min\u001b[0m \u001b[0mroot\u001b[0m\u001b[0;34m.\u001b[0m\u001b[0miter_leaves\u001b[0m\u001b[0;34m(\u001b[0m\u001b[0mis_leaf_fn\u001b[0m\u001b[0;34m=\u001b[0m\u001b[0mis_leaf_fn\u001b[0m\u001b[0;34m)\u001b[0m\u001b[0;34m:\u001b[0m\u001b[0;34m\u001b[0m\u001b[0;34m\u001b[0m\u001b[0m\n\u001b[0;32m--> 526\u001b[0;31m             \u001b[0;32mif\u001b[0m \u001b[0mleaf\u001b[0m\u001b[0;34m.\u001b[0m\u001b[0mget_age\u001b[0m\u001b[0;34m(\u001b[0m\u001b[0mspecies2age\u001b[0m\u001b[0;34m)\u001b[0m \u001b[0;34m>\u001b[0m \u001b[0moutgroup_age\u001b[0m\u001b[0;34m:\u001b[0m\u001b[0;34m\u001b[0m\u001b[0;34m\u001b[0m\u001b[0m\n\u001b[0m\u001b[1;32m    527\u001b[0m                 \u001b[0moutgroup_dist\u001b[0m \u001b[0;34m=\u001b[0m \u001b[0mleaf\u001b[0m\u001b[0;34m.\u001b[0m\u001b[0mget_distance\u001b[0m\u001b[0;34m(\u001b[0m\u001b[0mself\u001b[0m\u001b[0;34m)\u001b[0m\u001b[0;34m\u001b[0m\u001b[0;34m\u001b[0m\u001b[0m\n\u001b[1;32m    528\u001b[0m                 \u001b[0moutgroup_node\u001b[0m \u001b[0;34m=\u001b[0m \u001b[0mleaf\u001b[0m\u001b[0;34m\u001b[0m\u001b[0;34m\u001b[0m\u001b[0m\n",
      "\u001b[0;32m~/Library/Python/3.8/lib/python/site-packages/ete3/phylo/phylotree.py\u001b[0m in \u001b[0;36mget_age\u001b[0;34m(self, species2age)\u001b[0m\n\u001b[1;32m    471\u001b[0m         \u001b[0;36m38\u001b[0m\u001b[0;34m-\u001b[0m\u001b[0;36m45.\u001b[0m\u001b[0;34m\u001b[0m\u001b[0;34m\u001b[0m\u001b[0m\n\u001b[1;32m    472\u001b[0m         \"\"\"\n\u001b[0;32m--> 473\u001b[0;31m         \u001b[0;32mreturn\u001b[0m \u001b[0mmax\u001b[0m\u001b[0;34m(\u001b[0m\u001b[0;34m[\u001b[0m\u001b[0mspecies2age\u001b[0m\u001b[0;34m[\u001b[0m\u001b[0msp\u001b[0m\u001b[0;34m]\u001b[0m \u001b[0;32mfor\u001b[0m \u001b[0msp\u001b[0m \u001b[0;32min\u001b[0m \u001b[0mself\u001b[0m\u001b[0;34m.\u001b[0m\u001b[0mget_species\u001b[0m\u001b[0;34m(\u001b[0m\u001b[0;34m)\u001b[0m\u001b[0;34m]\u001b[0m\u001b[0;34m)\u001b[0m\u001b[0;34m\u001b[0m\u001b[0;34m\u001b[0m\u001b[0m\n\u001b[0m\u001b[1;32m    474\u001b[0m \u001b[0;34m\u001b[0m\u001b[0m\n\u001b[1;32m    475\u001b[0m     \u001b[0;32mdef\u001b[0m \u001b[0mreconcile\u001b[0m\u001b[0;34m(\u001b[0m\u001b[0mself\u001b[0m\u001b[0;34m,\u001b[0m \u001b[0mspecies_tree\u001b[0m\u001b[0;34m)\u001b[0m\u001b[0;34m:\u001b[0m\u001b[0;34m\u001b[0m\u001b[0;34m\u001b[0m\u001b[0m\n",
      "\u001b[0;32m~/Library/Python/3.8/lib/python/site-packages/ete3/phylo/phylotree.py\u001b[0m in \u001b[0;36m<listcomp>\u001b[0;34m(.0)\u001b[0m\n\u001b[1;32m    471\u001b[0m         \u001b[0;36m38\u001b[0m\u001b[0;34m-\u001b[0m\u001b[0;36m45.\u001b[0m\u001b[0;34m\u001b[0m\u001b[0;34m\u001b[0m\u001b[0m\n\u001b[1;32m    472\u001b[0m         \"\"\"\n\u001b[0;32m--> 473\u001b[0;31m         \u001b[0;32mreturn\u001b[0m \u001b[0mmax\u001b[0m\u001b[0;34m(\u001b[0m\u001b[0;34m[\u001b[0m\u001b[0mspecies2age\u001b[0m\u001b[0;34m[\u001b[0m\u001b[0msp\u001b[0m\u001b[0;34m]\u001b[0m \u001b[0;32mfor\u001b[0m \u001b[0msp\u001b[0m \u001b[0;32min\u001b[0m \u001b[0mself\u001b[0m\u001b[0;34m.\u001b[0m\u001b[0mget_species\u001b[0m\u001b[0;34m(\u001b[0m\u001b[0;34m)\u001b[0m\u001b[0;34m]\u001b[0m\u001b[0;34m)\u001b[0m\u001b[0;34m\u001b[0m\u001b[0;34m\u001b[0m\u001b[0m\n\u001b[0m\u001b[1;32m    474\u001b[0m \u001b[0;34m\u001b[0m\u001b[0m\n\u001b[1;32m    475\u001b[0m     \u001b[0;32mdef\u001b[0m \u001b[0mreconcile\u001b[0m\u001b[0;34m(\u001b[0m\u001b[0mself\u001b[0m\u001b[0;34m,\u001b[0m \u001b[0mspecies_tree\u001b[0m\u001b[0;34m)\u001b[0m\u001b[0;34m:\u001b[0m\u001b[0;34m\u001b[0m\u001b[0;34m\u001b[0m\u001b[0m\n",
      "\u001b[0;31mKeyError\u001b[0m: 'DROME'"
     ]
    }
   ],
   "source": [
    "og = t1.tree.get_farthest_oldest_leaf(t1.root_dict)\n",
    "ogseq = og.get_leaf_names()[0]\n",
    "t1.tree.set_outgroup(og)"
   ]
  },
  {
   "cell_type": "code",
   "execution_count": 21,
   "id": "6c95d0b1-96a9-497d-be4b-377dccfa1c46",
   "metadata": {},
   "outputs": [
    {
     "name": "stdout",
     "output_type": "stream",
     "text": [
      "{'158386': 1, 'FRAEX': 2, 'MIMGU': 3, 'SALMI': 3, 'SESIN': 3, 'UTRGI': 3, 'COFCA': 4, 'SOLLC': 4, 'HELAN': 5, 'ARATH': 6, 'AMBTC': 7}\n",
      "{'RAT', 'MONDO', 'CANFA', 'MAIZE', 'HUMAN', 'ORYLA', 'BOVIN', 'BRAFL', 'CHICK', 'XENTR', 'MOUSE', 'PANTR', 'TRICA', 'DROME', 'MONBE', 'PHYPA', 'CIOIN', 'GORGO', 'IXOSC', 'ARATH', 'ANOGA', 'DICDI', 'LEPOC', 'NEMVE', 'DANRE', 'HELRO', 'CAEEL'}\n"
     ]
    },
    {
     "ename": "KeyError",
     "evalue": "'DROME'",
     "output_type": "error",
     "traceback": [
      "\u001b[0;31m---------------------------------------------------------------------------\u001b[0m",
      "\u001b[0;31mKeyError\u001b[0m                                  Traceback (most recent call last)",
      "\u001b[0;32m/var/folders/hh/5hklqj_s6750r7xj6t72sqyw0000gn/T/ipykernel_25778/3151639592.py\u001b[0m in \u001b[0;36m<module>\u001b[0;34m\u001b[0m\n\u001b[1;32m      2\u001b[0m     \u001b[0mprint\u001b[0m\u001b[0;34m(\u001b[0m\u001b[0mt1\u001b[0m\u001b[0;34m.\u001b[0m\u001b[0mroot_dict\u001b[0m\u001b[0;34m)\u001b[0m\u001b[0;34m\u001b[0m\u001b[0;34m\u001b[0m\u001b[0m\n\u001b[1;32m      3\u001b[0m     \u001b[0mprint\u001b[0m\u001b[0;34m(\u001b[0m\u001b[0mt1\u001b[0m\u001b[0;34m.\u001b[0m\u001b[0mtree\u001b[0m\u001b[0;34m.\u001b[0m\u001b[0mget_species\u001b[0m\u001b[0;34m(\u001b[0m\u001b[0;34m)\u001b[0m\u001b[0;34m)\u001b[0m\u001b[0;34m\u001b[0m\u001b[0;34m\u001b[0m\u001b[0m\n\u001b[0;32m----> 4\u001b[0;31m     \u001b[0mog\u001b[0m \u001b[0;34m=\u001b[0m \u001b[0mt1\u001b[0m\u001b[0;34m.\u001b[0m\u001b[0mtree\u001b[0m\u001b[0;34m.\u001b[0m\u001b[0mget_farthest_oldest_leaf\u001b[0m\u001b[0;34m(\u001b[0m\u001b[0mt1\u001b[0m\u001b[0;34m.\u001b[0m\u001b[0mroot_dict\u001b[0m\u001b[0;34m)\u001b[0m\u001b[0;34m\u001b[0m\u001b[0;34m\u001b[0m\u001b[0m\n\u001b[0m\u001b[1;32m      5\u001b[0m     \u001b[0mogseq\u001b[0m \u001b[0;34m=\u001b[0m \u001b[0mog\u001b[0m\u001b[0;34m.\u001b[0m\u001b[0mget_leaf_names\u001b[0m\u001b[0;34m(\u001b[0m\u001b[0;34m)\u001b[0m\u001b[0;34m[\u001b[0m\u001b[0;36m0\u001b[0m\u001b[0;34m]\u001b[0m\u001b[0;34m\u001b[0m\u001b[0;34m\u001b[0m\u001b[0m\n\u001b[1;32m      6\u001b[0m     \u001b[0mt1\u001b[0m\u001b[0;34m.\u001b[0m\u001b[0mtree\u001b[0m\u001b[0;34m.\u001b[0m\u001b[0mset_outgroup\u001b[0m\u001b[0;34m(\u001b[0m\u001b[0mog\u001b[0m\u001b[0;34m)\u001b[0m\u001b[0;34m\u001b[0m\u001b[0;34m\u001b[0m\u001b[0m\n",
      "\u001b[0;32m~/Library/Python/3.8/lib/python/site-packages/ete3/phylo/phylotree.py\u001b[0m in \u001b[0;36mget_farthest_oldest_leaf\u001b[0;34m(self, species2age, is_leaf_fn)\u001b[0m\n\u001b[1;32m    524\u001b[0m \u001b[0;34m\u001b[0m\u001b[0m\n\u001b[1;32m    525\u001b[0m         \u001b[0;32mfor\u001b[0m \u001b[0mleaf\u001b[0m \u001b[0;32min\u001b[0m \u001b[0mroot\u001b[0m\u001b[0;34m.\u001b[0m\u001b[0miter_leaves\u001b[0m\u001b[0;34m(\u001b[0m\u001b[0mis_leaf_fn\u001b[0m\u001b[0;34m=\u001b[0m\u001b[0mis_leaf_fn\u001b[0m\u001b[0;34m)\u001b[0m\u001b[0;34m:\u001b[0m\u001b[0;34m\u001b[0m\u001b[0;34m\u001b[0m\u001b[0m\n\u001b[0;32m--> 526\u001b[0;31m             \u001b[0;32mif\u001b[0m \u001b[0mleaf\u001b[0m\u001b[0;34m.\u001b[0m\u001b[0mget_age\u001b[0m\u001b[0;34m(\u001b[0m\u001b[0mspecies2age\u001b[0m\u001b[0;34m)\u001b[0m \u001b[0;34m>\u001b[0m \u001b[0moutgroup_age\u001b[0m\u001b[0;34m:\u001b[0m\u001b[0;34m\u001b[0m\u001b[0;34m\u001b[0m\u001b[0m\n\u001b[0m\u001b[1;32m    527\u001b[0m                 \u001b[0moutgroup_dist\u001b[0m \u001b[0;34m=\u001b[0m \u001b[0mleaf\u001b[0m\u001b[0;34m.\u001b[0m\u001b[0mget_distance\u001b[0m\u001b[0;34m(\u001b[0m\u001b[0mself\u001b[0m\u001b[0;34m)\u001b[0m\u001b[0;34m\u001b[0m\u001b[0;34m\u001b[0m\u001b[0m\n\u001b[1;32m    528\u001b[0m                 \u001b[0moutgroup_node\u001b[0m \u001b[0;34m=\u001b[0m \u001b[0mleaf\u001b[0m\u001b[0;34m\u001b[0m\u001b[0;34m\u001b[0m\u001b[0m\n",
      "\u001b[0;32m~/Library/Python/3.8/lib/python/site-packages/ete3/phylo/phylotree.py\u001b[0m in \u001b[0;36mget_age\u001b[0;34m(self, species2age)\u001b[0m\n\u001b[1;32m    471\u001b[0m         \u001b[0;36m38\u001b[0m\u001b[0;34m-\u001b[0m\u001b[0;36m45.\u001b[0m\u001b[0;34m\u001b[0m\u001b[0;34m\u001b[0m\u001b[0m\n\u001b[1;32m    472\u001b[0m         \"\"\"\n\u001b[0;32m--> 473\u001b[0;31m         \u001b[0;32mreturn\u001b[0m \u001b[0mmax\u001b[0m\u001b[0;34m(\u001b[0m\u001b[0;34m[\u001b[0m\u001b[0mspecies2age\u001b[0m\u001b[0;34m[\u001b[0m\u001b[0msp\u001b[0m\u001b[0;34m]\u001b[0m \u001b[0;32mfor\u001b[0m \u001b[0msp\u001b[0m \u001b[0;32min\u001b[0m \u001b[0mself\u001b[0m\u001b[0;34m.\u001b[0m\u001b[0mget_species\u001b[0m\u001b[0;34m(\u001b[0m\u001b[0;34m)\u001b[0m\u001b[0;34m]\u001b[0m\u001b[0;34m)\u001b[0m\u001b[0;34m\u001b[0m\u001b[0;34m\u001b[0m\u001b[0m\n\u001b[0m\u001b[1;32m    474\u001b[0m \u001b[0;34m\u001b[0m\u001b[0m\n\u001b[1;32m    475\u001b[0m     \u001b[0;32mdef\u001b[0m \u001b[0mreconcile\u001b[0m\u001b[0;34m(\u001b[0m\u001b[0mself\u001b[0m\u001b[0;34m,\u001b[0m \u001b[0mspecies_tree\u001b[0m\u001b[0;34m)\u001b[0m\u001b[0;34m:\u001b[0m\u001b[0;34m\u001b[0m\u001b[0;34m\u001b[0m\u001b[0m\n",
      "\u001b[0;32m~/Library/Python/3.8/lib/python/site-packages/ete3/phylo/phylotree.py\u001b[0m in \u001b[0;36m<listcomp>\u001b[0;34m(.0)\u001b[0m\n\u001b[1;32m    471\u001b[0m         \u001b[0;36m38\u001b[0m\u001b[0;34m-\u001b[0m\u001b[0;36m45.\u001b[0m\u001b[0;34m\u001b[0m\u001b[0;34m\u001b[0m\u001b[0m\n\u001b[1;32m    472\u001b[0m         \"\"\"\n\u001b[0;32m--> 473\u001b[0;31m         \u001b[0;32mreturn\u001b[0m \u001b[0mmax\u001b[0m\u001b[0;34m(\u001b[0m\u001b[0;34m[\u001b[0m\u001b[0mspecies2age\u001b[0m\u001b[0;34m[\u001b[0m\u001b[0msp\u001b[0m\u001b[0;34m]\u001b[0m \u001b[0;32mfor\u001b[0m \u001b[0msp\u001b[0m \u001b[0;32min\u001b[0m \u001b[0mself\u001b[0m\u001b[0;34m.\u001b[0m\u001b[0mget_species\u001b[0m\u001b[0;34m(\u001b[0m\u001b[0;34m)\u001b[0m\u001b[0;34m]\u001b[0m\u001b[0;34m)\u001b[0m\u001b[0;34m\u001b[0m\u001b[0;34m\u001b[0m\u001b[0m\n\u001b[0m\u001b[1;32m    474\u001b[0m \u001b[0;34m\u001b[0m\u001b[0m\n\u001b[1;32m    475\u001b[0m     \u001b[0;32mdef\u001b[0m \u001b[0mreconcile\u001b[0m\u001b[0;34m(\u001b[0m\u001b[0mself\u001b[0m\u001b[0;34m,\u001b[0m \u001b[0mspecies_tree\u001b[0m\u001b[0;34m)\u001b[0m\u001b[0;34m:\u001b[0m\u001b[0;34m\u001b[0m\u001b[0;34m\u001b[0m\u001b[0m\n",
      "\u001b[0;31mKeyError\u001b[0m: 'DROME'"
     ]
    }
   ],
   "source": [
    "if any(sp in t1.root_dict for sp in t1.tree.get_species()):\n",
    "    print(t1.root_dict)\n",
    "    print(t1.tree.get_species())\n",
    "    og = t1.tree.get_farthest_oldest_leaf(t1.root_dict)\n",
    "    ogseq = og.get_leaf_names()[0]\n",
    "    t1.tree.set_outgroup(og)\n",
    "else:\n",
    "    og = t1.tree.get_farthest_leaf()[0]\n",
    "    ogseq = og.get_leaf_names()[0]\n",
    "    t1.tree.set_outgroup(og)"
   ]
  },
  {
   "cell_type": "code",
   "execution_count": 22,
   "id": "12911802-2909-4810-999f-6f6787f45b70",
   "metadata": {},
   "outputs": [
    {
     "data": {
      "text/plain": [
       "True"
      ]
     },
     "execution_count": 22,
     "metadata": {},
     "output_type": "execute_result"
    }
   ],
   "source": [
    "t1.tree.is_root()"
   ]
  },
  {
   "cell_type": "code",
   "execution_count": 24,
   "id": "48035334-ff85-4c44-a404-ff758ff0aae4",
   "metadata": {},
   "outputs": [],
   "source": [
    "t1.tree.set_outgroup('Phy00DNWTJ_TRICA')"
   ]
  },
  {
   "cell_type": "code",
   "execution_count": 51,
   "id": "a3ab9b0d-1304-4a46-bea1-ec71afae2bcd",
   "metadata": {},
   "outputs": [
    {
     "ename": "KeyError",
     "evalue": "'DROME'",
     "output_type": "error",
     "traceback": [
      "\u001b[0;31m---------------------------------------------------------------------------\u001b[0m",
      "\u001b[0;31mKeyError\u001b[0m                                  Traceback (most recent call last)",
      "\u001b[0;32m/var/folders/hh/5hklqj_s6750r7xj6t72sqyw0000gn/T/ipykernel_25778/1661385429.py\u001b[0m in \u001b[0;36m<module>\u001b[0;34m\u001b[0m\n\u001b[0;32m----> 1\u001b[0;31m \u001b[0mt1\u001b[0m\u001b[0;34m.\u001b[0m\u001b[0mtree\u001b[0m\u001b[0;34m.\u001b[0m\u001b[0mget_farthest_oldest_leaf\u001b[0m\u001b[0;34m(\u001b[0m\u001b[0mroot_diction\u001b[0m\u001b[0;34m)\u001b[0m\u001b[0;34m\u001b[0m\u001b[0;34m\u001b[0m\u001b[0m\n\u001b[0m",
      "\u001b[0;32m~/Library/Python/3.8/lib/python/site-packages/ete3/phylo/phylotree.py\u001b[0m in \u001b[0;36mget_farthest_oldest_leaf\u001b[0;34m(self, species2age, is_leaf_fn)\u001b[0m\n\u001b[1;32m    524\u001b[0m \u001b[0;34m\u001b[0m\u001b[0m\n\u001b[1;32m    525\u001b[0m         \u001b[0;32mfor\u001b[0m \u001b[0mleaf\u001b[0m \u001b[0;32min\u001b[0m \u001b[0mroot\u001b[0m\u001b[0;34m.\u001b[0m\u001b[0miter_leaves\u001b[0m\u001b[0;34m(\u001b[0m\u001b[0mis_leaf_fn\u001b[0m\u001b[0;34m=\u001b[0m\u001b[0mis_leaf_fn\u001b[0m\u001b[0;34m)\u001b[0m\u001b[0;34m:\u001b[0m\u001b[0;34m\u001b[0m\u001b[0;34m\u001b[0m\u001b[0m\n\u001b[0;32m--> 526\u001b[0;31m             \u001b[0;32mif\u001b[0m \u001b[0mleaf\u001b[0m\u001b[0;34m.\u001b[0m\u001b[0mget_age\u001b[0m\u001b[0;34m(\u001b[0m\u001b[0mspecies2age\u001b[0m\u001b[0;34m)\u001b[0m \u001b[0;34m>\u001b[0m \u001b[0moutgroup_age\u001b[0m\u001b[0;34m:\u001b[0m\u001b[0;34m\u001b[0m\u001b[0;34m\u001b[0m\u001b[0m\n\u001b[0m\u001b[1;32m    527\u001b[0m                 \u001b[0moutgroup_dist\u001b[0m \u001b[0;34m=\u001b[0m \u001b[0mleaf\u001b[0m\u001b[0;34m.\u001b[0m\u001b[0mget_distance\u001b[0m\u001b[0;34m(\u001b[0m\u001b[0mself\u001b[0m\u001b[0;34m)\u001b[0m\u001b[0;34m\u001b[0m\u001b[0;34m\u001b[0m\u001b[0m\n\u001b[1;32m    528\u001b[0m                 \u001b[0moutgroup_node\u001b[0m \u001b[0;34m=\u001b[0m \u001b[0mleaf\u001b[0m\u001b[0;34m\u001b[0m\u001b[0;34m\u001b[0m\u001b[0m\n",
      "\u001b[0;32m~/Library/Python/3.8/lib/python/site-packages/ete3/phylo/phylotree.py\u001b[0m in \u001b[0;36mget_age\u001b[0;34m(self, species2age)\u001b[0m\n\u001b[1;32m    471\u001b[0m         \u001b[0;36m38\u001b[0m\u001b[0;34m-\u001b[0m\u001b[0;36m45.\u001b[0m\u001b[0;34m\u001b[0m\u001b[0;34m\u001b[0m\u001b[0m\n\u001b[1;32m    472\u001b[0m         \"\"\"\n\u001b[0;32m--> 473\u001b[0;31m         \u001b[0;32mreturn\u001b[0m \u001b[0mmax\u001b[0m\u001b[0;34m(\u001b[0m\u001b[0;34m[\u001b[0m\u001b[0mspecies2age\u001b[0m\u001b[0;34m.\u001b[0m\u001b[0mget\u001b[0m\u001b[0;34m(\u001b[0m\u001b[0msp\u001b[0m\u001b[0;34m,\u001b[0m \u001b[0;36m0\u001b[0m\u001b[0;34m)\u001b[0m \u001b[0;32mfor\u001b[0m \u001b[0msp\u001b[0m \u001b[0;32min\u001b[0m \u001b[0mself\u001b[0m\u001b[0;34m.\u001b[0m\u001b[0mget_species\u001b[0m\u001b[0;34m(\u001b[0m\u001b[0;34m)\u001b[0m\u001b[0;34m]\u001b[0m\u001b[0;34m)\u001b[0m\u001b[0;34m\u001b[0m\u001b[0;34m\u001b[0m\u001b[0m\n\u001b[0m\u001b[1;32m    474\u001b[0m \u001b[0;34m\u001b[0m\u001b[0m\n\u001b[1;32m    475\u001b[0m     \u001b[0;32mdef\u001b[0m \u001b[0mreconcile\u001b[0m\u001b[0;34m(\u001b[0m\u001b[0mself\u001b[0m\u001b[0;34m,\u001b[0m \u001b[0mspecies_tree\u001b[0m\u001b[0;34m)\u001b[0m\u001b[0;34m:\u001b[0m\u001b[0;34m\u001b[0m\u001b[0;34m\u001b[0m\u001b[0m\n",
      "\u001b[0;32m~/Library/Python/3.8/lib/python/site-packages/ete3/phylo/phylotree.py\u001b[0m in \u001b[0;36m<listcomp>\u001b[0;34m(.0)\u001b[0m\n\u001b[1;32m    471\u001b[0m         \u001b[0;36m38\u001b[0m\u001b[0;34m-\u001b[0m\u001b[0;36m45.\u001b[0m\u001b[0;34m\u001b[0m\u001b[0;34m\u001b[0m\u001b[0m\n\u001b[1;32m    472\u001b[0m         \"\"\"\n\u001b[0;32m--> 473\u001b[0;31m         \u001b[0;32mreturn\u001b[0m \u001b[0mmax\u001b[0m\u001b[0;34m(\u001b[0m\u001b[0;34m[\u001b[0m\u001b[0mspecies2age\u001b[0m\u001b[0;34m.\u001b[0m\u001b[0mget\u001b[0m\u001b[0;34m(\u001b[0m\u001b[0msp\u001b[0m\u001b[0;34m,\u001b[0m \u001b[0;36m0\u001b[0m\u001b[0;34m)\u001b[0m \u001b[0;32mfor\u001b[0m \u001b[0msp\u001b[0m \u001b[0;32min\u001b[0m \u001b[0mself\u001b[0m\u001b[0;34m.\u001b[0m\u001b[0mget_species\u001b[0m\u001b[0;34m(\u001b[0m\u001b[0;34m)\u001b[0m\u001b[0;34m]\u001b[0m\u001b[0;34m)\u001b[0m\u001b[0;34m\u001b[0m\u001b[0;34m\u001b[0m\u001b[0m\n\u001b[0m\u001b[1;32m    474\u001b[0m \u001b[0;34m\u001b[0m\u001b[0m\n\u001b[1;32m    475\u001b[0m     \u001b[0;32mdef\u001b[0m \u001b[0mreconcile\u001b[0m\u001b[0;34m(\u001b[0m\u001b[0mself\u001b[0m\u001b[0;34m,\u001b[0m \u001b[0mspecies_tree\u001b[0m\u001b[0;34m)\u001b[0m\u001b[0;34m:\u001b[0m\u001b[0;34m\u001b[0m\u001b[0;34m\u001b[0m\u001b[0m\n",
      "\u001b[0;31mKeyError\u001b[0m: 'DROME'"
     ]
    }
   ],
   "source": [
    "t1.tree.get_farthest_oldest_leaf(root_diction)"
   ]
  },
  {
   "cell_type": "code",
   "execution_count": 55,
   "id": "81bc3f64-3d98-47f2-b9bc-da9db9c9fe04",
   "metadata": {},
   "outputs": [
    {
     "data": {
      "text/plain": [
       "6"
      ]
     },
     "execution_count": 55,
     "metadata": {},
     "output_type": "execute_result"
    }
   ],
   "source": [
    "max([root_diction.get(sp, 0) for sp in t1.tree.get_species()])"
   ]
  },
  {
   "cell_type": "code",
   "execution_count": 53,
   "id": "a59f78d1-f604-4295-b680-83ce807c124c",
   "metadata": {},
   "outputs": [
    {
     "data": {
      "text/plain": [
       "{'158386': 1,\n",
       " 'FRAEX': 2,\n",
       " 'MIMGU': 3,\n",
       " 'SALMI': 3,\n",
       " 'SESIN': 3,\n",
       " 'UTRGI': 3,\n",
       " 'COFCA': 4,\n",
       " 'SOLLC': 4,\n",
       " 'HELAN': 5,\n",
       " 'ARATH': 6,\n",
       " 'AMBTC': 7}"
      ]
     },
     "execution_count": 53,
     "metadata": {},
     "output_type": "execute_result"
    }
   ],
   "source": [
    "root_diction\n",
    "tree.get_species()"
   ]
  },
  {
   "cell_type": "code",
   "execution_count": 77,
   "id": "f2e49945-fdd9-4303-a042-08a9c45bd578",
   "metadata": {},
   "outputs": [],
   "source": [
    "if any(sp in t1.root_dict for sp in t1.tree.get_species()):\n",
    "    ogdval = max([t1.root_dict.get(sp, 0) for sp in t1.tree.get_species()])\n",
    "    ogsps = [k for k, val in t1.root_dict.items() if val == ogdval][0]\n",
    "    t1.ogsp = [seq for seq in t1.tree.get_leaf_names() if ogsp in seq][0]\n",
    "else:\n",
    "    t1.ogsp = t1.tree.get_farthest_leaf()[0].get_leaf_names()[0]"
   ]
  },
  {
   "cell_type": "code",
   "execution_count": 79,
   "id": "c4843665-148d-47b8-9688-2bf1161b54c9",
   "metadata": {},
   "outputs": [],
   "source": [
    "t1.tree.set_outgroup(t1.ogsp)"
   ]
  },
  {
   "cell_type": "code",
   "execution_count": 80,
   "id": "8dcf0aab-75c9-41f8-bdf9-93cff1fcf334",
   "metadata": {},
   "outputs": [
    {
     "name": "stdout",
     "output_type": "stream",
     "text": [
      "\n",
      "   /-Phy00019N3_ARATH\n",
      "  |\n",
      "  |      /-Phy00DO754_MAIZE\n",
      "  |   /-|\n",
      "  |  |   \\-Phy00DO58I_MAIZE\n",
      "  |  |\n",
      "  |  |   /-Phy003T6C0_PHYPA\n",
      "--|  |  |\n",
      "  |  |  |      /-Phy0005DYV_DICDI\n",
      "  |  |  |   /-|\n",
      "  |  |  |  |   \\-Phy0005F8X_DICDI\n",
      "  |  |  |  |\n",
      "  |  |  |  |                                          /-Phy00DN3RH_PANTR\n",
      "  |  |  |  |                                       /-|\n",
      "  |  |  |  |                                      |   \\-Phy001RPXT_MOUSE\n",
      "   \\-|  |  |                                    /-|\n",
      "     |  |  |                                   |  |   /-Phy00DMTVW_GORGO\n",
      "     |  |  |                                 /-|   \\-|\n",
      "     |  |  |                                |  |      \\-Phy00695Q9_BOVIN\n",
      "     |  |  |                              /-|  |\n",
      "     |  |  |                             |  |   \\-Phy001R5HS_HUMAN\n",
      "     |  |  |                           /-|  |\n",
      "     |  |  |                          |  |   \\-Phy00EAT06_CANFA\n",
      "     |  |  |                        /-|  |\n",
      "     |  |  |                       |  |   \\-Phy00EBLUN_MONDO\n",
      "     |  |  |                       |  |\n",
      "     |  |  |                     /-|   \\-Phy00547PD_CHICK\n",
      "     |  |  |                    |  |\n",
      "      \\-|  |                    |  |   /-Phy00E4V66_DANRE\n",
      "        |  |                    |   \\-|\n",
      "        |  |                    |     |   /-Phy006SWOB_LEPOC\n",
      "        |  |                    |      \\-|\n",
      "        |  |                    |        |   /-Phy00DM7ZM_DANRE\n",
      "        |  |                    |         \\-|\n",
      "        |  |                  /-|            \\-Phy00E6JWH_ORYLA\n",
      "        |  |                 |  |\n",
      "        |  |                 |  |      /-Phy00DM7H5_DANRE\n",
      "        |  |                 |  |   /-|\n",
      "        |  |                 |  |  |   \\-Phy006T59C_LEPOC\n",
      "        |  |                 |  |  |\n",
      "        |  |                 |  |  |   /-Phy00EAZDL_XENTR\n",
      "        |  |                 |  |  |  |\n",
      "        |  |                 |   \\-|  |            /-Phy00EAULR_CANFA\n",
      "        |  |                 |     |  |           |\n",
      "        |  |                 |     |  |         /-|      /-Phy00CESKF_RAT\n",
      "        |  |                 |     |  |        |  |   /-|\n",
      "        |  |                 |     |  |        |  |  |   \\-Phy00391IW_MOUSE\n",
      "        |  |                 |      \\-|        |   \\-|\n",
      "        |  |                 |        |        |     |      /-Phy00DNAQV_PANTR\n",
      "        |  |                 |        |      /-|     |   /-|\n",
      "        |  |               /-|        |     |  |      \\-|   \\-Phy0024HGS_HUMAN\n",
      "         \\-|              |  |        |     |  |        |\n",
      "           |              |  |        |   /-|  |         \\-Phy002IYBX_GORGO\n",
      "           |              |  |        |  |  |  |\n",
      "           |              |  |        |  |  |   \\-Phy00EB85X_BOVIN\n",
      "           |              |  |         \\-|  |\n",
      "           |              |  |           |   \\-Phy00EBJE8_MONDO\n",
      "           |              |  |           |\n",
      "           |              |  |            \\-Phy00DMH3N_CHICK\n",
      "           |              |  |\n",
      "           |              |  |      /-Phy006T13U_LEPOC\n",
      "           |              |  |   /-|\n",
      "           |              |  |  |   \\-Phy00DM38D_DANRE\n",
      "           |              |  |  |\n",
      "           |            /-|  |  |      /-Phy00EB8SD_BOVIN\n",
      "           |           |  |  |  |     |\n",
      "           |           |  |   \\-|   /-|   /-Phy00EAV1U_CANFA\n",
      "           |           |  |     |  |  |  |\n",
      "           |           |  |     |  |  |  |         /-Phy00DMVVR_GORGO\n",
      "           |           |  |     |  |   \\-|      /-|\n",
      "           |           |  |     |  |     |   /-|   \\-Phy0008BGD_HUMAN\n",
      "           |           |  |      \\-|     |  |  |\n",
      "           |         /-|  |        |      \\-|   \\-Phy00DNBXI_PANTR\n",
      "           |        |  |  |        |        |\n",
      "           |        |  |  |        |         \\-Phy001RPXJ_MOUSE\n",
      "           |        |  |  |        |\n",
      "           |        |  |  |         \\-Phy00E5F2U_CHICK\n",
      "           |        |  |  |\n",
      "           |      /-|  |   \\-Phy00DOOWI_CIOIN\n",
      "           |     |  |  |\n",
      "           |     |  |   \\-Phy000WQK2_BRAFL\n",
      "           |     |  |\n",
      "           |     |  |      /-Phy000Z2B2_TRICA\n",
      "           |     |  |   /-|\n",
      "           |   /-|  |  |  |   /-Phy006F83I_DROME\n",
      "           |  |  |   \\-|   \\-|\n",
      "           |  |  |     |      \\-Phy000T6T2_ANOGA\n",
      "           |  |  |     |\n",
      "           |  |  |      \\-Phy0038689_IXOSC\n",
      "           |  |  |\n",
      "           |  |   \\-Phy0040443_MONBE\n",
      "           |  |\n",
      "           |  |   /-Phy004023V_MONBE\n",
      "            \\-|  |\n",
      "              |  |   /-Phy0003E05_CAEEL\n",
      "              |  |  |\n",
      "              |  |  |   /-Phy00DOOKH_CIOIN\n",
      "              |  |  |  |\n",
      "              |  |  |  |                              /-Phy00EB7XX_BOVIN\n",
      "              |  |  |  |                           /-|\n",
      "              |  |  |  |                          |   \\-Phy00EAQQ1_CANFA\n",
      "              |  |  |  |                        /-|\n",
      "               \\-|  |  |                       |  |      /-Phy00DN54K_PANTR\n",
      "                 |  |  |                       |  |   /-|\n",
      "                 |  |  |                       |   \\-|   \\-Phy00DMTY8_GORGO\n",
      "                 |  |  |                     /-|     |\n",
      "                 |  |  |                    |  |      \\-Phy001R5HR_HUMAN\n",
      "                 |  |  |                    |  |\n",
      "                 |  |  |                  /-|  |   /-Phy00CEWVC_RAT\n",
      "                 |  |  |                 |  |   \\-|\n",
      "                 |  |  |                 |  |      \\-Phy001RPXR_MOUSE\n",
      "                 |  |  |               /-|  |\n",
      "                  \\-|  |              |  |   \\-Phy00E56HB_CHICK\n",
      "                    |  |              |  |\n",
      "                    |  |            /-|   \\-Phy00EK9LI_XENTR\n",
      "                    |  |           |  |\n",
      "                    |  |           |  |      /-Phy00E6WEU_ORYLA\n",
      "                    |  |           |  |   /-|\n",
      "                    |  |           |   \\-|   \\-Phy004M567_DANRE\n",
      "                    |  |           |     |\n",
      "                    |  |           |      \\-Phy006SWAZ_LEPOC\n",
      "                    |  |           |\n",
      "                    |  |           |                  /-Phy00EB6KR_BOVIN\n",
      "                    |  |           |               /-|\n",
      "                    |  |           |              |   \\-Phy00EAY0R_CANFA\n",
      "                    |  |           |            /-|\n",
      "                    |  |         /-|           |  |   /-Phy0038REM_MOUSE\n",
      "                    |  |        |  |           |   \\-|\n",
      "                    |  |        |  |         /-|      \\-Phy00CET2R_RAT\n",
      "                    |  |        |  |        |  |\n",
      "                    |  |        |  |        |  |      /-Phy00DN6TJ_PANTR\n",
      "                     \\-|        |  |        |  |   /-|\n",
      "                       |        |  |      /-|   \\-|   \\-Phy00DMSC8_GORGO\n",
      "                       |        |  |     |  |     |\n",
      "                       |        |  |     |  |      \\-Phy0024H8W_HUMAN\n",
      "                       |        |  |   /-|  |\n",
      "                       |        |  |  |  |   \\-Phy00EBEO0_MONDO\n",
      "                       |        |  |  |  |\n",
      "                       |        |   \\-|   \\-Phy00EK9EY_XENTR\n",
      "                       |        |     |\n",
      "                       |        |     |      /-Phy00E71G0_ORYLA\n",
      "                       |        |     |   /-|\n",
      "                       |        |      \\-|   \\-Phy004M71F_DANRE\n",
      "                       |        |        |\n",
      "                       |      /-|         \\-Phy006T2D7_LEPOC\n",
      "                       |     |  |\n",
      "                       |     |  |               /-Phy00EAPT6_CANFA\n",
      "                       |     |  |              |\n",
      "                       |     |  |            /-|      /-Phy0038WD5_MOUSE\n",
      "                       |     |  |           |  |   /-|\n",
      "                       |     |  |           |  |  |   \\-Phy006BDDC_RAT\n",
      "                       |     |  |           |   \\-|\n",
      "                       |     |  |           |     |      /-Phy00DMNVB_GORGO\n",
      "                       |     |  |         /-|     |   /-|\n",
      "                       |     |  |        |  |      \\-|   \\-Phy0026GNM_HUMAN\n",
      "                       |     |  |        |  |        |\n",
      "                       |     |  |      /-|  |         \\-Phy00DNCC2_PANTR\n",
      "                       |   /-|  |     |  |  |\n",
      "                       |  |  |  |     |  |   \\-Phy00691O6_BOVIN\n",
      "                       |  |  |  |   /-|  |\n",
      "                       |  |  |  |  |  |   \\-Phy00E56AQ_CHICK\n",
      "                       |  |  |  |  |  |\n",
      "                       |  |  |   \\-|   \\-Phy00EK6LN_XENTR\n",
      "                       |  |  |     |\n",
      "                       |  |  |     |   /-Phy006T9F6_LEPOC\n",
      "                       |  |  |      \\-|\n",
      "                        \\-|  |        |   /-Phy004M34L_DANRE\n",
      "                          |  |         \\-|\n",
      "                          |  |            \\-Phy00E71VL_ORYLA\n",
      "                          |  |\n",
      "                          |  |   /-Phy000WL2H_NEMVE\n",
      "                          |   \\-|\n",
      "                          |      \\-Phy000WYRT_BRAFL\n",
      "                          |\n",
      "                          |   /-Phy004B5V3_HELRO\n",
      "                           \\-|\n",
      "                             |   /-Phy00DNWTJ_TRICA\n",
      "                              \\-|\n",
      "                                |   /-Phy0005MO9_DROME\n",
      "                                 \\-|\n",
      "                                    \\-Phy000T7V3_ANOGA\n"
     ]
    }
   ],
   "source": [
    "print(t1.tree)"
   ]
  },
  {
   "cell_type": "code",
   "execution_count": null,
   "id": "73ce5b53-04a4-4dd3-bc2d-177d02c7a288",
   "metadata": {},
   "outputs": [],
   "source": [
    "root = self.get_tree_root()\n",
    "outgroup_dist  = 0\n",
    "outgroup_node  = self\n",
    "outgroup_age = 0 # self.get_age(species2age)\n",
    "\n",
    "for leaf in root.iter_leaves(is_leaf_fn=is_leaf_fn):\n",
    "    if leaf.get_age(species2age) > outgroup_age:\n",
    "        outgroup_dist = leaf.get_distance(self)\n",
    "        outgroup_node = leaf\n",
    "        outgroup_age = species2age[leaf.get_species().pop()]\n",
    "    elif leaf.get_age(species2age) == outgroup_age:\n",
    "        dist = leaf.get_distance(self)\n",
    "        if dist>outgroup_dist:\n",
    "            outgroup_dist  = leaf.get_distance(self)\n",
    "            outgroup_node  = leaf\n",
    "            outgroup_age = species2age[leaf.get_species().pop()]\n",
    "return outgroup_node"
   ]
  }
 ],
 "metadata": {
  "kernelspec": {
   "display_name": "Python 3 (ipykernel)",
   "language": "python",
   "name": "python3"
  },
  "language_info": {
   "codemirror_mode": {
    "name": "ipython",
    "version": 3
   },
   "file_extension": ".py",
   "mimetype": "text/x-python",
   "name": "python",
   "nbconvert_exporter": "python",
   "pygments_lexer": "ipython3",
   "version": "3.8.2"
  }
 },
 "nbformat": 4,
 "nbformat_minor": 5
}
