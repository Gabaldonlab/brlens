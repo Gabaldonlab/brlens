{
 "cells": [
  {
   "cell_type": "code",
   "execution_count": null,
   "id": "300fb83e-917c-4280-acf6-bbbd8970ada4",
   "metadata": {},
   "outputs": [],
   "source": [
    "import statistics as stat\n",
    "from scipy import stats"
   ]
  },
  {
   "cell_type": "code",
   "execution_count": null,
   "id": "413fcc19-f781-4094-8271-fec502cb8281",
   "metadata": {},
   "outputs": [],
   "source": [
    "from tree_funs import *\n",
    "from rooted_phylomes import ROOTED_PHYLOMES"
   ]
  },
  {
   "cell_type": "code",
   "execution_count": null,
   "id": "6ac9a014-487a-4f5f-a165-1454227e1004",
   "metadata": {},
   "outputs": [],
   "source": [
    "prot_dict = csv_to_dict('../data/0003_all_protein_names.txt', sep='\\t')"
   ]
  },
  {
   "cell_type": "code",
   "execution_count": null,
   "id": "79a1143d-965c-4d73-9f62-69c2356eefa3",
   "metadata": {},
   "outputs": [],
   "source": [
    "tree = open('../data/0003_best_trees.txt').read().split('\\n')[1].split('\\t')"
   ]
  },
  {
   "cell_type": "code",
   "execution_count": null,
   "id": "97bae336-f8f2-483f-9947-3167492eecc4",
   "metadata": {},
   "outputs": [],
   "source": [
    "t1 = phylome_tree('0003', tree[0], tree[1], tree[2], tree[3], ROOTED_PHYLOMES[3], prot_dict)"
   ]
  },
  {
   "cell_type": "code",
   "execution_count": null,
   "id": "3de63430-ed32-4046-8541-ca13ae5854d5",
   "metadata": {},
   "outputs": [],
   "source": [
    "t1.tree.show()"
   ]
  },
  {
   "cell_type": "code",
   "execution_count": null,
   "id": "f2ff247d-176c-45ee-a0fb-afbaacd17f0c",
   "metadata": {},
   "outputs": [],
   "source": [
    "t1.root()\n",
    "t1.tree.get_descendant_evol_events()"
   ]
  },
  {
   "cell_type": "code",
   "execution_count": null,
   "id": "b10b4a24-766e-4098-aef2-3930246e4bcf",
   "metadata": {},
   "outputs": [],
   "source": [
    "t1.tree.get_speciation_trees()"
   ]
  },
  {
   "cell_type": "code",
   "execution_count": null,
   "id": "63518842-a2bc-435c-8522-258c2d31a29d",
   "metadata": {},
   "outputs": [],
   "source": [
    "for tree in t1.tree.get_speciation_trees()[2]:\n",
    "    if len(tree.get_leaf_names()) > 1:\n",
    "        sps = [item.split('_')[1] for item in tree.get_leaf_names()]\n",
    "        print(len(sps), len(set(sps)))\n",
    "        for leaf in tree.get_leaf_names():\n",
    "            print(tree.get_distance(tree.get_common_ancestor(tree), leaf))"
   ]
  },
  {
   "cell_type": "code",
   "execution_count": null,
   "id": "3856430e-b363-46a5-9a2f-0d87cab2d147",
   "metadata": {},
   "outputs": [],
   "source": []
  },
  {
   "cell_type": "code",
   "execution_count": null,
   "id": "5fc638cb-1aca-464c-8a27-d6ed8f0ee53d",
   "metadata": {},
   "outputs": [],
   "source": [
    "mphsptrees = dict()\n",
    "mphgtrees = dict()\n",
    "for i, subtree in enumerate(t1.tree.traverse()):\n",
    "    sps = [sp.split('_')[1] for sp in subtree.get_leaf_names()]\n",
    "    if len(sps) == len(set(sps)) and len(sps) > 10:\n",
    "        mphsptrees[len(sps)] = subtree\n",
    "    elif len(sps) > 10:\n",
    "        mphgtrees[len(sps) - len(set(sps))] = subtree\n",
    "\n",
    "if len(mphsptrees) > 0:\n",
    "    rtree = mphsptrees.get(max(mphsptrees.keys()))\n",
    "else:\n",
    "    rtree = mphgtrees.get(min(mphgtrees.keys()))\n",
    "\n",
    "root = rtree.get_common_ancestor(rtree)\n",
    "rwdth = rtree.get_farthest_leaf()[1]\n",
    "\n",
    "rtldist = list()\n",
    "for leaf in rtree.get_leaf_names():\n",
    "    rtldist.append(rtree.get_distance(root, leaf))\n",
    "\n",
    "rmean = stat.mean(rtldist)\n",
    "rmed = stat.median(rtldist)\n",
    "rskew = stats.skew(rtldist)\n",
    "rkurt = stats.kurtosis(rtldist)"
   ]
  },
  {
   "cell_type": "code",
   "execution_count": null,
   "id": "1834e814-6f41-4b34-98db-1dd83e239e28",
   "metadata": {},
   "outputs": [],
   "source": [
    "stat.stdev(rtldist)"
   ]
  },
  {
   "cell_type": "code",
   "execution_count": null,
   "id": "b044d729-9987-4050-a83d-bd0786a19763",
   "metadata": {},
   "outputs": [],
   "source": [
    "mphsptrees.keys()"
   ]
  },
  {
   "cell_type": "code",
   "execution_count": null,
   "id": "a28b67e2-ace0-4329-8169-b80925c31f94",
   "metadata": {},
   "outputs": [],
   "source": [
    "rtree.get_distance(rtree.get_common_ancestor(rtree), rtree.get_farthest_leaf()[0])"
   ]
  },
  {
   "cell_type": "code",
   "execution_count": null,
   "id": "19dcb9d1-dc8b-4c1a-802a-fb1417d9d205",
   "metadata": {},
   "outputs": [],
   "source": []
  },
  {
   "cell_type": "code",
   "execution_count": null,
   "id": "08250a25-d43a-431b-88a1-5392dee4c986",
   "metadata": {},
   "outputs": [],
   "source": [
    "from tree_funs import *\n",
    "from rooted_phylomes import ROOTED_PHYLOMES"
   ]
  },
  {
   "cell_type": "code",
   "execution_count": null,
   "id": "87d28123-bf33-4162-9a94-f06c93228fed",
   "metadata": {},
   "outputs": [],
   "source": [
    "treeset = open('../data/0469_best_trees.txt').read().split('\\n')\n",
    "protset = '../data/0469_all_protein_names.txt'\n",
    "prot_dict = csv_to_dict(protset, sep='\\t')"
   ]
  },
  {
   "cell_type": "code",
   "execution_count": null,
   "id": "c6a0dfd9-1df9-463d-b5d2-0d828f1b367d",
   "metadata": {},
   "outputs": [],
   "source": [
    "tree = treeset[0]\n",
    "tree = tree.split('\\t')\n",
    "t1 = phylome_tree('0793', tree[0], tree[1], tree[2], tree[3], ROOTED_PHYLOMES[793], prot_dict, 'ofile_1.txt', 'ofile_2.txt')\n",
    "t1.root()"
   ]
  },
  {
   "cell_type": "code",
   "execution_count": null,
   "id": "e77d088c-e0e8-45e0-81e7-44b44e6fb1c8",
   "metadata": {},
   "outputs": [],
   "source": [
    "print(t1.tree)"
   ]
  },
  {
   "cell_type": "code",
   "execution_count": null,
   "id": "f109c1ff-0343-41dc-a156-b6425868c0dd",
   "metadata": {},
   "outputs": [],
   "source": [
    "t1.get_refpars()"
   ]
  },
  {
   "cell_type": "code",
   "execution_count": null,
   "id": "ce86f4c3-c228-4357-9183-6130abe8a579",
   "metadata": {},
   "outputs": [],
   "source": [
    "print(t1.rtree)"
   ]
  },
  {
   "cell_type": "code",
   "execution_count": null,
   "id": "f93aad22-8b3b-4c93-b1ab-bb79b8d6b3d2",
   "metadata": {},
   "outputs": [],
   "source": [
    "i = 0\n",
    "print(i)\n",
    "for tree in treeset:\n",
    "    tree = tree.split('\\t')\n",
    "    print(tree[0])\n",
    "    t1 = phylome_tree('0469', tree[0], tree[1], tree[2], tree[3], ROOTED_PHYLOMES[469], protset, 'ofile_1.txt', 'ofile_2.txt')\n",
    "    seqsl = t1.tree.get_leaf_names()\n",
    "    if ('Phy' in t1.seed_id and\n",
    "            len(seqsl) == len(set(seqsl)) and\n",
    "            len(seqsl) > 10):\n",
    "        t1.root()\n",
    "    i += 1\n",
    "    print(i)"
   ]
  },
  {
   "cell_type": "code",
   "execution_count": null,
   "id": "ef45e4ca-c61d-44ea-a8b7-baeae44e2c9e",
   "metadata": {
    "tags": []
   },
   "outputs": [],
   "source": [
    "print(t1.root())"
   ]
  },
  {
   "cell_type": "code",
   "execution_count": null,
   "id": "4ec55cb6-da25-4abf-a24d-ec59ffc14574",
   "metadata": {},
   "outputs": [],
   "source": [
    "print(any(sp in t1.root_dict for sp in t1.tree.get_species()))\n",
    "if any(sp in t1.root_dict for sp in t1.tree.get_species()):\n",
    "    print(t1.root_dict)\n",
    "    print(t1.tree.get_species())\n",
    "    og = t1.tree.get_farthest_oldest_leaf(t1.root_dict)\n",
    "    ogseq = og.get_leaf_names()[0]\n",
    "    t1.tree.set_outgroup(og)\n",
    "else:\n",
    "    og = t1.tree.get_farthest_leaf()[0]\n",
    "    ogseq = og.get_leaf_names()[0]\n",
    "    t1.tree.set_outgroup(og)"
   ]
  },
  {
   "cell_type": "code",
   "execution_count": null,
   "id": "4acc9ba6-3151-41ca-90e6-c5b86a0e4a49",
   "metadata": {},
   "outputs": [],
   "source": [
    "print(t1.tree)"
   ]
  },
  {
   "cell_type": "code",
   "execution_count": null,
   "id": "9f59faeb-fcfa-4267-863b-0f9d4fa32d51",
   "metadata": {},
   "outputs": [],
   "source": [
    "t1.tree.get_farthest_leaf()[0].get_leaf_names()"
   ]
  },
  {
   "cell_type": "code",
   "execution_count": null,
   "id": "9546031d-61ba-4917-b823-83645e0baf88",
   "metadata": {},
   "outputs": [],
   "source": [
    "tree = t1.tree\n",
    "root_diction = t1.root_dict"
   ]
  },
  {
   "cell_type": "code",
   "execution_count": null,
   "id": "ee12e361-5f0c-49d9-8422-c564403f58a0",
   "metadata": {},
   "outputs": [],
   "source": [
    "print(any(sp in root_diction for sp in tree.get_species()))"
   ]
  },
  {
   "cell_type": "code",
   "execution_count": null,
   "id": "c4eb0da4-ccc9-4e3b-9c9a-4b1fe0419fe7",
   "metadata": {},
   "outputs": [],
   "source": [
    "og = t1.tree.get_farthest_oldest_leaf(t1.root_dict)\n",
    "ogseq = og.get_leaf_names()[0]\n",
    "t1.tree.set_outgroup(og)"
   ]
  },
  {
   "cell_type": "code",
   "execution_count": null,
   "id": "a59f78d1-f604-4295-b680-83ce807c124c",
   "metadata": {},
   "outputs": [],
   "source": [
    "root_diction\n",
    "tree.get_species()"
   ]
  },
  {
   "cell_type": "code",
   "execution_count": null,
   "id": "f2e49945-fdd9-4303-a042-08a9c45bd578",
   "metadata": {},
   "outputs": [],
   "source": [
    "print(t1.root_dict)\n",
    "print(t1.tree.get_species())\n",
    "print(any(sp in t1.root_dict for sp in t1.tree.get_species()))\n",
    "if any(sp in t1.root_dict for sp in t1.tree.get_species()):\n",
    "    ogdval = max([t1.root_dict.get(sp, 0) for sp in t1.tree.get_species()])\n",
    "    print(ogdval)\n",
    "    ogsps = [k for k, val in t1.root_dict.items() if val == ogdval and k in t1.tree.get_species()][0]\n",
    "    print(ogsps)\n",
    "    print(t1.tree.get_leaf_names())\n",
    "    ogseq = [seq for seq in t1.tree.get_leaf_names() if ogsps in seq][0]\n",
    "else:\n",
    "    ogseq = t1.tree.get_farthest_leaf()[0].get_leaf_names()[0]"
   ]
  },
  {
   "cell_type": "code",
   "execution_count": null,
   "id": "41ed5dc3-b493-4e50-924b-1d620d4fdb39",
   "metadata": {},
   "outputs": [],
   "source": []
  }
 ],
 "metadata": {
  "kernelspec": {
   "display_name": "Python 3 (ipykernel)",
   "language": "python",
   "name": "python3"
  },
  "language_info": {
   "codemirror_mode": {
    "name": "ipython",
    "version": 3
   },
   "file_extension": ".py",
   "mimetype": "text/x-python",
   "name": "python",
   "nbconvert_exporter": "python",
   "pygments_lexer": "ipython3",
   "version": "3.8.2"
  }
 },
 "nbformat": 4,
 "nbformat_minor": 5
}
