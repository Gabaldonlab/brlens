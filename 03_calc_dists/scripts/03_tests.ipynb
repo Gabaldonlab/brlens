{
 "cells": [
  {
   "cell_type": "code",
   "execution_count": null,
   "id": "300fb83e-917c-4280-acf6-bbbd8970ada4",
   "metadata": {},
   "outputs": [],
   "source": [
    "import statistics as stat\n",
    "from scipy import stats"
   ]
  },
  {
   "cell_type": "code",
   "execution_count": 2,
   "id": "413fcc19-f781-4094-8271-fec502cb8281",
   "metadata": {},
   "outputs": [],
   "source": [
    "from tree_funs import *\n",
    "from rooted_phylomes import ROOTED_PHYLOMES"
   ]
  },
  {
   "cell_type": "code",
   "execution_count": null,
   "id": "6ac9a014-487a-4f5f-a165-1454227e1004",
   "metadata": {},
   "outputs": [],
   "source": [
    "prot_dict = csv_to_dict('../data/0003_all_protein_names.txt', sep='\\t')"
   ]
  },
  {
   "cell_type": "code",
   "execution_count": null,
   "id": "79a1143d-965c-4d73-9f62-69c2356eefa3",
   "metadata": {},
   "outputs": [],
   "source": [
    "tree = open('../data/0003_best_trees.txt').read().split('\\n')[1].split('\\t')"
   ]
  },
  {
   "cell_type": "code",
   "execution_count": null,
   "id": "97bae336-f8f2-483f-9947-3167492eecc4",
   "metadata": {},
   "outputs": [],
   "source": [
    "t1 = phylome_tree('0003', tree[0], tree[1], tree[2], tree[3], ROOTED_PHYLOMES[3], prot_dict)"
   ]
  },
  {
   "cell_type": "code",
   "execution_count": null,
   "id": "3de63430-ed32-4046-8541-ca13ae5854d5",
   "metadata": {},
   "outputs": [],
   "source": [
    "t1.tree.show()"
   ]
  },
  {
   "cell_type": "code",
   "execution_count": null,
   "id": "f2ff247d-176c-45ee-a0fb-afbaacd17f0c",
   "metadata": {},
   "outputs": [],
   "source": [
    "t1.root()\n",
    "t1.tree.get_descendant_evol_events()"
   ]
  },
  {
   "cell_type": "code",
   "execution_count": null,
   "id": "b10b4a24-766e-4098-aef2-3930246e4bcf",
   "metadata": {},
   "outputs": [],
   "source": [
    "t1.tree.get_speciation_trees()"
   ]
  },
  {
   "cell_type": "code",
   "execution_count": null,
   "id": "63518842-a2bc-435c-8522-258c2d31a29d",
   "metadata": {},
   "outputs": [],
   "source": [
    "for tree in t1.tree.get_speciation_trees()[2]:\n",
    "    if len(tree.get_leaf_names()) > 1:\n",
    "        sps = [item.split('_')[1] for item in tree.get_leaf_names()]\n",
    "        print(len(sps), len(set(sps)))\n",
    "        for leaf in tree.get_leaf_names():\n",
    "            print(tree.get_distance(tree.get_common_ancestor(tree), leaf))"
   ]
  },
  {
   "cell_type": "code",
   "execution_count": null,
   "id": "3856430e-b363-46a5-9a2f-0d87cab2d147",
   "metadata": {},
   "outputs": [],
   "source": []
  },
  {
   "cell_type": "code",
   "execution_count": null,
   "id": "5fc638cb-1aca-464c-8a27-d6ed8f0ee53d",
   "metadata": {},
   "outputs": [],
   "source": [
    "mphsptrees = dict()\n",
    "mphgtrees = dict()\n",
    "for i, subtree in enumerate(t1.tree.traverse()):\n",
    "    sps = [sp.split('_')[1] for sp in subtree.get_leaf_names()]\n",
    "    if len(sps) == len(set(sps)) and len(sps) > 10:\n",
    "        mphsptrees[len(sps)] = subtree\n",
    "    elif len(sps) > 10:\n",
    "        mphgtrees[len(sps) - len(set(sps))] = subtree\n",
    "\n",
    "if len(mphsptrees) > 0:\n",
    "    rtree = mphsptrees.get(max(mphsptrees.keys()))\n",
    "else:\n",
    "    rtree = mphgtrees.get(min(mphgtrees.keys()))\n",
    "\n",
    "root = rtree.get_common_ancestor(rtree)\n",
    "rwdth = rtree.get_farthest_leaf()[1]\n",
    "\n",
    "rtldist = list()\n",
    "for leaf in rtree.get_leaf_names():\n",
    "    rtldist.append(rtree.get_distance(root, leaf))\n",
    "\n",
    "rmean = stat.mean(rtldist)\n",
    "rmed = stat.median(rtldist)\n",
    "rskew = stats.skew(rtldist)\n",
    "rkurt = stats.kurtosis(rtldist)"
   ]
  },
  {
   "cell_type": "code",
   "execution_count": null,
   "id": "1834e814-6f41-4b34-98db-1dd83e239e28",
   "metadata": {},
   "outputs": [],
   "source": [
    "stat.stdev(rtldist)"
   ]
  },
  {
   "cell_type": "code",
   "execution_count": null,
   "id": "b044d729-9987-4050-a83d-bd0786a19763",
   "metadata": {},
   "outputs": [],
   "source": [
    "mphsptrees.keys()"
   ]
  },
  {
   "cell_type": "code",
   "execution_count": null,
   "id": "a28b67e2-ace0-4329-8169-b80925c31f94",
   "metadata": {},
   "outputs": [],
   "source": [
    "rtree.get_distance(rtree.get_common_ancestor(rtree), rtree.get_farthest_leaf()[0])"
   ]
  },
  {
   "cell_type": "code",
   "execution_count": null,
   "id": "76582982-12e3-4c58-af1a-45999cec3022",
   "metadata": {},
   "outputs": [],
   "source": [
    "tree = open('../data/0003_best_trees.txt').read().split('\\n')[3].split('\\t')\n",
    "print(tree[0], tree[1], tree[2], tree[3], ROOTED_PHYLOMES[3])\n",
    "t1 = phylome_tree('0003', tree[0], tree[1], tree[2], tree[3], ROOTED_PHYLOMES[3], prot_dict)\n",
    "t1.run()"
   ]
  },
  {
   "cell_type": "code",
   "execution_count": null,
   "id": "19dcb9d1-dc8b-4c1a-802a-fb1417d9d205",
   "metadata": {},
   "outputs": [],
   "source": []
  },
  {
   "cell_type": "code",
   "execution_count": 1,
   "id": "08250a25-d43a-431b-88a1-5392dee4c986",
   "metadata": {},
   "outputs": [],
   "source": [
    "from tree_funs import *"
   ]
  },
  {
   "cell_type": "code",
   "execution_count": 3,
   "id": "87d28123-bf33-4162-9a94-f06c93228fed",
   "metadata": {},
   "outputs": [],
   "source": [
    "treeset = open('../data/0793_best_trees.txt').read().split('\\n')\n",
    "protset = '../data/0793_all_protein_names.txt'"
   ]
  },
  {
   "cell_type": "code",
   "execution_count": 4,
   "id": "f93aad22-8b3b-4c93-b1ab-bb79b8d6b3d2",
   "metadata": {},
   "outputs": [
    {
     "name": "stdout",
     "output_type": "stream",
     "text": [
      "Phy0005MNZ_DROME\n",
      "Phy0005MO6_DROME\n",
      "Phy0005MO9_DROME\n"
     ]
    },
    {
     "ename": "KeyError",
     "evalue": "'DROME'",
     "output_type": "error",
     "traceback": [
      "\u001b[0;31m---------------------------------------------------------------------------\u001b[0m",
      "\u001b[0;31mKeyError\u001b[0m                                  Traceback (most recent call last)",
      "\u001b[0;32m/var/folders/hh/5hklqj_s6750r7xj6t72sqyw0000gn/T/ipykernel_20294/1538001208.py\u001b[0m in \u001b[0;36m<module>\u001b[0;34m\u001b[0m\n\u001b[1;32m      3\u001b[0m     \u001b[0mprint\u001b[0m\u001b[0;34m(\u001b[0m\u001b[0mtree\u001b[0m\u001b[0;34m[\u001b[0m\u001b[0;36m0\u001b[0m\u001b[0;34m]\u001b[0m\u001b[0;34m)\u001b[0m\u001b[0;34m\u001b[0m\u001b[0;34m\u001b[0m\u001b[0m\n\u001b[1;32m      4\u001b[0m     \u001b[0mt1\u001b[0m \u001b[0;34m=\u001b[0m \u001b[0mphylome_tree\u001b[0m\u001b[0;34m(\u001b[0m\u001b[0;34m'0793'\u001b[0m\u001b[0;34m,\u001b[0m \u001b[0mtree\u001b[0m\u001b[0;34m[\u001b[0m\u001b[0;36m0\u001b[0m\u001b[0;34m]\u001b[0m\u001b[0;34m,\u001b[0m \u001b[0mtree\u001b[0m\u001b[0;34m[\u001b[0m\u001b[0;36m1\u001b[0m\u001b[0;34m]\u001b[0m\u001b[0;34m,\u001b[0m \u001b[0mtree\u001b[0m\u001b[0;34m[\u001b[0m\u001b[0;36m2\u001b[0m\u001b[0;34m]\u001b[0m\u001b[0;34m,\u001b[0m \u001b[0mtree\u001b[0m\u001b[0;34m[\u001b[0m\u001b[0;36m3\u001b[0m\u001b[0;34m]\u001b[0m\u001b[0;34m,\u001b[0m \u001b[0mROOTED_PHYLOMES\u001b[0m\u001b[0;34m[\u001b[0m\u001b[0;36m793\u001b[0m\u001b[0;34m]\u001b[0m\u001b[0;34m,\u001b[0m \u001b[0mprotset\u001b[0m\u001b[0;34m,\u001b[0m \u001b[0;34m'ofile_1.txt'\u001b[0m\u001b[0;34m,\u001b[0m \u001b[0;34m'ofile_2.txt'\u001b[0m\u001b[0;34m)\u001b[0m\u001b[0;34m\u001b[0m\u001b[0;34m\u001b[0m\u001b[0m\n\u001b[0;32m----> 5\u001b[0;31m     \u001b[0mt1\u001b[0m\u001b[0;34m.\u001b[0m\u001b[0mroot\u001b[0m\u001b[0;34m(\u001b[0m\u001b[0;34m)\u001b[0m\u001b[0;34m\u001b[0m\u001b[0;34m\u001b[0m\u001b[0m\n\u001b[0m",
      "\u001b[0;32m~/Documents/github/brlens/03_calc_dists/scripts/tree_funs.py\u001b[0m in \u001b[0;36mroot\u001b[0;34m(self)\u001b[0m\n\u001b[1;32m     60\u001b[0m \u001b[0;34m\u001b[0m\u001b[0m\n\u001b[1;32m     61\u001b[0m         \u001b[0;32mif\u001b[0m \u001b[0many\u001b[0m\u001b[0;34m(\u001b[0m\u001b[0msp\u001b[0m \u001b[0;32min\u001b[0m \u001b[0mself\u001b[0m\u001b[0;34m.\u001b[0m\u001b[0mroot_dict\u001b[0m \u001b[0;32mfor\u001b[0m \u001b[0msp\u001b[0m \u001b[0;32min\u001b[0m \u001b[0mself\u001b[0m\u001b[0;34m.\u001b[0m\u001b[0mtree\u001b[0m\u001b[0;34m.\u001b[0m\u001b[0mget_species\u001b[0m\u001b[0;34m(\u001b[0m\u001b[0;34m)\u001b[0m\u001b[0;34m)\u001b[0m\u001b[0;34m:\u001b[0m\u001b[0;34m\u001b[0m\u001b[0;34m\u001b[0m\u001b[0m\n\u001b[0;32m---> 62\u001b[0;31m             \u001b[0mog\u001b[0m \u001b[0;34m=\u001b[0m \u001b[0mself\u001b[0m\u001b[0;34m.\u001b[0m\u001b[0mtree\u001b[0m\u001b[0;34m.\u001b[0m\u001b[0mget_farthest_oldest_leaf\u001b[0m\u001b[0;34m(\u001b[0m\u001b[0mself\u001b[0m\u001b[0;34m.\u001b[0m\u001b[0mroot_dict\u001b[0m\u001b[0;34m)\u001b[0m\u001b[0;34m\u001b[0m\u001b[0;34m\u001b[0m\u001b[0m\n\u001b[0m\u001b[1;32m     63\u001b[0m             \u001b[0mself\u001b[0m\u001b[0;34m.\u001b[0m\u001b[0mogseq\u001b[0m \u001b[0;34m=\u001b[0m \u001b[0mog\u001b[0m\u001b[0;34m.\u001b[0m\u001b[0mget_leaf_names\u001b[0m\u001b[0;34m(\u001b[0m\u001b[0;34m)\u001b[0m\u001b[0;34m[\u001b[0m\u001b[0;36m0\u001b[0m\u001b[0;34m]\u001b[0m\u001b[0;34m\u001b[0m\u001b[0;34m\u001b[0m\u001b[0m\n\u001b[1;32m     64\u001b[0m             \u001b[0mself\u001b[0m\u001b[0;34m.\u001b[0m\u001b[0mtree\u001b[0m\u001b[0;34m.\u001b[0m\u001b[0mset_outgroup\u001b[0m\u001b[0;34m(\u001b[0m\u001b[0mog\u001b[0m\u001b[0;34m)\u001b[0m\u001b[0;34m\u001b[0m\u001b[0;34m\u001b[0m\u001b[0m\n",
      "\u001b[0;32m~/Library/Python/3.8/lib/python/site-packages/ete3/phylo/phylotree.py\u001b[0m in \u001b[0;36mget_farthest_oldest_leaf\u001b[0;34m(self, species2age, is_leaf_fn)\u001b[0m\n\u001b[1;32m    524\u001b[0m \u001b[0;34m\u001b[0m\u001b[0m\n\u001b[1;32m    525\u001b[0m         \u001b[0;32mfor\u001b[0m \u001b[0mleaf\u001b[0m \u001b[0;32min\u001b[0m \u001b[0mroot\u001b[0m\u001b[0;34m.\u001b[0m\u001b[0miter_leaves\u001b[0m\u001b[0;34m(\u001b[0m\u001b[0mis_leaf_fn\u001b[0m\u001b[0;34m=\u001b[0m\u001b[0mis_leaf_fn\u001b[0m\u001b[0;34m)\u001b[0m\u001b[0;34m:\u001b[0m\u001b[0;34m\u001b[0m\u001b[0;34m\u001b[0m\u001b[0m\n\u001b[0;32m--> 526\u001b[0;31m             \u001b[0;32mif\u001b[0m \u001b[0mleaf\u001b[0m\u001b[0;34m.\u001b[0m\u001b[0mget_age\u001b[0m\u001b[0;34m(\u001b[0m\u001b[0mspecies2age\u001b[0m\u001b[0;34m)\u001b[0m \u001b[0;34m>\u001b[0m \u001b[0moutgroup_age\u001b[0m\u001b[0;34m:\u001b[0m\u001b[0;34m\u001b[0m\u001b[0;34m\u001b[0m\u001b[0m\n\u001b[0m\u001b[1;32m    527\u001b[0m                 \u001b[0moutgroup_dist\u001b[0m \u001b[0;34m=\u001b[0m \u001b[0mleaf\u001b[0m\u001b[0;34m.\u001b[0m\u001b[0mget_distance\u001b[0m\u001b[0;34m(\u001b[0m\u001b[0mself\u001b[0m\u001b[0;34m)\u001b[0m\u001b[0;34m\u001b[0m\u001b[0;34m\u001b[0m\u001b[0m\n\u001b[1;32m    528\u001b[0m                 \u001b[0moutgroup_node\u001b[0m \u001b[0;34m=\u001b[0m \u001b[0mleaf\u001b[0m\u001b[0;34m\u001b[0m\u001b[0;34m\u001b[0m\u001b[0m\n",
      "\u001b[0;32m~/Library/Python/3.8/lib/python/site-packages/ete3/phylo/phylotree.py\u001b[0m in \u001b[0;36mget_age\u001b[0;34m(self, species2age)\u001b[0m\n\u001b[1;32m    471\u001b[0m         \u001b[0;36m38\u001b[0m\u001b[0;34m-\u001b[0m\u001b[0;36m45.\u001b[0m\u001b[0;34m\u001b[0m\u001b[0;34m\u001b[0m\u001b[0m\n\u001b[1;32m    472\u001b[0m         \"\"\"\n\u001b[0;32m--> 473\u001b[0;31m         \u001b[0;32mreturn\u001b[0m \u001b[0mmax\u001b[0m\u001b[0;34m(\u001b[0m\u001b[0;34m[\u001b[0m\u001b[0mspecies2age\u001b[0m\u001b[0;34m[\u001b[0m\u001b[0msp\u001b[0m\u001b[0;34m]\u001b[0m \u001b[0;32mfor\u001b[0m \u001b[0msp\u001b[0m \u001b[0;32min\u001b[0m \u001b[0mself\u001b[0m\u001b[0;34m.\u001b[0m\u001b[0mget_species\u001b[0m\u001b[0;34m(\u001b[0m\u001b[0;34m)\u001b[0m\u001b[0;34m]\u001b[0m\u001b[0;34m)\u001b[0m\u001b[0;34m\u001b[0m\u001b[0;34m\u001b[0m\u001b[0m\n\u001b[0m\u001b[1;32m    474\u001b[0m \u001b[0;34m\u001b[0m\u001b[0m\n\u001b[1;32m    475\u001b[0m     \u001b[0;32mdef\u001b[0m \u001b[0mreconcile\u001b[0m\u001b[0;34m(\u001b[0m\u001b[0mself\u001b[0m\u001b[0;34m,\u001b[0m \u001b[0mspecies_tree\u001b[0m\u001b[0;34m)\u001b[0m\u001b[0;34m:\u001b[0m\u001b[0;34m\u001b[0m\u001b[0;34m\u001b[0m\u001b[0m\n",
      "\u001b[0;32m~/Library/Python/3.8/lib/python/site-packages/ete3/phylo/phylotree.py\u001b[0m in \u001b[0;36m<listcomp>\u001b[0;34m(.0)\u001b[0m\n\u001b[1;32m    471\u001b[0m         \u001b[0;36m38\u001b[0m\u001b[0;34m-\u001b[0m\u001b[0;36m45.\u001b[0m\u001b[0;34m\u001b[0m\u001b[0;34m\u001b[0m\u001b[0m\n\u001b[1;32m    472\u001b[0m         \"\"\"\n\u001b[0;32m--> 473\u001b[0;31m         \u001b[0;32mreturn\u001b[0m \u001b[0mmax\u001b[0m\u001b[0;34m(\u001b[0m\u001b[0;34m[\u001b[0m\u001b[0mspecies2age\u001b[0m\u001b[0;34m[\u001b[0m\u001b[0msp\u001b[0m\u001b[0;34m]\u001b[0m \u001b[0;32mfor\u001b[0m \u001b[0msp\u001b[0m \u001b[0;32min\u001b[0m \u001b[0mself\u001b[0m\u001b[0;34m.\u001b[0m\u001b[0mget_species\u001b[0m\u001b[0;34m(\u001b[0m\u001b[0;34m)\u001b[0m\u001b[0;34m]\u001b[0m\u001b[0;34m)\u001b[0m\u001b[0;34m\u001b[0m\u001b[0;34m\u001b[0m\u001b[0m\n\u001b[0m\u001b[1;32m    474\u001b[0m \u001b[0;34m\u001b[0m\u001b[0m\n\u001b[1;32m    475\u001b[0m     \u001b[0;32mdef\u001b[0m \u001b[0mreconcile\u001b[0m\u001b[0;34m(\u001b[0m\u001b[0mself\u001b[0m\u001b[0;34m,\u001b[0m \u001b[0mspecies_tree\u001b[0m\u001b[0;34m)\u001b[0m\u001b[0;34m:\u001b[0m\u001b[0;34m\u001b[0m\u001b[0;34m\u001b[0m\u001b[0m\n",
      "\u001b[0;31mKeyError\u001b[0m: 'DROME'"
     ]
    }
   ],
   "source": [
    "for tree in treeset:\n",
    "    tree = tree.split('\\t')\n",
    "    print(tree[0])\n",
    "    t1 = phylome_tree('0793', tree[0], tree[1], tree[2], tree[3], ROOTED_PHYLOMES[793], protset, 'ofile_1.txt', 'ofile_2.txt')\n",
    "    t1.root()"
   ]
  },
  {
   "cell_type": "code",
   "execution_count": 8,
   "id": "ef45e4ca-c61d-44ea-a8b7-baeae44e2c9e",
   "metadata": {
    "tags": []
   },
   "outputs": [
    {
     "name": "stdout",
     "output_type": "stream",
     "text": [
      "\n",
      "   /-Phy0005MO9_DROME\n",
      "  |\n",
      "  |--Phy000T7V3_ANOGA\n",
      "  |\n",
      "  |   /-Phy00DNWTJ_TRICA\n",
      "  |  |\n",
      "  |  |                                 /-Phy00EB7XX_BOVIN\n",
      "  |  |                              /-|\n",
      "  |  |                             |   \\-Phy00EAQQ1_CANFA\n",
      "  |  |                           /-|\n",
      "  |  |                          |  |      /-Phy00DN54K_PANTR\n",
      "  |  |                          |  |   /-|\n",
      "  |  |                          |   \\-|   \\-Phy00DMTY8_GORGO\n",
      "  |  |                        /-|     |\n",
      "  |  |                       |  |      \\-Phy001R5HR_HUMAN\n",
      "  |  |                       |  |\n",
      "  |  |                     /-|  |   /-Phy00CEWVC_RAT\n",
      "  |  |                    |  |   \\-|\n",
      "  |  |                    |  |      \\-Phy001RPXR_MOUSE\n",
      "  |  |                  /-|  |\n",
      "  |  |                 |  |   \\-Phy00E56HB_CHICK\n",
      "  |  |                 |  |\n",
      "  |  |               /-|   \\-Phy00EK9LI_XENTR\n",
      "  |  |              |  |\n",
      "  |  |              |  |      /-Phy00E6WEU_ORYLA\n",
      "  |  |              |  |   /-|\n",
      "  |  |              |   \\-|   \\-Phy004M567_DANRE\n",
      "  |  |              |     |\n",
      "  |  |              |      \\-Phy006SWAZ_LEPOC\n",
      "  |  |              |\n",
      "  |  |              |                  /-Phy00EB6KR_BOVIN\n",
      "  |  |              |               /-|\n",
      "  |  |              |              |   \\-Phy00EAY0R_CANFA\n",
      "  |  |              |            /-|\n",
      "--|  |            /-|           |  |   /-Phy0038REM_MOUSE\n",
      "  |  |           |  |           |   \\-|\n",
      "  |  |           |  |         /-|      \\-Phy00CET2R_RAT\n",
      "  |  |           |  |        |  |\n",
      "  |  |           |  |        |  |      /-Phy00DN6TJ_PANTR\n",
      "  |  |           |  |        |  |   /-|\n",
      "  |  |           |  |      /-|   \\-|   \\-Phy00DMSC8_GORGO\n",
      "  |  |           |  |     |  |     |\n",
      "  |  |           |  |     |  |      \\-Phy0024H8W_HUMAN\n",
      "  |  |           |  |   /-|  |\n",
      "  |  |           |  |  |  |   \\-Phy00EBEO0_MONDO\n",
      "  |  |           |  |  |  |\n",
      "  |  |           |   \\-|   \\-Phy00EK9EY_XENTR\n",
      "  |  |           |     |\n",
      "  |  |           |     |      /-Phy00E71G0_ORYLA\n",
      "  |  |           |     |   /-|\n",
      "  |  |           |      \\-|   \\-Phy004M71F_DANRE\n",
      "  |  |           |        |\n",
      "  |  |         /-|         \\-Phy006T2D7_LEPOC\n",
      "  |  |        |  |\n",
      "  |  |        |  |               /-Phy00EAPT6_CANFA\n",
      "  |  |        |  |              |\n",
      "  |  |        |  |            /-|      /-Phy0038WD5_MOUSE\n",
      "  |  |        |  |           |  |   /-|\n",
      "  |  |        |  |           |  |  |   \\-Phy006BDDC_RAT\n",
      "  |  |        |  |           |   \\-|\n",
      "  |  |        |  |           |     |      /-Phy00DMNVB_GORGO\n",
      "  |  |        |  |         /-|     |   /-|\n",
      "  |  |        |  |        |  |      \\-|   \\-Phy0026GNM_HUMAN\n",
      "  |  |        |  |        |  |        |\n",
      "  |  |        |  |      /-|  |         \\-Phy00DNCC2_PANTR\n",
      "  |  |      /-|  |     |  |  |\n",
      "  |  |     |  |  |     |  |   \\-Phy00691O6_BOVIN\n",
      "  |  |     |  |  |   /-|  |\n",
      "   \\-|     |  |  |  |  |   \\-Phy00E56AQ_CHICK\n",
      "     |     |  |  |  |  |\n",
      "     |     |  |   \\-|   \\-Phy00EK6LN_XENTR\n",
      "     |     |  |     |\n",
      "     |     |  |     |   /-Phy006T9F6_LEPOC\n",
      "     |     |  |      \\-|\n",
      "     |     |  |        |   /-Phy004M34L_DANRE\n",
      "     |     |  |         \\-|\n",
      "     |     |  |            \\-Phy00E71VL_ORYLA\n",
      "     |     |  |\n",
      "     |     |  |   /-Phy000WL2H_NEMVE\n",
      "     |     |   \\-|\n",
      "     |     |      \\-Phy000WYRT_BRAFL\n",
      "     |     |\n",
      "     |     |   /-Phy00DOOKH_CIOIN\n",
      "     |     |  |\n",
      "     |   /-|  |   /-Phy0003E05_CAEEL\n",
      "     |  |  |  |  |\n",
      "     |  |  |  |  |                                             /-Phy00DN3RH_PANTR\n",
      "     |  |  |  |  |                                          /-|\n",
      "     |  |  |  |  |                                         |   \\-Phy001RPXT_MOUSE\n",
      "     |  |  |  |  |                                       /-|\n",
      "     |  |  |  |  |                                      |  |   /-Phy00DMTVW_GORGO\n",
      "     |  |  |  |  |                                    /-|   \\-|\n",
      "     |  |  |  |  |                                   |  |      \\-Phy00695Q9_BOVIN\n",
      "     |  |  |  |  |                                 /-|  |\n",
      "     |  |  |  |  |                                |  |   \\-Phy001R5HS_HUMAN\n",
      "     |  |  |  |  |                              /-|  |\n",
      "     |  |  |  |  |                             |  |   \\-Phy00EAT06_CANFA\n",
      "     |  |  |  |  |                           /-|  |\n",
      "     |  |  |  |  |                          |  |   \\-Phy00EBLUN_MONDO\n",
      "     |  |  |  |  |                          |  |\n",
      "     |  |  |  |  |                        /-|   \\-Phy00547PD_CHICK\n",
      "     |  |  |  |  |                       |  |\n",
      "     |  |  |  |  |                       |  |   /-Phy00E4V66_DANRE\n",
      "     |  |  |  |  |                       |   \\-|\n",
      "     |  |   \\-|  |                       |     |   /-Phy006SWOB_LEPOC\n",
      "     |  |     |  |                       |      \\-|\n",
      "     |  |     |  |                       |        |   /-Phy00DM7ZM_DANRE\n",
      "     |  |     |  |                       |         \\-|\n",
      "     |  |     |  |                     /-|            \\-Phy00E6JWH_ORYLA\n",
      "     |  |     |  |                    |  |\n",
      "     |  |     |  |                    |  |      /-Phy00DM7H5_DANRE\n",
      "     |  |     |  |                    |  |   /-|\n",
      "     |  |     |  |                    |  |  |   \\-Phy006T59C_LEPOC\n",
      "     |  |     |  |                    |  |  |\n",
      "     |  |     |  |                    |  |  |   /-Phy00EAZDL_XENTR\n",
      "     |  |     |  |                    |  |  |  |\n",
      "     |  |     |  |                    |   \\-|  |            /-Phy00EAULR_CANFA\n",
      "     |  |     |  |                    |     |  |           |\n",
      "     |  |     |  |                    |     |  |         /-|      /-Phy00CESKF_RAT\n",
      "     |  |     |  |                    |     |  |        |  |   /-|\n",
      "     |  |     |  |                    |     |  |        |  |  |   \\-Phy00391IW_MOUSE\n",
      "     |  |     |  |                    |      \\-|        |   \\-|\n",
      "     |  |     |  |                    |        |        |     |      /-Phy00DNAQV_PANTR\n",
      "     |  |     |  |                    |        |      /-|     |   /-|\n",
      "     |  |     |  |                  /-|        |     |  |      \\-|   \\-Phy0024HGS_HUMAN\n",
      "     |  |     |  |                 |  |        |     |  |        |\n",
      "     |  |     |  |                 |  |        |   /-|  |         \\-Phy002IYBX_GORGO\n",
      "     |  |      \\-|                 |  |        |  |  |  |\n",
      "     |  |        |                 |  |        |  |  |   \\-Phy00EB85X_BOVIN\n",
      "     |  |        |                 |  |         \\-|  |\n",
      "     |  |        |                 |  |           |   \\-Phy00EBJE8_MONDO\n",
      "     |  |        |                 |  |           |\n",
      "      \\-|        |                 |  |            \\-Phy00DMH3N_CHICK\n",
      "        |        |                 |  |\n",
      "        |        |                 |  |      /-Phy006T13U_LEPOC\n",
      "        |        |                 |  |   /-|\n",
      "        |        |                 |  |  |   \\-Phy00DM38D_DANRE\n",
      "        |        |                 |  |  |\n",
      "        |        |               /-|  |  |      /-Phy00EB8SD_BOVIN\n",
      "        |        |              |  |  |  |     |\n",
      "        |        |              |  |   \\-|   /-|   /-Phy00EAV1U_CANFA\n",
      "        |        |              |  |     |  |  |  |\n",
      "        |        |              |  |     |  |  |  |         /-Phy00DMVVR_GORGO\n",
      "        |        |              |  |     |  |   \\-|      /-|\n",
      "        |        |              |  |     |  |     |   /-|   \\-Phy0008BGD_HUMAN\n",
      "        |        |              |  |      \\-|     |  |  |\n",
      "        |        |            /-|  |        |      \\-|   \\-Phy00DNBXI_PANTR\n",
      "        |        |           |  |  |        |        |\n",
      "        |        |           |  |  |        |         \\-Phy001RPXJ_MOUSE\n",
      "        |        |           |  |  |        |\n",
      "        |        |           |  |  |         \\-Phy00E5F2U_CHICK\n",
      "        |        |           |  |  |\n",
      "        |        |         /-|  |   \\-Phy00DOOWI_CIOIN\n",
      "        |        |        |  |  |\n",
      "        |        |        |  |   \\-Phy000WQK2_BRAFL\n",
      "        |        |        |  |\n",
      "        |        |        |  |      /-Phy000Z2B2_TRICA\n",
      "        |        |        |  |   /-|\n",
      "        |        |      /-|  |  |  |   /-Phy006F83I_DROME\n",
      "        |        |     |  |   \\-|   \\-|\n",
      "        |        |     |  |     |      \\-Phy000T6T2_ANOGA\n",
      "        |        |     |  |     |\n",
      "        |        |     |  |      \\-Phy0038689_IXOSC\n",
      "        |        |   /-|  |\n",
      "        |        |  |  |   \\-Phy0040443_MONBE\n",
      "        |        |  |  |\n",
      "        |        |  |  |      /-Phy0005DYV_DICDI\n",
      "        |        |  |  |   /-|\n",
      "        |        |  |  |  |   \\-Phy0005F8X_DICDI\n",
      "        |        |  |   \\-|\n",
      "        |         \\-|     |   /-Phy003T6C0_PHYPA\n",
      "        |           |      \\-|\n",
      "        |           |        |   /-Phy00019N3_ARATH\n",
      "        |           |         \\-|\n",
      "        |           |           |   /-Phy00DO754_MAIZE\n",
      "        |           |            \\-|\n",
      "        |           |               \\-Phy00DO58I_MAIZE\n",
      "        |           |\n",
      "        |            \\-Phy004023V_MONBE\n",
      "        |\n",
      "         \\-Phy004B5V3_HELRO\n"
     ]
    }
   ],
   "source": [
    "print(t1.tree)"
   ]
  },
  {
   "cell_type": "code",
   "execution_count": 22,
   "id": "4ec55cb6-da25-4abf-a24d-ec59ffc14574",
   "metadata": {},
   "outputs": [
    {
     "name": "stdout",
     "output_type": "stream",
     "text": [
      "True\n",
      "{'158386': 1, 'FRAEX': 2, 'MIMGU': 3, 'SALMI': 3, 'SESIN': 3, 'UTRGI': 3, 'COFCA': 4, 'SOLLC': 4, 'HELAN': 5, 'ARATH': 6, 'AMBTC': 7}\n",
      "{'ANOGA', 'MONDO', 'BRAFL', 'LEPOC', 'IXOSC', 'MONBE', 'PHYPA', 'MAIZE', 'CANFA', 'MOUSE', 'CHICK', 'ARATH', 'BOVIN', 'ORYLA', 'HUMAN', 'RAT', 'DROME', 'HELRO', 'CAEEL', 'TRICA', 'CIOIN', 'DICDI', 'DANRE', 'PANTR', 'GORGO', 'NEMVE', 'XENTR'}\n"
     ]
    },
    {
     "ename": "KeyError",
     "evalue": "'DROME'",
     "output_type": "error",
     "traceback": [
      "\u001b[0;31m---------------------------------------------------------------------------\u001b[0m",
      "\u001b[0;31mKeyError\u001b[0m                                  Traceback (most recent call last)",
      "\u001b[0;32m/var/folders/hh/5hklqj_s6750r7xj6t72sqyw0000gn/T/ipykernel_20294/1910678114.py\u001b[0m in \u001b[0;36m<module>\u001b[0;34m\u001b[0m\n\u001b[1;32m      8\u001b[0m         \u001b[0mt1\u001b[0m\u001b[0;34m.\u001b[0m\u001b[0mtree\u001b[0m\u001b[0;34m.\u001b[0m\u001b[0mset_outgroup\u001b[0m\u001b[0;34m(\u001b[0m\u001b[0mog\u001b[0m\u001b[0;34m)\u001b[0m\u001b[0;34m\u001b[0m\u001b[0;34m\u001b[0m\u001b[0m\n\u001b[1;32m      9\u001b[0m     \u001b[0;32mexcept\u001b[0m \u001b[0mException\u001b[0m \u001b[0;32mas\u001b[0m \u001b[0me\u001b[0m\u001b[0;34m:\u001b[0m\u001b[0;34m\u001b[0m\u001b[0;34m\u001b[0m\u001b[0m\n\u001b[0;32m---> 10\u001b[0;31m         \u001b[0;32mraise\u001b[0m \u001b[0me\u001b[0m\u001b[0;34m\u001b[0m\u001b[0;34m\u001b[0m\u001b[0m\n\u001b[0m\u001b[1;32m     11\u001b[0m \u001b[0;32melse\u001b[0m\u001b[0;34m:\u001b[0m\u001b[0;34m\u001b[0m\u001b[0;34m\u001b[0m\u001b[0m\n\u001b[1;32m     12\u001b[0m     \u001b[0mog\u001b[0m \u001b[0;34m=\u001b[0m \u001b[0mt1\u001b[0m\u001b[0;34m.\u001b[0m\u001b[0mtree\u001b[0m\u001b[0;34m.\u001b[0m\u001b[0mget_farthest_leaf\u001b[0m\u001b[0;34m(\u001b[0m\u001b[0;34m)\u001b[0m\u001b[0;34m[\u001b[0m\u001b[0;36m0\u001b[0m\u001b[0;34m]\u001b[0m\u001b[0;34m\u001b[0m\u001b[0;34m\u001b[0m\u001b[0m\n",
      "\u001b[0;32m/var/folders/hh/5hklqj_s6750r7xj6t72sqyw0000gn/T/ipykernel_20294/1910678114.py\u001b[0m in \u001b[0;36m<module>\u001b[0;34m\u001b[0m\n\u001b[1;32m      4\u001b[0m     \u001b[0mprint\u001b[0m\u001b[0;34m(\u001b[0m\u001b[0mt1\u001b[0m\u001b[0;34m.\u001b[0m\u001b[0mtree\u001b[0m\u001b[0;34m.\u001b[0m\u001b[0mget_species\u001b[0m\u001b[0;34m(\u001b[0m\u001b[0;34m)\u001b[0m\u001b[0;34m)\u001b[0m\u001b[0;34m\u001b[0m\u001b[0;34m\u001b[0m\u001b[0m\n\u001b[1;32m      5\u001b[0m     \u001b[0;32mtry\u001b[0m\u001b[0;34m:\u001b[0m\u001b[0;34m\u001b[0m\u001b[0;34m\u001b[0m\u001b[0m\n\u001b[0;32m----> 6\u001b[0;31m         \u001b[0mog\u001b[0m \u001b[0;34m=\u001b[0m \u001b[0mt1\u001b[0m\u001b[0;34m.\u001b[0m\u001b[0mtree\u001b[0m\u001b[0;34m.\u001b[0m\u001b[0mget_farthest_oldest_leaf\u001b[0m\u001b[0;34m(\u001b[0m\u001b[0mt1\u001b[0m\u001b[0;34m.\u001b[0m\u001b[0mroot_dict\u001b[0m\u001b[0;34m)\u001b[0m\u001b[0;34m\u001b[0m\u001b[0;34m\u001b[0m\u001b[0m\n\u001b[0m\u001b[1;32m      7\u001b[0m         \u001b[0mogseq\u001b[0m \u001b[0;34m=\u001b[0m \u001b[0mog\u001b[0m\u001b[0;34m.\u001b[0m\u001b[0mget_leaf_names\u001b[0m\u001b[0;34m(\u001b[0m\u001b[0;34m)\u001b[0m\u001b[0;34m[\u001b[0m\u001b[0;36m0\u001b[0m\u001b[0;34m]\u001b[0m\u001b[0;34m\u001b[0m\u001b[0;34m\u001b[0m\u001b[0m\n\u001b[1;32m      8\u001b[0m         \u001b[0mt1\u001b[0m\u001b[0;34m.\u001b[0m\u001b[0mtree\u001b[0m\u001b[0;34m.\u001b[0m\u001b[0mset_outgroup\u001b[0m\u001b[0;34m(\u001b[0m\u001b[0mog\u001b[0m\u001b[0;34m)\u001b[0m\u001b[0;34m\u001b[0m\u001b[0;34m\u001b[0m\u001b[0m\n",
      "\u001b[0;32m~/Library/Python/3.8/lib/python/site-packages/ete3/phylo/phylotree.py\u001b[0m in \u001b[0;36mget_farthest_oldest_leaf\u001b[0;34m(self, species2age, is_leaf_fn)\u001b[0m\n\u001b[1;32m    524\u001b[0m \u001b[0;34m\u001b[0m\u001b[0m\n\u001b[1;32m    525\u001b[0m         \u001b[0;32mfor\u001b[0m \u001b[0mleaf\u001b[0m \u001b[0;32min\u001b[0m \u001b[0mroot\u001b[0m\u001b[0;34m.\u001b[0m\u001b[0miter_leaves\u001b[0m\u001b[0;34m(\u001b[0m\u001b[0mis_leaf_fn\u001b[0m\u001b[0;34m=\u001b[0m\u001b[0mis_leaf_fn\u001b[0m\u001b[0;34m)\u001b[0m\u001b[0;34m:\u001b[0m\u001b[0;34m\u001b[0m\u001b[0;34m\u001b[0m\u001b[0m\n\u001b[0;32m--> 526\u001b[0;31m             \u001b[0;32mif\u001b[0m \u001b[0mleaf\u001b[0m\u001b[0;34m.\u001b[0m\u001b[0mget_age\u001b[0m\u001b[0;34m(\u001b[0m\u001b[0mspecies2age\u001b[0m\u001b[0;34m)\u001b[0m \u001b[0;34m>\u001b[0m \u001b[0moutgroup_age\u001b[0m\u001b[0;34m:\u001b[0m\u001b[0;34m\u001b[0m\u001b[0;34m\u001b[0m\u001b[0m\n\u001b[0m\u001b[1;32m    527\u001b[0m                 \u001b[0moutgroup_dist\u001b[0m \u001b[0;34m=\u001b[0m \u001b[0mleaf\u001b[0m\u001b[0;34m.\u001b[0m\u001b[0mget_distance\u001b[0m\u001b[0;34m(\u001b[0m\u001b[0mself\u001b[0m\u001b[0;34m)\u001b[0m\u001b[0;34m\u001b[0m\u001b[0;34m\u001b[0m\u001b[0m\n\u001b[1;32m    528\u001b[0m                 \u001b[0moutgroup_node\u001b[0m \u001b[0;34m=\u001b[0m \u001b[0mleaf\u001b[0m\u001b[0;34m\u001b[0m\u001b[0;34m\u001b[0m\u001b[0m\n",
      "\u001b[0;32m~/Library/Python/3.8/lib/python/site-packages/ete3/phylo/phylotree.py\u001b[0m in \u001b[0;36mget_age\u001b[0;34m(self, species2age)\u001b[0m\n\u001b[1;32m    471\u001b[0m         \u001b[0;36m38\u001b[0m\u001b[0;34m-\u001b[0m\u001b[0;36m45.\u001b[0m\u001b[0;34m\u001b[0m\u001b[0;34m\u001b[0m\u001b[0m\n\u001b[1;32m    472\u001b[0m         \"\"\"\n\u001b[0;32m--> 473\u001b[0;31m         \u001b[0;32mreturn\u001b[0m \u001b[0mmax\u001b[0m\u001b[0;34m(\u001b[0m\u001b[0;34m[\u001b[0m\u001b[0mspecies2age\u001b[0m\u001b[0;34m[\u001b[0m\u001b[0msp\u001b[0m\u001b[0;34m]\u001b[0m \u001b[0;32mfor\u001b[0m \u001b[0msp\u001b[0m \u001b[0;32min\u001b[0m \u001b[0mself\u001b[0m\u001b[0;34m.\u001b[0m\u001b[0mget_species\u001b[0m\u001b[0;34m(\u001b[0m\u001b[0;34m)\u001b[0m\u001b[0;34m]\u001b[0m\u001b[0;34m)\u001b[0m\u001b[0;34m\u001b[0m\u001b[0;34m\u001b[0m\u001b[0m\n\u001b[0m\u001b[1;32m    474\u001b[0m \u001b[0;34m\u001b[0m\u001b[0m\n\u001b[1;32m    475\u001b[0m     \u001b[0;32mdef\u001b[0m \u001b[0mreconcile\u001b[0m\u001b[0;34m(\u001b[0m\u001b[0mself\u001b[0m\u001b[0;34m,\u001b[0m \u001b[0mspecies_tree\u001b[0m\u001b[0;34m)\u001b[0m\u001b[0;34m:\u001b[0m\u001b[0;34m\u001b[0m\u001b[0;34m\u001b[0m\u001b[0m\n",
      "\u001b[0;32m~/Library/Python/3.8/lib/python/site-packages/ete3/phylo/phylotree.py\u001b[0m in \u001b[0;36m<listcomp>\u001b[0;34m(.0)\u001b[0m\n\u001b[1;32m    471\u001b[0m         \u001b[0;36m38\u001b[0m\u001b[0;34m-\u001b[0m\u001b[0;36m45.\u001b[0m\u001b[0;34m\u001b[0m\u001b[0;34m\u001b[0m\u001b[0m\n\u001b[1;32m    472\u001b[0m         \"\"\"\n\u001b[0;32m--> 473\u001b[0;31m         \u001b[0;32mreturn\u001b[0m \u001b[0mmax\u001b[0m\u001b[0;34m(\u001b[0m\u001b[0;34m[\u001b[0m\u001b[0mspecies2age\u001b[0m\u001b[0;34m[\u001b[0m\u001b[0msp\u001b[0m\u001b[0;34m]\u001b[0m \u001b[0;32mfor\u001b[0m \u001b[0msp\u001b[0m \u001b[0;32min\u001b[0m \u001b[0mself\u001b[0m\u001b[0;34m.\u001b[0m\u001b[0mget_species\u001b[0m\u001b[0;34m(\u001b[0m\u001b[0;34m)\u001b[0m\u001b[0;34m]\u001b[0m\u001b[0;34m)\u001b[0m\u001b[0;34m\u001b[0m\u001b[0;34m\u001b[0m\u001b[0m\n\u001b[0m\u001b[1;32m    474\u001b[0m \u001b[0;34m\u001b[0m\u001b[0m\n\u001b[1;32m    475\u001b[0m     \u001b[0;32mdef\u001b[0m \u001b[0mreconcile\u001b[0m\u001b[0;34m(\u001b[0m\u001b[0mself\u001b[0m\u001b[0;34m,\u001b[0m \u001b[0mspecies_tree\u001b[0m\u001b[0;34m)\u001b[0m\u001b[0;34m:\u001b[0m\u001b[0;34m\u001b[0m\u001b[0;34m\u001b[0m\u001b[0m\n",
      "\u001b[0;31mKeyError\u001b[0m: 'DROME'"
     ]
    }
   ],
   "source": [
    "print(any(sp in t1.root_dict for sp in t1.tree.get_species()))\n",
    "if any(sp in t1.root_dict for sp in t1.tree.get_species()):\n",
    "    print(t1.root_dict)\n",
    "    print(t1.tree.get_species())\n",
    "    try:\n",
    "        og = t1.tree.get_farthest_oldest_leaf(t1.root_dict)\n",
    "        ogseq = og.get_leaf_names()[0]\n",
    "        t1.tree.set_outgroup(og)\n",
    "    except Exception as e:\n",
    "        raise e\n",
    "else:\n",
    "    og = t1.tree.get_farthest_leaf()[0]\n",
    "    ogseq = og.get_leaf_names()[0]\n",
    "    t1.tree.set_outgroup(og)"
   ]
  },
  {
   "cell_type": "code",
   "execution_count": 33,
   "id": "4acc9ba6-3151-41ca-90e6-c5b86a0e4a49",
   "metadata": {},
   "outputs": [
    {
     "data": {
      "text/plain": [
       "True"
      ]
     },
     "execution_count": 33,
     "metadata": {},
     "output_type": "execute_result"
    }
   ],
   "source": []
  },
  {
   "cell_type": "code",
   "execution_count": 68,
   "id": "9f59faeb-fcfa-4267-863b-0f9d4fa32d51",
   "metadata": {},
   "outputs": [
    {
     "data": {
      "text/plain": [
       "['Phy00DOH37_MAIZE']"
      ]
     },
     "execution_count": 68,
     "metadata": {},
     "output_type": "execute_result"
    }
   ],
   "source": [
    "t1.tree.get_farthest_leaf()[0].get_leaf_names()"
   ]
  },
  {
   "cell_type": "code",
   "execution_count": 16,
   "id": "9546031d-61ba-4917-b823-83645e0baf88",
   "metadata": {},
   "outputs": [],
   "source": [
    "tree = t1.tree\n",
    "root_diction = t1.root_dict"
   ]
  },
  {
   "cell_type": "code",
   "execution_count": 32,
   "id": "ee12e361-5f0c-49d9-8422-c564403f58a0",
   "metadata": {},
   "outputs": [
    {
     "ename": "TypeError",
     "evalue": "'bool' object is not iterable",
     "output_type": "error",
     "traceback": [
      "\u001b[0;31m---------------------------------------------------------------------------\u001b[0m",
      "\u001b[0;31mTypeError\u001b[0m                                 Traceback (most recent call last)",
      "\u001b[0;32m/var/folders/hh/5hklqj_s6750r7xj6t72sqyw0000gn/T/ipykernel_20294/1162773020.py\u001b[0m in \u001b[0;36m<module>\u001b[0;34m\u001b[0m\n\u001b[0;32m----> 1\u001b[0;31m \u001b[0many\u001b[0m\u001b[0;34m(\u001b[0m\u001b[0mtree\u001b[0m\u001b[0;34m.\u001b[0m\u001b[0mget_species\u001b[0m\u001b[0;34m(\u001b[0m\u001b[0;34m)\u001b[0m \u001b[0;32min\u001b[0m \u001b[0mlist\u001b[0m\u001b[0;34m(\u001b[0m\u001b[0mroot_diction\u001b[0m\u001b[0;34m.\u001b[0m\u001b[0mkeys\u001b[0m\u001b[0;34m(\u001b[0m\u001b[0;34m)\u001b[0m\u001b[0;34m)\u001b[0m\u001b[0;34m)\u001b[0m\u001b[0;34m\u001b[0m\u001b[0;34m\u001b[0m\u001b[0m\n\u001b[0m",
      "\u001b[0;31mTypeError\u001b[0m: 'bool' object is not iterable"
     ]
    }
   ],
   "source": [
    "any(tree.get_species() in list(root_diction.keys()))"
   ]
  },
  {
   "cell_type": "code",
   "execution_count": 17,
   "id": "6c95d0b1-96a9-497d-be4b-377dccfa1c46",
   "metadata": {},
   "outputs": [
    {
     "ename": "KeyError",
     "evalue": "'DROME'",
     "output_type": "error",
     "traceback": [
      "\u001b[0;31m---------------------------------------------------------------------------\u001b[0m",
      "\u001b[0;31mKeyError\u001b[0m                                  Traceback (most recent call last)",
      "\u001b[0;32m/var/folders/hh/5hklqj_s6750r7xj6t72sqyw0000gn/T/ipykernel_20294/1755398589.py\u001b[0m in \u001b[0;36m<module>\u001b[0;34m\u001b[0m\n\u001b[0;32m----> 1\u001b[0;31m \u001b[0mtree\u001b[0m\u001b[0;34m.\u001b[0m\u001b[0mget_farthest_oldest_leaf\u001b[0m\u001b[0;34m(\u001b[0m\u001b[0mroot_diction\u001b[0m\u001b[0;34m)\u001b[0m\u001b[0;34m\u001b[0m\u001b[0;34m\u001b[0m\u001b[0m\n\u001b[0m",
      "\u001b[0;32m~/Library/Python/3.8/lib/python/site-packages/ete3/phylo/phylotree.py\u001b[0m in \u001b[0;36mget_farthest_oldest_leaf\u001b[0;34m(self, species2age, is_leaf_fn)\u001b[0m\n\u001b[1;32m    524\u001b[0m \u001b[0;34m\u001b[0m\u001b[0m\n\u001b[1;32m    525\u001b[0m         \u001b[0;32mfor\u001b[0m \u001b[0mleaf\u001b[0m \u001b[0;32min\u001b[0m \u001b[0mroot\u001b[0m\u001b[0;34m.\u001b[0m\u001b[0miter_leaves\u001b[0m\u001b[0;34m(\u001b[0m\u001b[0mis_leaf_fn\u001b[0m\u001b[0;34m=\u001b[0m\u001b[0mis_leaf_fn\u001b[0m\u001b[0;34m)\u001b[0m\u001b[0;34m:\u001b[0m\u001b[0;34m\u001b[0m\u001b[0;34m\u001b[0m\u001b[0m\n\u001b[0;32m--> 526\u001b[0;31m             \u001b[0;32mif\u001b[0m \u001b[0mleaf\u001b[0m\u001b[0;34m.\u001b[0m\u001b[0mget_age\u001b[0m\u001b[0;34m(\u001b[0m\u001b[0mspecies2age\u001b[0m\u001b[0;34m)\u001b[0m \u001b[0;34m>\u001b[0m \u001b[0moutgroup_age\u001b[0m\u001b[0;34m:\u001b[0m\u001b[0;34m\u001b[0m\u001b[0;34m\u001b[0m\u001b[0m\n\u001b[0m\u001b[1;32m    527\u001b[0m                 \u001b[0moutgroup_dist\u001b[0m \u001b[0;34m=\u001b[0m \u001b[0mleaf\u001b[0m\u001b[0;34m.\u001b[0m\u001b[0mget_distance\u001b[0m\u001b[0;34m(\u001b[0m\u001b[0mself\u001b[0m\u001b[0;34m)\u001b[0m\u001b[0;34m\u001b[0m\u001b[0;34m\u001b[0m\u001b[0m\n\u001b[1;32m    528\u001b[0m                 \u001b[0moutgroup_node\u001b[0m \u001b[0;34m=\u001b[0m \u001b[0mleaf\u001b[0m\u001b[0;34m\u001b[0m\u001b[0;34m\u001b[0m\u001b[0m\n",
      "\u001b[0;32m~/Library/Python/3.8/lib/python/site-packages/ete3/phylo/phylotree.py\u001b[0m in \u001b[0;36mget_age\u001b[0;34m(self, species2age)\u001b[0m\n\u001b[1;32m    471\u001b[0m         \u001b[0;36m38\u001b[0m\u001b[0;34m-\u001b[0m\u001b[0;36m45.\u001b[0m\u001b[0;34m\u001b[0m\u001b[0;34m\u001b[0m\u001b[0m\n\u001b[1;32m    472\u001b[0m         \"\"\"\n\u001b[0;32m--> 473\u001b[0;31m         \u001b[0;32mreturn\u001b[0m \u001b[0mmax\u001b[0m\u001b[0;34m(\u001b[0m\u001b[0;34m[\u001b[0m\u001b[0mspecies2age\u001b[0m\u001b[0;34m[\u001b[0m\u001b[0msp\u001b[0m\u001b[0;34m]\u001b[0m \u001b[0;32mfor\u001b[0m \u001b[0msp\u001b[0m \u001b[0;32min\u001b[0m \u001b[0mself\u001b[0m\u001b[0;34m.\u001b[0m\u001b[0mget_species\u001b[0m\u001b[0;34m(\u001b[0m\u001b[0;34m)\u001b[0m\u001b[0;34m]\u001b[0m\u001b[0;34m)\u001b[0m\u001b[0;34m\u001b[0m\u001b[0;34m\u001b[0m\u001b[0m\n\u001b[0m\u001b[1;32m    474\u001b[0m \u001b[0;34m\u001b[0m\u001b[0m\n\u001b[1;32m    475\u001b[0m     \u001b[0;32mdef\u001b[0m \u001b[0mreconcile\u001b[0m\u001b[0;34m(\u001b[0m\u001b[0mself\u001b[0m\u001b[0;34m,\u001b[0m \u001b[0mspecies_tree\u001b[0m\u001b[0;34m)\u001b[0m\u001b[0;34m:\u001b[0m\u001b[0;34m\u001b[0m\u001b[0;34m\u001b[0m\u001b[0m\n",
      "\u001b[0;32m~/Library/Python/3.8/lib/python/site-packages/ete3/phylo/phylotree.py\u001b[0m in \u001b[0;36m<listcomp>\u001b[0;34m(.0)\u001b[0m\n\u001b[1;32m    471\u001b[0m         \u001b[0;36m38\u001b[0m\u001b[0;34m-\u001b[0m\u001b[0;36m45.\u001b[0m\u001b[0;34m\u001b[0m\u001b[0;34m\u001b[0m\u001b[0m\n\u001b[1;32m    472\u001b[0m         \"\"\"\n\u001b[0;32m--> 473\u001b[0;31m         \u001b[0;32mreturn\u001b[0m \u001b[0mmax\u001b[0m\u001b[0;34m(\u001b[0m\u001b[0;34m[\u001b[0m\u001b[0mspecies2age\u001b[0m\u001b[0;34m[\u001b[0m\u001b[0msp\u001b[0m\u001b[0;34m]\u001b[0m \u001b[0;32mfor\u001b[0m \u001b[0msp\u001b[0m \u001b[0;32min\u001b[0m \u001b[0mself\u001b[0m\u001b[0;34m.\u001b[0m\u001b[0mget_species\u001b[0m\u001b[0;34m(\u001b[0m\u001b[0;34m)\u001b[0m\u001b[0;34m]\u001b[0m\u001b[0;34m)\u001b[0m\u001b[0;34m\u001b[0m\u001b[0;34m\u001b[0m\u001b[0m\n\u001b[0m\u001b[1;32m    474\u001b[0m \u001b[0;34m\u001b[0m\u001b[0m\n\u001b[1;32m    475\u001b[0m     \u001b[0;32mdef\u001b[0m \u001b[0mreconcile\u001b[0m\u001b[0;34m(\u001b[0m\u001b[0mself\u001b[0m\u001b[0;34m,\u001b[0m \u001b[0mspecies_tree\u001b[0m\u001b[0;34m)\u001b[0m\u001b[0;34m:\u001b[0m\u001b[0;34m\u001b[0m\u001b[0;34m\u001b[0m\u001b[0m\n",
      "\u001b[0;31mKeyError\u001b[0m: 'DROME'"
     ]
    }
   ],
   "source": [
    "tree.get_farthest_oldest_leaf(root_diction)"
   ]
  },
  {
   "cell_type": "code",
   "execution_count": 20,
   "id": "12911802-2909-4810-999f-6f6787f45b70",
   "metadata": {},
   "outputs": [
    {
     "data": {
      "text/plain": [
       "['158386',\n",
       " 'FRAEX',\n",
       " 'MIMGU',\n",
       " 'SALMI',\n",
       " 'SESIN',\n",
       " 'UTRGI',\n",
       " 'COFCA',\n",
       " 'SOLLC',\n",
       " 'HELAN',\n",
       " 'ARATH',\n",
       " 'AMBTC']"
      ]
     },
     "execution_count": 20,
     "metadata": {},
     "output_type": "execute_result"
    }
   ],
   "source": []
  },
  {
   "cell_type": "code",
   "execution_count": null,
   "id": "69eca1ae-b454-4b0a-a2d8-ea189b88cc89",
   "metadata": {},
   "outputs": [],
   "source": []
  }
 ],
 "metadata": {
  "kernelspec": {
   "display_name": "Python 3 (ipykernel)",
   "language": "python",
   "name": "python3"
  },
  "language_info": {
   "codemirror_mode": {
    "name": "ipython",
    "version": 3
   },
   "file_extension": ".py",
   "mimetype": "text/x-python",
   "name": "python",
   "nbconvert_exporter": "python",
   "pygments_lexer": "ipython3",
   "version": "3.8.2"
  }
 },
 "nbformat": 4,
 "nbformat_minor": 5
}
