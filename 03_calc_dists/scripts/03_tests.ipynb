{
 "cells": [
  {
   "cell_type": "code",
   "execution_count": null,
   "id": "300fb83e-917c-4280-acf6-bbbd8970ada4",
   "metadata": {},
   "outputs": [],
   "source": [
    "import statistics as stat\n",
    "from scipy import stats"
   ]
  },
  {
   "cell_type": "code",
   "execution_count": null,
   "id": "413fcc19-f781-4094-8271-fec502cb8281",
   "metadata": {},
   "outputs": [],
   "source": [
    "from tree_funs import *\n",
    "from rooted_phylomes import ROOTED_PHYLOMES"
   ]
  },
  {
   "cell_type": "code",
   "execution_count": null,
   "id": "6ac9a014-487a-4f5f-a165-1454227e1004",
   "metadata": {},
   "outputs": [],
   "source": [
    "prot_dict = csv_to_dict('../data/0003_all_protein_names.txt', sep='\\t')"
   ]
  },
  {
   "cell_type": "code",
   "execution_count": null,
   "id": "79a1143d-965c-4d73-9f62-69c2356eefa3",
   "metadata": {},
   "outputs": [],
   "source": [
    "tree = open('../data/0003_best_trees.txt').read().split('\\n')[1].split('\\t')"
   ]
  },
  {
   "cell_type": "code",
   "execution_count": null,
   "id": "97bae336-f8f2-483f-9947-3167492eecc4",
   "metadata": {},
   "outputs": [],
   "source": [
    "t1 = phylome_tree('0003', tree[0], tree[1], tree[2], tree[3], ROOTED_PHYLOMES[3], prot_dict)"
   ]
  },
  {
   "cell_type": "code",
   "execution_count": null,
   "id": "3de63430-ed32-4046-8541-ca13ae5854d5",
   "metadata": {},
   "outputs": [],
   "source": [
    "t1.tree.show()"
   ]
  },
  {
   "cell_type": "code",
   "execution_count": null,
   "id": "f2ff247d-176c-45ee-a0fb-afbaacd17f0c",
   "metadata": {},
   "outputs": [],
   "source": [
    "t1.root()\n",
    "t1.tree.get_descendant_evol_events()"
   ]
  },
  {
   "cell_type": "code",
   "execution_count": null,
   "id": "b10b4a24-766e-4098-aef2-3930246e4bcf",
   "metadata": {},
   "outputs": [],
   "source": [
    "t1.tree.get_speciation_trees()"
   ]
  },
  {
   "cell_type": "code",
   "execution_count": null,
   "id": "63518842-a2bc-435c-8522-258c2d31a29d",
   "metadata": {},
   "outputs": [],
   "source": [
    "for tree in t1.tree.get_speciation_trees()[2]:\n",
    "    if len(tree.get_leaf_names()) > 1:\n",
    "        sps = [item.split('_')[1] for item in tree.get_leaf_names()]\n",
    "        print(len(sps), len(set(sps)))\n",
    "        for leaf in tree.get_leaf_names():\n",
    "            print(tree.get_distance(tree.get_common_ancestor(tree), leaf))"
   ]
  },
  {
   "cell_type": "code",
   "execution_count": null,
   "id": "3856430e-b363-46a5-9a2f-0d87cab2d147",
   "metadata": {},
   "outputs": [],
   "source": []
  },
  {
   "cell_type": "code",
   "execution_count": null,
   "id": "5fc638cb-1aca-464c-8a27-d6ed8f0ee53d",
   "metadata": {},
   "outputs": [],
   "source": [
    "mphsptrees = dict()\n",
    "mphgtrees = dict()\n",
    "for i, subtree in enumerate(t1.tree.traverse()):\n",
    "    sps = [sp.split('_')[1] for sp in subtree.get_leaf_names()]\n",
    "    if len(sps) == len(set(sps)) and len(sps) > 10:\n",
    "        mphsptrees[len(sps)] = subtree\n",
    "    elif len(sps) > 10:\n",
    "        mphgtrees[len(sps) - len(set(sps))] = subtree\n",
    "\n",
    "if len(mphsptrees) > 0:\n",
    "    rtree = mphsptrees.get(max(mphsptrees.keys()))\n",
    "else:\n",
    "    rtree = mphgtrees.get(min(mphgtrees.keys()))\n",
    "\n",
    "root = rtree.get_common_ancestor(rtree)\n",
    "rwdth = rtree.get_farthest_leaf()[1]\n",
    "\n",
    "rtldist = list()\n",
    "for leaf in rtree.get_leaf_names():\n",
    "    rtldist.append(rtree.get_distance(root, leaf))\n",
    "\n",
    "rmean = stat.mean(rtldist)\n",
    "rmed = stat.median(rtldist)\n",
    "rskew = stats.skew(rtldist)\n",
    "rkurt = stats.kurtosis(rtldist)"
   ]
  },
  {
   "cell_type": "code",
   "execution_count": null,
   "id": "1834e814-6f41-4b34-98db-1dd83e239e28",
   "metadata": {},
   "outputs": [],
   "source": [
    "stat.stdev(rtldist)"
   ]
  },
  {
   "cell_type": "code",
   "execution_count": null,
   "id": "b044d729-9987-4050-a83d-bd0786a19763",
   "metadata": {},
   "outputs": [],
   "source": [
    "mphsptrees.keys()"
   ]
  },
  {
   "cell_type": "code",
   "execution_count": null,
   "id": "a28b67e2-ace0-4329-8169-b80925c31f94",
   "metadata": {},
   "outputs": [],
   "source": [
    "rtree.get_distance(rtree.get_common_ancestor(rtree), rtree.get_farthest_leaf()[0])"
   ]
  },
  {
   "cell_type": "code",
   "execution_count": null,
   "id": "19dcb9d1-dc8b-4c1a-802a-fb1417d9d205",
   "metadata": {},
   "outputs": [],
   "source": []
  },
  {
   "cell_type": "code",
   "execution_count": 1,
   "id": "08250a25-d43a-431b-88a1-5392dee4c986",
   "metadata": {},
   "outputs": [],
   "source": [
    "from tree_funs import *\n",
    "from rooted_phylomes import ROOTED_PHYLOMES"
   ]
  },
  {
   "cell_type": "code",
   "execution_count": 2,
   "id": "87d28123-bf33-4162-9a94-f06c93228fed",
   "metadata": {},
   "outputs": [],
   "source": [
    "treeset = open('../data/0469_best_trees.txt').read().split('\\n')\n",
    "protset = '../data/0469_all_protein_names.txt'\n",
    "prot_dict = csv_to_dict(protset, sep='\\t')"
   ]
  },
  {
   "cell_type": "code",
   "execution_count": 7,
   "id": "c6a0dfd9-1df9-463d-b5d2-0d828f1b367d",
   "metadata": {},
   "outputs": [],
   "source": [
    "tree = treeset[1]\n",
    "tree = tree.split('\\t')\n",
    "t1 = phylome_tree('0793', tree[0], tree[1], tree[2], tree[3], ROOTED_PHYLOMES[793], prot_dict, 'ofile_1.txt', 'ofile_2.txt')\n",
    "t1.root()"
   ]
  },
  {
   "cell_type": "code",
   "execution_count": 8,
   "id": "e77d088c-e0e8-45e0-81e7-44b44e6fb1c8",
   "metadata": {},
   "outputs": [
    {
     "name": "stdout",
     "output_type": "stream",
     "text": [
      "\n",
      "   /-Phy008BW7X_1169474\n",
      "  |\n",
      "  |         /-Phy008BHAV_1169540\n",
      "  |      /-|\n",
      "  |     |  |   /-Phy002WAN3_PLAVS\n",
      "  |     |   \\-|\n",
      "  |     |     |   /-Phy008BIEE_1169540\n",
      "  |     |      \\-|\n",
      "  |     |        |   /-Phy008CCFY_1169474\n",
      "  |     |         \\-|\n",
      "  |     |            \\-Phy008CCFZ_1169474\n",
      "  |     |\n",
      "  |     |            /-Phy008B2ZO_508771\n",
      "  |     |         /-|\n",
      "  |     |        |   \\-Phy008BWVB_1169474\n",
      "  |     |        |\n",
      "  |     |        |         /-Phy008BEG4_1169540\n",
      "  |     |        |      /-|\n",
      "  |     |        |     |  |   /-Phy008BS81_1169540\n",
      "  |     |        |     |   \\-|\n",
      "  |     |        |     |      \\-Phy008BYWE_1169474\n",
      "  |     |      /-|   /-|\n",
      "  |     |     |  |  |  |      /-Phy008B41X_508771\n",
      "  |     |     |  |  |  |   /-|\n",
      "  |     |     |  |  |  |  |   \\-Phy008BQR8_1169540\n",
      "  |     |     |  |  |   \\-|\n",
      "  |     |     |  |  |     |   /-Phy008BL1P_1169540\n",
      "  |     |     |  |  |      \\-|\n",
      "  |     |     |  |  |        |   /-Phy008B602_508771\n",
      "  |     |     |  |  |         \\-|\n",
      "  |   /-|     |   \\-|           |   /-Phy008BJBG_1169540\n",
      "  |  |  |     |     |            \\-|\n",
      "  |  |  |     |     |               \\-Phy008C0HD_1169474\n",
      "  |  |  |     |     |\n",
      "  |  |  |     |     |      /-Phy008BJU8_1169540\n",
      "--|  |  |     |     |   /-|\n",
      "  |  |  |     |     |  |   \\-Phy008C9AB_1169474\n",
      "  |  |  |   /-|     |  |\n",
      "  |  |  |  |  |     |  |      /-Phy008B3AA_508771\n",
      "  |  |  |  |  |      \\-|   /-|\n",
      "  |  |  |  |  |        |  |  |   /-Phy008BHEL_1169540\n",
      "  |  |  |  |  |        |  |   \\-|\n",
      "  |  |  |  |  |        |  |      \\-Phy008BHXV_1169540\n",
      "  |  |  |  |  |         \\-|\n",
      "  |  |  |  |  |           |      /-Phy008BG1C_1169540\n",
      "  |  |  |  |  |           |   /-|\n",
      "  |  |  |  |  |           |  |   \\-Phy008C2IM_1169474\n",
      "  |  |  |  |  |            \\-|\n",
      "  |  |  |  |  |              |   /-Phy008BHOL_1169540\n",
      "  |  |  |  |  |               \\-|\n",
      "  |  |  |  |  |                  \\-Phy008CFGG_1169474\n",
      "  |  |  |  |  |\n",
      "  |  |  |  |  |   /-Phy008BMGB_1169540\n",
      "  |  |  |  |   \\-|\n",
      "  |  |  |  |     |   /-Phy008B5HV_508771\n",
      "  |  |  |  |      \\-|\n",
      "  |  |  |  |        |   /-Phy008BZVU_1169474\n",
      "  |  |  |  |         \\-|\n",
      "  |  |   \\-|           |   /-Phy008CNA2_5861\n",
      "  |  |     |            \\-|\n",
      "  |  |     |              |   /-Phy008B8T4_PLAKH\n",
      "  |  |     |               \\-|\n",
      "  |  |     |                 |   /-Phy008B9KZ_PLAVS\n",
      "  |  |     |                  \\-|\n",
      "  |  |     |                     \\-Phy008CHML_1120755\n",
      "  |  |     |\n",
      "  |  |     |         /-Phy008BOJ6_1169540\n",
      "  |  |     |      /-|\n",
      "  |  |     |     |   \\-Phy008C7LR_1169474\n",
      "  |  |     |   /-|\n",
      "  |  |     |  |  |   /-Phy008C601_1169474\n",
      "   \\-|     |  |  |  |\n",
      "     |     |  |   \\-|   /-Phy008BUKK_1169540\n",
      "     |     |  |     |  |\n",
      "     |     |  |      \\-|   /-Phy008BNHK_1169540\n",
      "     |     |  |        |  |\n",
      "     |     |  |         \\-|   /-Phy008BKL0_1169540\n",
      "     |     |  |           |  |\n",
      "     |     |  |            \\-|      /-Phy003VQMV_PLAF7\n",
      "     |      \\-|              |   /-|\n",
      "     |        |              |  |   \\-Phy008BBJ7_PLARE\n",
      "     |        |               \\-|\n",
      "     |        |                 |   /-Phy008CPTX_5861\n",
      "     |        |                  \\-|\n",
      "     |        |                    |   /-Phy0030TQ7_PLAKH\n",
      "     |        |                     \\-|\n",
      "     |        |                       |   /-Phy002W9WZ_PLAVS\n",
      "     |        |                        \\-|\n",
      "     |        |                           \\-Phy008CJ24_1120755\n",
      "     |        |\n",
      "     |         \\-Phy008BSK9_1169540\n",
      "     |\n",
      "     |         /-Phy008C7QJ_1169474\n",
      "     |        |\n",
      "     |      /-|   /-Phy008BFNY_1169540\n",
      "     |     |  |  |\n",
      "     |     |   \\-|      /-Phy008BAS1_PLARE\n",
      "     |     |     |   /-|\n",
      "     |     |     |  |   \\-Phy008CGEA_PLAF7\n",
      "     |     |      \\-|\n",
      "     |     |        |   /-Phy0030QUN_PLAKH\n",
      "     |   /-|         \\-|\n",
      "     |  |  |           |   /-Phy008B9BE_PLAVS\n",
      "     |  |  |            \\-|\n",
      "     |  |  |               \\-Phy008CJ1J_1120755\n",
      "     |  |  |\n",
      "     |  |  |   /-Phy008BWW5_1169474\n",
      "     |  |  |  |\n",
      "     |  |   \\-|   /-Phy008CS5Q_333668\n",
      "     |  |     |  |\n",
      "     |  |      \\-|      /-Phy008BC4S_PLARE\n",
      "     |  |        |   /-|\n",
      "      \\-|        |  |   \\-Phy008CG2L_PLAF7\n",
      "        |         \\-|\n",
      "        |           |   /-Phy008CN3J_5861\n",
      "        |            \\-|\n",
      "        |              |   /-Phy0030SID_PLAKH\n",
      "        |               \\-|\n",
      "        |                 |   /-Phy002W92E_PLAVS\n",
      "        |                  \\-|\n",
      "        |                     \\-Phy008CGSJ_1120755\n",
      "        |\n",
      "        |   /-Phy008BZ9L_1169474\n",
      "        |  |\n",
      "         \\-|   /-Phy008B37A_508771\n",
      "           |  |\n",
      "            \\-|   /-Phy008CRKK_333668\n",
      "              |  |\n",
      "               \\-|      /-Phy002W9NQ_PLAVS\n",
      "                 |   /-|\n",
      "                 |  |   \\-Phy008CIP0_1120755\n",
      "                  \\-|\n",
      "                    |   /-Phy003VQEE_PLAF7\n",
      "                     \\-|\n",
      "                        \\-Phy008BBYJ_PLARE\n"
     ]
    }
   ],
   "source": [
    "print(t1.tree)"
   ]
  },
  {
   "cell_type": "code",
   "execution_count": 15,
   "id": "70240915-b30d-409e-989a-71f62c00bfa0",
   "metadata": {},
   "outputs": [],
   "source": [
    "t1.tree.get_distance('Phy008BW7X_1169474', 'Phy008CJ1J_1120755')\n",
    "st = t1.tree.get_descendant_evol_events()"
   ]
  },
  {
   "cell_type": "code",
   "execution_count": 22,
   "id": "cd5800aa-733b-4157-a391-a898aa15ed89",
   "metadata": {},
   "outputs": [
    {
     "name": "stdout",
     "output_type": "stream",
     "text": [
      "None\n",
      "None\n",
      "None\n",
      "None\n",
      "None\n",
      "None\n",
      "None\n",
      "None\n",
      "None\n",
      "None\n",
      "None\n",
      "None\n",
      "None\n",
      "None\n",
      "None\n",
      "None\n",
      "None\n",
      "None\n",
      "None\n",
      "None\n",
      "None\n",
      "None\n",
      "None\n",
      "None\n",
      "None\n",
      "None\n",
      "None\n",
      "None\n",
      "None\n",
      "None\n",
      "None\n",
      "None\n",
      "None\n",
      "None\n",
      "None\n",
      "None\n",
      "None\n",
      "None\n",
      "None\n",
      "None\n",
      "None\n",
      "None\n",
      "None\n",
      "None\n",
      "None\n",
      "None\n",
      "None\n",
      "None\n",
      "None\n",
      "None\n",
      "None\n",
      "None\n",
      "None\n",
      "None\n",
      "None\n",
      "None\n",
      "None\n",
      "None\n",
      "None\n",
      "None\n",
      "None\n",
      "None\n",
      "None\n",
      "None\n",
      "None\n",
      "None\n",
      "None\n"
     ]
    }
   ],
   "source": [
    "for event in st:\n",
    "    print(event.root_age)"
   ]
  },
  {
   "cell_type": "code",
   "execution_count": 5,
   "id": "f109c1ff-0343-41dc-a156-b6425868c0dd",
   "metadata": {},
   "outputs": [],
   "source": [
    "t1.get_refpars()"
   ]
  },
  {
   "cell_type": "code",
   "execution_count": 6,
   "id": "ce86f4c3-c228-4357-9183-6130abe8a579",
   "metadata": {},
   "outputs": [
    {
     "name": "stdout",
     "output_type": "stream",
     "text": [
      "\n",
      "   /-Phy008B7YK_508771\n",
      "--|\n",
      "  |   /-Phy008BNW7_1169540\n",
      "   \\-|\n",
      "      \\-Phy008CS42_333668\n"
     ]
    }
   ],
   "source": [
    "print(t1.rtree)"
   ]
  },
  {
   "cell_type": "code",
   "execution_count": null,
   "id": "f93aad22-8b3b-4c93-b1ab-bb79b8d6b3d2",
   "metadata": {},
   "outputs": [],
   "source": [
    "i = 0\n",
    "print(i)\n",
    "for tree in treeset:\n",
    "    tree = tree.split('\\t')\n",
    "    print(tree[0])\n",
    "    t1 = phylome_tree('0469', tree[0], tree[1], tree[2], tree[3], ROOTED_PHYLOMES[469], protset, 'ofile_1.txt', 'ofile_2.txt')\n",
    "    seqsl = t1.tree.get_leaf_names()\n",
    "    if ('Phy' in t1.seed_id and\n",
    "            len(seqsl) == len(set(seqsl)) and\n",
    "            len(seqsl) > 10):\n",
    "        t1.root()\n",
    "    i += 1\n",
    "    print(i)"
   ]
  },
  {
   "cell_type": "code",
   "execution_count": null,
   "id": "ef45e4ca-c61d-44ea-a8b7-baeae44e2c9e",
   "metadata": {
    "tags": []
   },
   "outputs": [],
   "source": [
    "print(t1.root())"
   ]
  },
  {
   "cell_type": "code",
   "execution_count": null,
   "id": "4ec55cb6-da25-4abf-a24d-ec59ffc14574",
   "metadata": {},
   "outputs": [],
   "source": [
    "print(any(sp in t1.root_dict for sp in t1.tree.get_species()))\n",
    "if any(sp in t1.root_dict for sp in t1.tree.get_species()):\n",
    "    print(t1.root_dict)\n",
    "    print(t1.tree.get_species())\n",
    "    og = t1.tree.get_farthest_oldest_leaf(t1.root_dict)\n",
    "    ogseq = og.get_leaf_names()[0]\n",
    "    t1.tree.set_outgroup(og)\n",
    "else:\n",
    "    og = t1.tree.get_farthest_leaf()[0]\n",
    "    ogseq = og.get_leaf_names()[0]\n",
    "    t1.tree.set_outgroup(og)"
   ]
  },
  {
   "cell_type": "code",
   "execution_count": null,
   "id": "4acc9ba6-3151-41ca-90e6-c5b86a0e4a49",
   "metadata": {},
   "outputs": [],
   "source": [
    "print(t1.tree)"
   ]
  },
  {
   "cell_type": "code",
   "execution_count": null,
   "id": "9f59faeb-fcfa-4267-863b-0f9d4fa32d51",
   "metadata": {},
   "outputs": [],
   "source": [
    "t1.tree.get_farthest_leaf()[0].get_leaf_names()"
   ]
  },
  {
   "cell_type": "code",
   "execution_count": null,
   "id": "9546031d-61ba-4917-b823-83645e0baf88",
   "metadata": {},
   "outputs": [],
   "source": [
    "tree = t1.tree\n",
    "root_diction = t1.root_dict"
   ]
  },
  {
   "cell_type": "code",
   "execution_count": null,
   "id": "ee12e361-5f0c-49d9-8422-c564403f58a0",
   "metadata": {},
   "outputs": [],
   "source": [
    "print(any(sp in root_diction for sp in tree.get_species()))"
   ]
  },
  {
   "cell_type": "code",
   "execution_count": null,
   "id": "c4eb0da4-ccc9-4e3b-9c9a-4b1fe0419fe7",
   "metadata": {},
   "outputs": [],
   "source": [
    "og = t1.tree.get_farthest_oldest_leaf(t1.root_dict)\n",
    "ogseq = og.get_leaf_names()[0]\n",
    "t1.tree.set_outgroup(og)"
   ]
  },
  {
   "cell_type": "code",
   "execution_count": null,
   "id": "a59f78d1-f604-4295-b680-83ce807c124c",
   "metadata": {},
   "outputs": [],
   "source": [
    "root_diction\n",
    "tree.get_species()"
   ]
  },
  {
   "cell_type": "code",
   "execution_count": null,
   "id": "f2e49945-fdd9-4303-a042-08a9c45bd578",
   "metadata": {},
   "outputs": [],
   "source": [
    "print(t1.root_dict)\n",
    "print(t1.tree.get_species())\n",
    "print(any(sp in t1.root_dict for sp in t1.tree.get_species()))\n",
    "if any(sp in t1.root_dict for sp in t1.tree.get_species()):\n",
    "    ogdval = max([t1.root_dict.get(sp, 0) for sp in t1.tree.get_species()])\n",
    "    print(ogdval)\n",
    "    ogsps = [k for k, val in t1.root_dict.items() if val == ogdval and k in t1.tree.get_species()][0]\n",
    "    print(ogsps)\n",
    "    print(t1.tree.get_leaf_names())\n",
    "    ogseq = [seq for seq in t1.tree.get_leaf_names() if ogsps in seq][0]\n",
    "else:\n",
    "    ogseq = t1.tree.get_farthest_leaf()[0].get_leaf_names()[0]"
   ]
  },
  {
   "cell_type": "markdown",
   "id": "0d3492d0-bb5e-417c-8ffc-9eaefcc34637",
   "metadata": {},
   "source": [
    "# Traverse of nodes"
   ]
  },
  {
   "cell_type": "code",
   "execution_count": 137,
   "id": "20d0cc62-c8f5-4e92-91db-19cd935a2553",
   "metadata": {},
   "outputs": [],
   "source": [
    "import ete3"
   ]
  },
  {
   "cell_type": "code",
   "execution_count": 138,
   "id": "07cfdb24-b5ba-4a22-bb15-d9716e82fb03",
   "metadata": {},
   "outputs": [],
   "source": [
    "def get_species_tag(node):\n",
    "    return node.split(\"_\")[1]"
   ]
  },
  {
   "cell_type": "code",
   "execution_count": 139,
   "id": "01e75519-1848-4ead-8bbb-e3b409ae98f1",
   "metadata": {},
   "outputs": [],
   "source": [
    "t = ete3.PhyloTree('((1_A,(1_B,1_C)),(2_A,(2_B,2_C)));', sp_naming_function=get_species_tag)\n",
    "# t.populate(6, random_branches=True, names_library=['1_a', '1_b', '1_c', '2_a', '2_c', '2_b'], )"
   ]
  },
  {
   "cell_type": "code",
   "execution_count": 151,
   "id": "bac411c4-be43-409f-aa3d-f7728e75111f",
   "metadata": {},
   "outputs": [
    {
     "name": "stdout",
     "output_type": "stream",
     "text": [
      "\n",
      "      /-1_A\n",
      "   /-|\n",
      "  |  |   /-1_B\n",
      "  |   \\-|\n",
      "--|      \\-1_C\n",
      "  |\n",
      "  |   /-2_A\n",
      "   \\-|\n",
      "     |   /-2_B\n",
      "      \\-|\n",
      "         \\-2_C\n",
      "\n",
      "      /-1_A\n",
      "   /-|\n",
      "  |  |   /-1_B\n",
      "  |   \\-|\n",
      "--|      \\-1_C\n",
      "  |\n",
      "  |   /-2_A\n",
      "   \\-|\n",
      "     |   /-2_B\n",
      "      \\-|\n",
      "         \\-2_C\n",
      "D\n",
      "\n",
      "   /-1_A\n",
      "--|\n",
      "  |   /-1_B\n",
      "   \\-|\n",
      "      \\-1_C\n",
      "S\n",
      "\n",
      "   /-2_A\n",
      "--|\n",
      "  |   /-2_B\n",
      "   \\-|\n",
      "      \\-2_C\n",
      "S\n",
      "\n",
      "--1_A\n",
      "\n",
      "   /-1_B\n",
      "--|\n",
      "   \\-1_C\n",
      "S\n",
      "\n",
      "--2_A\n",
      "\n",
      "   /-2_B\n",
      "--|\n",
      "   \\-2_C\n",
      "S\n",
      "\n",
      "--1_B\n",
      "\n",
      "--1_C\n",
      "\n",
      "--2_B\n",
      "\n",
      "--2_C\n"
     ]
    }
   ],
   "source": [
    "print(t)\n",
    "t.get_descendant_evol_events()\n",
    "for st in t.traverse():\n",
    "    print(st)\n",
    "    if 'evoltype' in st.features:\n",
    "        print(st.evoltype)"
   ]
  },
  {
   "cell_type": "code",
   "execution_count": 222,
   "id": "54def408-f557-4972-a551-d22553bc758b",
   "metadata": {},
   "outputs": [
    {
     "name": "stdout",
     "output_type": "stream",
     "text": [
      "1_A 1_B\n",
      "\n",
      "   /-1_A\n",
      "--|\n",
      "  |   /-1_B\n",
      "   \\-|\n",
      "      \\-1_C\n",
      "Speciation event: 2\n",
      "Duplication events: 0\n",
      "1_C 1_B\n",
      "\n",
      "   /-1_B\n",
      "--|\n",
      "   \\-1_C\n",
      "Speciation event: 1\n",
      "Duplication events: 0\n",
      "2_A 1_B\n",
      "\n",
      "      /-1_A\n",
      "   /-|\n",
      "  |  |   /-1_B\n",
      "  |   \\-|\n",
      "--|      \\-1_C\n",
      "  |\n",
      "  |   /-2_A\n",
      "   \\-|\n",
      "     |   /-2_B\n",
      "      \\-|\n",
      "         \\-2_C\n",
      "Speciation event: 3\n",
      "Duplication events: 1\n",
      "2_B 1_B\n",
      "\n",
      "      /-1_A\n",
      "   /-|\n",
      "  |  |   /-1_B\n",
      "  |   \\-|\n",
      "--|      \\-1_C\n",
      "  |\n",
      "  |   /-2_A\n",
      "   \\-|\n",
      "     |   /-2_B\n",
      "      \\-|\n",
      "         \\-2_C\n",
      "Speciation event: 4\n",
      "Duplication events: 1\n",
      "2_C 1_B\n",
      "\n",
      "      /-1_A\n",
      "   /-|\n",
      "  |  |   /-1_B\n",
      "  |   \\-|\n",
      "--|      \\-1_C\n",
      "  |\n",
      "  |   /-2_A\n",
      "   \\-|\n",
      "     |   /-2_B\n",
      "      \\-|\n",
      "         \\-2_C\n",
      "Speciation event: 4\n",
      "Duplication events: 1\n"
     ]
    }
   ],
   "source": [
    "seqfrom = '1_B'\n",
    "for leaf in t.get_leaf_names():\n",
    "    if leaf != seqfrom:\n",
    "        print(leaf, seqfrom)\n",
    "        events = dict()\n",
    "        events['S'] = 0\n",
    "        events['D'] = 0\n",
    "        \n",
    "        ltstr = t.get_common_ancestor(seqfrom, leaf)\n",
    "        ltstreeln = ltstr.get_leaf_names()\n",
    "        print(ltstr)\n",
    "        for node in ltstr.get_leaves_by_name(seqfrom)[0].get_ancestors():\n",
    "            nln = node.get_leaf_names()\n",
    "            if len(nln) <= len(ltstreeln):\n",
    "                events[node.evoltype] += 1\n",
    "        for node in ltstr.get_leaves_by_name(leaf)[0].get_ancestors():\n",
    "            nln = node.get_leaf_names()\n",
    "            if len(nln) <= len(ltstreeln):\n",
    "                events[node.evoltype] += 1\n",
    "        events[ltstr.evoltype] -= 1\n",
    "        print('Speciation event: %s\\nDuplication events: %s' % (events['S'], events['D']))"
   ]
  },
  {
   "cell_type": "code",
   "execution_count": 220,
   "id": "00f34463-055e-49e9-b621-98eee87effe4",
   "metadata": {},
   "outputs": [
    {
     "name": "stdout",
     "output_type": "stream",
     "text": [
      "1_A 1_B\n",
      "\n",
      "   /-1_A\n",
      "--|\n",
      "  |   /-1_B\n",
      "   \\-|\n",
      "      \\-1_C\n",
      "Speciation event: 2\n",
      "Duplication events: 0\n",
      "1_C 1_B\n",
      "\n",
      "   /-1_B\n",
      "--|\n",
      "   \\-1_C\n",
      "Speciation event: 1\n",
      "Duplication events: 0\n",
      "2_A 1_B\n",
      "\n",
      "      /-1_A\n",
      "   /-|\n",
      "  |  |   /-1_B\n",
      "  |   \\-|\n",
      "--|      \\-1_C\n",
      "  |\n",
      "  |   /-2_A\n",
      "   \\-|\n",
      "     |   /-2_B\n",
      "      \\-|\n",
      "         \\-2_C\n",
      "Speciation event: 3\n",
      "Duplication events: 1\n",
      "2_B 1_B\n",
      "\n",
      "      /-1_A\n",
      "   /-|\n",
      "  |  |   /-1_B\n",
      "  |   \\-|\n",
      "--|      \\-1_C\n",
      "  |\n",
      "  |   /-2_A\n",
      "   \\-|\n",
      "     |   /-2_B\n",
      "      \\-|\n",
      "         \\-2_C\n",
      "Speciation event: 4\n",
      "Duplication events: 1\n",
      "2_C 1_B\n",
      "\n",
      "      /-1_A\n",
      "   /-|\n",
      "  |  |   /-1_B\n",
      "  |   \\-|\n",
      "--|      \\-1_C\n",
      "  |\n",
      "  |   /-2_A\n",
      "   \\-|\n",
      "     |   /-2_B\n",
      "      \\-|\n",
      "         \\-2_C\n",
      "Speciation event: 4\n",
      "Duplication events: 1\n"
     ]
    }
   ],
   "source": [
    "seqfrom = '1_B'\n",
    "for leaf in t.get_leaf_names():\n",
    "    if leaf != seqfrom:\n",
    "        print(leaf, seqfrom)\n",
    "        Ss = 0\n",
    "        Ds = 0\n",
    "        ltstr = t.get_common_ancestor(seqfrom, leaf)\n",
    "        ltstreeln = ltstr.get_leaf_names()\n",
    "        print(ltstr)\n",
    "        for node in ltstr.get_leaves_by_name(seqfrom)[0].get_ancestors():\n",
    "            nln = node.get_leaf_names()\n",
    "            if len(nln) <= len(ltstreeln):\n",
    "                if node.evoltype == 'S':\n",
    "                    Ss += 1\n",
    "                elif node.evoltype == 'D':\n",
    "                    Ds += 1\n",
    "        for node in ltstr.get_leaves_by_name(leaf)[0].get_ancestors():\n",
    "            nln = node.get_leaf_names()\n",
    "            if len(nln) <= len(ltstreeln):\n",
    "                if node.evoltype == 'S':\n",
    "                    Ss += 1\n",
    "                elif node.evoltype == 'D':\n",
    "                    Ds += 1\n",
    "        if ltstr.evoltype == 'S':\n",
    "            Ss -= 1\n",
    "        else:\n",
    "            Ds -= 1\n",
    "        print('Speciation event: %s\\nDuplication events: %s' % (Ss, Ds))"
   ]
  },
  {
   "cell_type": "code",
   "execution_count": 144,
   "id": "11807bd1-56dc-40ac-8ae4-b3a52f0b8552",
   "metadata": {},
   "outputs": [],
   "source": [
    "for st in t.traverse():\n",
    "    if len(st.getiter_ancestors > len(st.get_species()) and len(st.get_leaf_names()) > 1:\n",
    "        st.add_feature('ntype', 'D')\n",
    "    elif len(st.get_leaf_names()) > 1:\n",
    "        st.add_feature('ntype', 'S')"
   ]
  },
  {
   "cell_type": "code",
   "execution_count": 145,
   "id": "54380529-1b87-40e1-8f58-6e893e174284",
   "metadata": {},
   "outputs": [
    {
     "data": {
      "text/plain": [
       "[<ete3.phylo.evolevents.EvolEvent at 0x128e24ca0>,\n",
       " <ete3.phylo.evolevents.EvolEvent at 0x128e247f0>,\n",
       " <ete3.phylo.evolevents.EvolEvent at 0x128e240d0>,\n",
       " <ete3.phylo.evolevents.EvolEvent at 0x128e24550>,\n",
       " <ete3.phylo.evolevents.EvolEvent at 0x128e24430>]"
      ]
     },
     "execution_count": 145,
     "metadata": {},
     "output_type": "execute_result"
    }
   ],
   "source": []
  },
  {
   "cell_type": "code",
   "execution_count": 147,
   "id": "a11a208e-cc3e-43b8-8d6a-915e6e1596a4",
   "metadata": {},
   "outputs": [
    {
     "name": "stdout",
     "output_type": "stream",
     "text": [
      "{'support', 'ntype', 'evoltype', 'dist', 'name'}\n",
      "{'support', 'ntype', 'evoltype', 'dist', 'name'}\n",
      "{'support', 'ntype', 'evoltype', 'dist', 'name'}\n",
      "{'support', 'ntype', 'species', 'dist', 'name'}\n",
      "{'support', 'ntype', 'evoltype', 'dist', 'name'}\n",
      "{'support', 'ntype', 'species', 'dist', 'name'}\n",
      "{'support', 'ntype', 'evoltype', 'dist', 'name'}\n",
      "{'support', 'ntype', 'species', 'dist', 'name'}\n",
      "{'support', 'ntype', 'species', 'dist', 'name'}\n",
      "{'support', 'ntype', 'species', 'dist', 'name'}\n",
      "{'support', 'ntype', 'species', 'dist', 'name'}\n"
     ]
    }
   ],
   "source": [
    "for st in t.traverse():\n",
    "    print(st.features)"
   ]
  },
  {
   "cell_type": "code",
   "execution_count": 69,
   "id": "12fa1996-e244-4bcc-a4b9-3158c032b687",
   "metadata": {},
   "outputs": [],
   "source": [
    "for ev in t.get_my_evol_events():\n",
    "    print(ev.dup)"
   ]
  },
  {
   "cell_type": "code",
   "execution_count": 72,
   "id": "cf79daac-b33e-4e20-957f-51aab050a8c0",
   "metadata": {},
   "outputs": [
    {
     "data": {
      "text/plain": [
       "PhyloTree node '' (0x127c9f9d)"
      ]
     },
     "execution_count": 72,
     "metadata": {},
     "output_type": "execute_result"
    }
   ],
   "source": []
  },
  {
   "cell_type": "code",
   "execution_count": 225,
   "id": "b157af16-60a2-4ea6-8f51-8abc92e92ec0",
   "metadata": {},
   "outputs": [],
   "source": [
    "def get_events(t, seqfrom, leaf):\n",
    "    events = dict()\n",
    "    events['S'] = 0\n",
    "    events['D'] = 0\n",
    "\n",
    "    ltstr = t.get_common_ancestor(seqfrom, leaf)\n",
    "    ltstreeln = ltstr.get_leaf_names()\n",
    "    print(ltstr)\n",
    "    for node in ltstr.get_leaves_by_name(seqfrom)[0].get_ancestors():\n",
    "        nln = node.get_leaf_names()\n",
    "        if len(nln) <= len(ltstreeln):\n",
    "            events[node.evoltype] += 1\n",
    "    for node in ltstr.get_leaves_by_name(leaf)[0].get_ancestors():\n",
    "        nln = node.get_leaf_names()\n",
    "        if len(nln) <= len(ltstreeln):\n",
    "            events[node.evoltype] += 1\n",
    "    events[ltstr.evoltype] -= 1\n",
    "    \n",
    "    return events"
   ]
  },
  {
   "cell_type": "code",
   "execution_count": 226,
   "id": "dd963af5-3d59-4e32-a58c-399a60c194d3",
   "metadata": {},
   "outputs": [
    {
     "name": "stdout",
     "output_type": "stream",
     "text": [
      "\n",
      "      /-1_A\n",
      "   /-|\n",
      "  |  |   /-1_B\n",
      "  |   \\-|\n",
      "--|      \\-1_C\n",
      "  |\n",
      "  |   /-2_A\n",
      "   \\-|\n",
      "     |   /-2_B\n",
      "      \\-|\n",
      "         \\-2_C\n"
     ]
    },
    {
     "data": {
      "text/plain": [
       "{'S': 3, 'D': 1}"
      ]
     },
     "execution_count": 226,
     "metadata": {},
     "output_type": "execute_result"
    }
   ],
   "source": [
    "get_events(t, '1_A', '2_B')"
   ]
  },
  {
   "cell_type": "code",
   "execution_count": 227,
   "id": "081a7a88-54a9-47a0-b8b7-0c6d37cb1d9f",
   "metadata": {},
   "outputs": [],
   "source": [
    "events = t.get_descendant_evol_events()\n",
    "#Agafa l'ancestre comu de les dues branques\n",
    "anc = t.get_common_ancestor(\"2_A\",\"1_B\")\n",
    "#Agafa l'evoltype de l'ancestre comu\n",
    "evoltype1 = anc.evoltype\n",
    "#Calcula el numero de duplicacions i especiacions en el subarbre\n",
    "duplis, spec = 0,0\n",
    "for node in anc.traverse():\n",
    "    if not node.is_leaf():\n",
    "        if node.evoltype == \"D\":\n",
    "            duplis += 1\n",
    "        elif node.evoltype == \"S\":\n",
    "            spec += 1"
   ]
  },
  {
   "cell_type": "code",
   "execution_count": 229,
   "id": "f8d1ff0d-fa10-4332-98bc-1450dbb9a162",
   "metadata": {},
   "outputs": [
    {
     "data": {
      "text/plain": [
       "4"
      ]
     },
     "execution_count": 229,
     "metadata": {},
     "output_type": "execute_result"
    }
   ],
   "source": [
    "spec"
   ]
  },
  {
   "cell_type": "code",
   "execution_count": 235,
   "id": "25d63944-a78a-4932-ac8f-7218f7f147b0",
   "metadata": {},
   "outputs": [
    {
     "data": {
      "text/plain": [
       "'abcabc'"
      ]
     },
     "execution_count": 235,
     "metadata": {},
     "output_type": "execute_result"
    }
   ],
   "source": [
    "('abc' +\n",
    "    'abc')"
   ]
  },
  {
   "cell_type": "code",
   "execution_count": null,
   "id": "e402e7b9-d558-48c9-a60e-a60a263a80f9",
   "metadata": {},
   "outputs": [],
   "source": []
  }
 ],
 "metadata": {
  "kernelspec": {
   "display_name": "Python 3 (ipykernel)",
   "language": "python",
   "name": "python3"
  },
  "language_info": {
   "codemirror_mode": {
    "name": "ipython",
    "version": 3
   },
   "file_extension": ".py",
   "mimetype": "text/x-python",
   "name": "python",
   "nbconvert_exporter": "python",
   "pygments_lexer": "ipython3",
   "version": "3.8.2"
  }
 },
 "nbformat": 4,
 "nbformat_minor": 5
}
