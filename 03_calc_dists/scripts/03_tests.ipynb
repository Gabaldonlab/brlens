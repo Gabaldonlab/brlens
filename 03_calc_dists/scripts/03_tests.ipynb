{
 "cells": [
  {
   "cell_type": "code",
   "execution_count": 2,
   "id": "300fb83e-917c-4280-acf6-bbbd8970ada4",
   "metadata": {},
   "outputs": [],
   "source": [
    "import statistics as stat\n",
    "from scipy import stats"
   ]
  },
  {
   "cell_type": "code",
   "execution_count": 3,
   "id": "413fcc19-f781-4094-8271-fec502cb8281",
   "metadata": {},
   "outputs": [],
   "source": [
    "from tree_funs_classes import *\n",
    "from rooted_phylomes import ROOTED_PHYLOMES"
   ]
  },
  {
   "cell_type": "code",
   "execution_count": 4,
   "id": "6ac9a014-487a-4f5f-a165-1454227e1004",
   "metadata": {},
   "outputs": [],
   "source": [
    "prot_dict = csv_to_dict('../data/0003_all_protein_names.txt', sep='\\t')"
   ]
  },
  {
   "cell_type": "code",
   "execution_count": 5,
   "id": "79a1143d-965c-4d73-9f62-69c2356eefa3",
   "metadata": {},
   "outputs": [],
   "source": [
    "tree = open('../data/0003_best_trees.txt').read().split('\\n')[1].split('\\t')"
   ]
  },
  {
   "cell_type": "code",
   "execution_count": 23,
   "id": "97bae336-f8f2-483f-9947-3167492eecc4",
   "metadata": {},
   "outputs": [],
   "source": [
    "t1 = phylome_tree('0003', tree[0], tree[1], tree[2], tree[3], ROOTED_PHYLOMES[3], prot_dict)"
   ]
  },
  {
   "cell_type": "code",
   "execution_count": 24,
   "id": "3de63430-ed32-4046-8541-ca13ae5854d5",
   "metadata": {},
   "outputs": [],
   "source": [
    "t1.tree.show()"
   ]
  },
  {
   "cell_type": "code",
   "execution_count": 58,
   "id": "f2ff247d-176c-45ee-a0fb-afbaacd17f0c",
   "metadata": {},
   "outputs": [],
   "source": [
    "t1.root()\n",
    "t1.tree.get_descendant_evol_events()"
   ]
  },
  {
   "cell_type": "code",
   "execution_count": 25,
   "id": "b10b4a24-766e-4098-aef2-3930246e4bcf",
   "metadata": {},
   "outputs": [
    {
     "data": {
      "text/plain": [
       "(4, 2, <generator object _get_subtrees at 0x132275f90>)"
      ]
     },
     "execution_count": 25,
     "metadata": {},
     "output_type": "execute_result"
    }
   ],
   "source": [
    "t1.tree.get_speciation_trees()"
   ]
  },
  {
   "cell_type": "code",
   "execution_count": null,
   "id": "63518842-a2bc-435c-8522-258c2d31a29d",
   "metadata": {},
   "outputs": [],
   "source": [
    "for tree in t1.tree.get_speciation_trees()[2]:\n",
    "    if len(tree.get_leaf_names()) > 1:\n",
    "        sps = [item.split('_')[1] for item in tree.get_leaf_names()]\n",
    "        print(len(sps), len(set(sps)))\n",
    "        for leaf in tree.get_leaf_names():\n",
    "            print(tree.get_distance(tree.get_common_ancestor(tree), leaf))"
   ]
  },
  {
   "cell_type": "code",
   "execution_count": null,
   "id": "3856430e-b363-46a5-9a2f-0d87cab2d147",
   "metadata": {},
   "outputs": [],
   "source": []
  },
  {
   "cell_type": "code",
   "execution_count": 41,
   "id": "5fc638cb-1aca-464c-8a27-d6ed8f0ee53d",
   "metadata": {},
   "outputs": [
    {
     "name": "stdout",
     "output_type": "stream",
     "text": [
      "0\n",
      "2\n",
      "Hola\n"
     ]
    }
   ],
   "source": [
    "mphsptrees = dict()\n",
    "mphgtrees = dict()\n",
    "for i, subtree in enumerate(t1.tree.traverse()):\n",
    "    sps = [sp.split('_')[1] for sp in subtree.get_leaf_names()]\n",
    "    if len(sps) == len(set(sps)) and len(sps) > 10:\n",
    "        mphsptrees[len(sps)] = subtree\n",
    "    elif len(sps) > 10:\n",
    "        mphgtrees[len(sps) - len(set(sps))] = subtree\n",
    "\n",
    "if len(mphsptrees) > 0:\n",
    "    rtree = mphsptrees.get(max(mphsptrees.keys()))\n",
    "else:\n",
    "    rtree = mphgtrees.get(min(mphgtrees.keys()))\n",
    "\n",
    "root = rtree.get_common_ancestor(rtree)\n",
    "rwdth = rtree.get_farthest_leaf()[1]\n",
    "\n",
    "rtldist = list()\n",
    "for leaf in rtree.get_leaf_names():\n",
    "    rtldist.append(rtree.get_distance(root, leaf))\n",
    "\n",
    "rmean = stat.mean(rtldist)\n",
    "rmed = stat.median(rtldist)\n",
    "rskew = stats.skew(rtldist)\n",
    "rkurt = stats.kurtosis(rtldist)"
   ]
  },
  {
   "cell_type": "code",
   "execution_count": 35,
   "id": "1834e814-6f41-4b34-98db-1dd83e239e28",
   "metadata": {},
   "outputs": [
    {
     "ename": "NameError",
     "evalue": "name 'rtldist' is not defined",
     "output_type": "error",
     "traceback": [
      "\u001b[0;31m---------------------------------------------------------------------------\u001b[0m",
      "\u001b[0;31mNameError\u001b[0m                                 Traceback (most recent call last)",
      "\u001b[0;32m/var/folders/hh/5hklqj_s6750r7xj6t72sqyw0000gn/T/ipykernel_87437/1626219615.py\u001b[0m in \u001b[0;36m<module>\u001b[0;34m\u001b[0m\n\u001b[0;32m----> 1\u001b[0;31m \u001b[0mstat\u001b[0m\u001b[0;34m.\u001b[0m\u001b[0mstdev\u001b[0m\u001b[0;34m(\u001b[0m\u001b[0mrtldist\u001b[0m\u001b[0;34m)\u001b[0m\u001b[0;34m\u001b[0m\u001b[0;34m\u001b[0m\u001b[0m\n\u001b[0m",
      "\u001b[0;31mNameError\u001b[0m: name 'rtldist' is not defined"
     ]
    }
   ],
   "source": [
    "stat.stdev(rtldist)"
   ]
  },
  {
   "cell_type": "code",
   "execution_count": 28,
   "id": "b044d729-9987-4050-a83d-bd0786a19763",
   "metadata": {},
   "outputs": [
    {
     "data": {
      "text/plain": [
       "dict_keys([47, 20, 27, 19, 23, 11, 12])"
      ]
     },
     "execution_count": 28,
     "metadata": {},
     "output_type": "execute_result"
    }
   ],
   "source": [
    "mphsptrees.keys()"
   ]
  },
  {
   "cell_type": "code",
   "execution_count": 29,
   "id": "a28b67e2-ace0-4329-8169-b80925c31f94",
   "metadata": {},
   "outputs": [
    {
     "data": {
      "text/plain": [
       "4.127292999999999"
      ]
     },
     "execution_count": 29,
     "metadata": {},
     "output_type": "execute_result"
    }
   ],
   "source": [
    "rtree.get_distance(rtree.get_common_ancestor(rtree), rtree.get_farthest_leaf()[0])"
   ]
  },
  {
   "cell_type": "code",
   "execution_count": 15,
   "id": "76582982-12e3-4c58-af1a-45999cec3022",
   "metadata": {},
   "outputs": [
    {
     "name": "stdout",
     "output_type": "stream",
     "text": [
      "Phy000CY4R_YEAST JTT -18189.3 (Phy000JPOY_KLUWA:0.574181,Phy0008OLQ_KLULA:0.554548,(Phy0000FLV_ASHGO:0.693769,(((Phy000NUDY_SACCA:0.884009,((Phy00044Y9_CANGA:0.788814,Phy000JLV0_VANPO:0.823178)0.979000:0.244176,(Phy000NO0U_SACBA:0.077782,((Phy000O5TU_SACMI:0.080341,(Phy000OAL4_SACPA:0.040294,Phy000CY4R_YEAST:0.073741)0.995000:0.032362)0.995000:0.037132,Phy000O07N_SACKU:0.088720)0.703000:0.033222)0.999850:0.189270)0.342000:0.049290)0.640000:0.047614,Phy000JLTF_VANPO:1.115272)0.866000:0.060220,Phy000NRV6_SACCA:0.927512)0.999850:0.277974)0.944000:0.132392); {'YEAST': 1, 'SACPA': 2, 'SACMI': 3, 'SACKU': 4, 'SACBA': 5, 'SACCA': 6, 'CANGA': 7, 'VANPO': 8, 'ASHGO': 10, 'KLULA': 10, 'KLUWA': 10, 'SACKL': 10, 'CANAL': 11, 'CANDU': 11, 'CANTR': 11, 'CLALS': 11, 'DEBHA': 11, 'LODEL': 11, 'PICGU': 11, 'PICST': 11, 'YARLI': 12, '383855': 13, 'AJECA': 13, 'ASPCL': 13, 'ASPFL': 13, 'ASPFU': 13, 'ASPNG': 13, 'ASPOR': 13, 'ASPTE': 13, 'BOTFU': 13, 'CHAGB': 13, 'COCIM': 13, 'EMENI': 13, 'FUSOX': 13, 'GIBMO': 13, 'GIBZE': 13, 'MAGGR': 13, 'NECHA': 13, 'NEOFI': 13, 'NEUCR': 13, 'PHANO': 13, 'PODAN': 13, 'SCLSC': 13, 'TRIRE': 13, 'UNCRE': 13, 'PNECA': 14, 'SCHJP': 14, 'SCHPO': 14, '365493': 15, 'COPCI': 15, 'CRYNE': 15, 'LACBI': 15, 'PHACH': 15, 'POSPM': 15, 'PUCGR': 15, 'USTMA': 15, 'BATDE': 16, 'PHYBL': 16, 'RHIOR': 16, 'ENCCU': 17, 'HUMAN': 18, 'ARATH': 19}\n",
      "dict_keys([])\n"
     ]
    },
    {
     "ename": "ValueError",
     "evalue": "max() arg is an empty sequence",
     "output_type": "error",
     "traceback": [
      "\u001b[0;31m---------------------------------------------------------------------------\u001b[0m",
      "\u001b[0;31mValueError\u001b[0m                                Traceback (most recent call last)",
      "\u001b[0;32m/var/folders/hh/5hklqj_s6750r7xj6t72sqyw0000gn/T/ipykernel_87437/4265735154.py\u001b[0m in \u001b[0;36m<module>\u001b[0;34m\u001b[0m\n\u001b[1;32m      2\u001b[0m \u001b[0mprint\u001b[0m\u001b[0;34m(\u001b[0m\u001b[0mtree\u001b[0m\u001b[0;34m[\u001b[0m\u001b[0;36m0\u001b[0m\u001b[0;34m]\u001b[0m\u001b[0;34m,\u001b[0m \u001b[0mtree\u001b[0m\u001b[0;34m[\u001b[0m\u001b[0;36m1\u001b[0m\u001b[0;34m]\u001b[0m\u001b[0;34m,\u001b[0m \u001b[0mtree\u001b[0m\u001b[0;34m[\u001b[0m\u001b[0;36m2\u001b[0m\u001b[0;34m]\u001b[0m\u001b[0;34m,\u001b[0m \u001b[0mtree\u001b[0m\u001b[0;34m[\u001b[0m\u001b[0;36m3\u001b[0m\u001b[0;34m]\u001b[0m\u001b[0;34m,\u001b[0m \u001b[0mROOTED_PHYLOMES\u001b[0m\u001b[0;34m[\u001b[0m\u001b[0;36m3\u001b[0m\u001b[0;34m]\u001b[0m\u001b[0;34m)\u001b[0m\u001b[0;34m\u001b[0m\u001b[0;34m\u001b[0m\u001b[0m\n\u001b[1;32m      3\u001b[0m \u001b[0mt1\u001b[0m \u001b[0;34m=\u001b[0m \u001b[0mphylome_tree\u001b[0m\u001b[0;34m(\u001b[0m\u001b[0;34m'0003'\u001b[0m\u001b[0;34m,\u001b[0m \u001b[0mtree\u001b[0m\u001b[0;34m[\u001b[0m\u001b[0;36m0\u001b[0m\u001b[0;34m]\u001b[0m\u001b[0;34m,\u001b[0m \u001b[0mtree\u001b[0m\u001b[0;34m[\u001b[0m\u001b[0;36m1\u001b[0m\u001b[0;34m]\u001b[0m\u001b[0;34m,\u001b[0m \u001b[0mtree\u001b[0m\u001b[0;34m[\u001b[0m\u001b[0;36m2\u001b[0m\u001b[0;34m]\u001b[0m\u001b[0;34m,\u001b[0m \u001b[0mtree\u001b[0m\u001b[0;34m[\u001b[0m\u001b[0;36m3\u001b[0m\u001b[0;34m]\u001b[0m\u001b[0;34m,\u001b[0m \u001b[0mROOTED_PHYLOMES\u001b[0m\u001b[0;34m[\u001b[0m\u001b[0;36m3\u001b[0m\u001b[0;34m]\u001b[0m\u001b[0;34m,\u001b[0m \u001b[0mprot_dict\u001b[0m\u001b[0;34m)\u001b[0m\u001b[0;34m\u001b[0m\u001b[0;34m\u001b[0m\u001b[0m\n\u001b[0;32m----> 4\u001b[0;31m \u001b[0mt1\u001b[0m\u001b[0;34m.\u001b[0m\u001b[0mrun\u001b[0m\u001b[0;34m(\u001b[0m\u001b[0;34m)\u001b[0m\u001b[0;34m\u001b[0m\u001b[0;34m\u001b[0m\u001b[0m\n\u001b[0m",
      "\u001b[0;32m~/Documents/github/brlens/03_calc_dists/scripts/tree_funs_classes.py\u001b[0m in \u001b[0;36mrun\u001b[0;34m(self)\u001b[0m\n\u001b[1;32m    121\u001b[0m             \u001b[0mself\u001b[0m\u001b[0;34m.\u001b[0m\u001b[0mroot\u001b[0m\u001b[0;34m(\u001b[0m\u001b[0;34m)\u001b[0m\u001b[0;34m\u001b[0m\u001b[0;34m\u001b[0m\u001b[0m\n\u001b[1;32m    122\u001b[0m             \u001b[0mself\u001b[0m\u001b[0;34m.\u001b[0m\u001b[0mget_dists\u001b[0m\u001b[0;34m(\u001b[0m\u001b[0mself\u001b[0m\u001b[0;34m.\u001b[0m\u001b[0mseqsl\u001b[0m\u001b[0;34m)\u001b[0m\u001b[0;34m\u001b[0m\u001b[0;34m\u001b[0m\u001b[0m\n\u001b[0;32m--> 123\u001b[0;31m             \u001b[0mself\u001b[0m\u001b[0;34m.\u001b[0m\u001b[0mget_refpars\u001b[0m\u001b[0;34m(\u001b[0m\u001b[0;34m)\u001b[0m\u001b[0;34m\u001b[0m\u001b[0;34m\u001b[0m\u001b[0m\n\u001b[0m\u001b[1;32m    124\u001b[0m         \u001b[0;32melse\u001b[0m\u001b[0;34m:\u001b[0m\u001b[0;34m\u001b[0m\u001b[0;34m\u001b[0m\u001b[0m\n\u001b[1;32m    125\u001b[0m             print(('Tree cannot be parsed, seed or more than one sequences ',\n",
      "\u001b[0;32m~/Documents/github/brlens/03_calc_dists/scripts/tree_funs_classes.py\u001b[0m in \u001b[0;36mget_refpars\u001b[0;34m(self)\u001b[0m\n\u001b[1;32m     94\u001b[0m \u001b[0;34m\u001b[0m\u001b[0m\n\u001b[1;32m     95\u001b[0m         \u001b[0mprint\u001b[0m\u001b[0;34m(\u001b[0m\u001b[0mmphsptrees\u001b[0m\u001b[0;34m.\u001b[0m\u001b[0mkeys\u001b[0m\u001b[0;34m(\u001b[0m\u001b[0;34m)\u001b[0m\u001b[0;34m)\u001b[0m\u001b[0;34m\u001b[0m\u001b[0;34m\u001b[0m\u001b[0m\n\u001b[0;32m---> 96\u001b[0;31m         \u001b[0mself\u001b[0m\u001b[0;34m.\u001b[0m\u001b[0mrtree\u001b[0m \u001b[0;34m=\u001b[0m \u001b[0mmphsptrees\u001b[0m\u001b[0;34m[\u001b[0m\u001b[0mmax\u001b[0m\u001b[0;34m(\u001b[0m\u001b[0mmphsptrees\u001b[0m\u001b[0;34m.\u001b[0m\u001b[0mkeys\u001b[0m\u001b[0;34m(\u001b[0m\u001b[0;34m)\u001b[0m\u001b[0;34m)\u001b[0m\u001b[0;34m]\u001b[0m\u001b[0;34m\u001b[0m\u001b[0;34m\u001b[0m\u001b[0m\n\u001b[0m\u001b[1;32m     97\u001b[0m         \u001b[0mroot\u001b[0m \u001b[0;34m=\u001b[0m \u001b[0mself\u001b[0m\u001b[0;34m.\u001b[0m\u001b[0mrtree\u001b[0m\u001b[0;34m.\u001b[0m\u001b[0mget_common_ancestor\u001b[0m\u001b[0;34m(\u001b[0m\u001b[0mself\u001b[0m\u001b[0;34m.\u001b[0m\u001b[0mrtree\u001b[0m\u001b[0;34m)\u001b[0m\u001b[0;34m\u001b[0m\u001b[0;34m\u001b[0m\u001b[0m\n\u001b[1;32m     98\u001b[0m         \u001b[0mself\u001b[0m\u001b[0;34m.\u001b[0m\u001b[0mrwdth\u001b[0m \u001b[0;34m=\u001b[0m \u001b[0mself\u001b[0m\u001b[0;34m.\u001b[0m\u001b[0mrtree\u001b[0m\u001b[0;34m.\u001b[0m\u001b[0mget_farthest_leaf\u001b[0m\u001b[0;34m(\u001b[0m\u001b[0;34m)\u001b[0m\u001b[0;34m[\u001b[0m\u001b[0;36m1\u001b[0m\u001b[0;34m]\u001b[0m\u001b[0;34m\u001b[0m\u001b[0;34m\u001b[0m\u001b[0m\n",
      "\u001b[0;31mValueError\u001b[0m: max() arg is an empty sequence"
     ]
    }
   ],
   "source": [
    "tree = open('../data/0003_best_trees.txt').read().split('\\n')[3].split('\\t')\n",
    "print(tree[0], tree[1], tree[2], tree[3], ROOTED_PHYLOMES[3])\n",
    "t1 = phylome_tree('0003', tree[0], tree[1], tree[2], tree[3], ROOTED_PHYLOMES[3], prot_dict)\n",
    "t1.run()"
   ]
  },
  {
   "cell_type": "code",
   "execution_count": 16,
   "id": "19dcb9d1-dc8b-4c1a-802a-fb1417d9d205",
   "metadata": {},
   "outputs": [
    {
     "name": "stdout",
     "output_type": "stream",
     "text": [
      "dict_keys([])\n"
     ]
    },
    {
     "ename": "ValueError",
     "evalue": "max() arg is an empty sequence",
     "output_type": "error",
     "traceback": [
      "\u001b[0;31m---------------------------------------------------------------------------\u001b[0m",
      "\u001b[0;31mValueError\u001b[0m                                Traceback (most recent call last)",
      "\u001b[0;32m/var/folders/hh/5hklqj_s6750r7xj6t72sqyw0000gn/T/ipykernel_87437/2339555608.py\u001b[0m in \u001b[0;36m<module>\u001b[0;34m\u001b[0m\n\u001b[0;32m----> 1\u001b[0;31m \u001b[0mt1\u001b[0m\u001b[0;34m.\u001b[0m\u001b[0mget_refpars\u001b[0m\u001b[0;34m(\u001b[0m\u001b[0;34m)\u001b[0m\u001b[0;34m\u001b[0m\u001b[0;34m\u001b[0m\u001b[0m\n\u001b[0m",
      "\u001b[0;32m~/Documents/github/brlens/03_calc_dists/scripts/tree_funs_classes.py\u001b[0m in \u001b[0;36mget_refpars\u001b[0;34m(self)\u001b[0m\n\u001b[1;32m     94\u001b[0m \u001b[0;34m\u001b[0m\u001b[0m\n\u001b[1;32m     95\u001b[0m         \u001b[0mprint\u001b[0m\u001b[0;34m(\u001b[0m\u001b[0mmphsptrees\u001b[0m\u001b[0;34m.\u001b[0m\u001b[0mkeys\u001b[0m\u001b[0;34m(\u001b[0m\u001b[0;34m)\u001b[0m\u001b[0;34m)\u001b[0m\u001b[0;34m\u001b[0m\u001b[0;34m\u001b[0m\u001b[0m\n\u001b[0;32m---> 96\u001b[0;31m         \u001b[0mself\u001b[0m\u001b[0;34m.\u001b[0m\u001b[0mrtree\u001b[0m \u001b[0;34m=\u001b[0m \u001b[0mmphsptrees\u001b[0m\u001b[0;34m[\u001b[0m\u001b[0mmax\u001b[0m\u001b[0;34m(\u001b[0m\u001b[0mmphsptrees\u001b[0m\u001b[0;34m.\u001b[0m\u001b[0mkeys\u001b[0m\u001b[0;34m(\u001b[0m\u001b[0;34m)\u001b[0m\u001b[0;34m)\u001b[0m\u001b[0;34m]\u001b[0m\u001b[0;34m\u001b[0m\u001b[0;34m\u001b[0m\u001b[0m\n\u001b[0m\u001b[1;32m     97\u001b[0m         \u001b[0mroot\u001b[0m \u001b[0;34m=\u001b[0m \u001b[0mself\u001b[0m\u001b[0;34m.\u001b[0m\u001b[0mrtree\u001b[0m\u001b[0;34m.\u001b[0m\u001b[0mget_common_ancestor\u001b[0m\u001b[0;34m(\u001b[0m\u001b[0mself\u001b[0m\u001b[0;34m.\u001b[0m\u001b[0mrtree\u001b[0m\u001b[0;34m)\u001b[0m\u001b[0;34m\u001b[0m\u001b[0;34m\u001b[0m\u001b[0m\n\u001b[1;32m     98\u001b[0m         \u001b[0mself\u001b[0m\u001b[0;34m.\u001b[0m\u001b[0mrwdth\u001b[0m \u001b[0;34m=\u001b[0m \u001b[0mself\u001b[0m\u001b[0;34m.\u001b[0m\u001b[0mrtree\u001b[0m\u001b[0;34m.\u001b[0m\u001b[0mget_farthest_leaf\u001b[0m\u001b[0;34m(\u001b[0m\u001b[0;34m)\u001b[0m\u001b[0;34m[\u001b[0m\u001b[0;36m1\u001b[0m\u001b[0;34m]\u001b[0m\u001b[0;34m\u001b[0m\u001b[0;34m\u001b[0m\u001b[0m\n",
      "\u001b[0;31mValueError\u001b[0m: max() arg is an empty sequence"
     ]
    }
   ],
   "source": []
  },
  {
   "cell_type": "code",
   "execution_count": null,
   "id": "87d28123-bf33-4162-9a94-f06c93228fed",
   "metadata": {},
   "outputs": [],
   "source": []
  }
 ],
 "metadata": {
  "kernelspec": {
   "display_name": "Python 3 (ipykernel)",
   "language": "python",
   "name": "python3"
  },
  "language_info": {
   "codemirror_mode": {
    "name": "ipython",
    "version": 3
   },
   "file_extension": ".py",
   "mimetype": "text/x-python",
   "name": "python",
   "nbconvert_exporter": "python",
   "pygments_lexer": "ipython3",
   "version": "3.8.2"
  }
 },
 "nbformat": 4,
 "nbformat_minor": 5
}
