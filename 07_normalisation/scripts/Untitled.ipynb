{
 "cells": [
  {
   "cell_type": "code",
   "execution_count": 1,
   "id": "c3dfe815-948c-4746-9903-c4ad496e1637",
   "metadata": {},
   "outputs": [],
   "source": [
    "import pandas as pd"
   ]
  },
  {
   "cell_type": "code",
   "execution_count": 3,
   "id": "d7acad45-ccd5-4b83-a6f0-4af5de436070",
   "metadata": {},
   "outputs": [],
   "source": [
    "normdf = pd.read_csv('../../09_stats/data/0907_norm.csv')\n",
    "distdf = pd.read_csv('../../09_stats/data/0907_dist.csv')"
   ]
  },
  {
   "cell_type": "code",
   "execution_count": 17,
   "id": "3a108ab9-c64d-4272-b92a-d3c0a4f3403f",
   "metadata": {},
   "outputs": [],
   "source": [
    "tree_meds = normdf[(normdf['subtree'] == 'whole') & (normdf['method'] == 'rbl')].groupby('tree').median()   # id has to be changed to tree\n",
    "rbl_nf = tree_meds['med'] / tree_meds.median()['med']\n",
    "\n",
    "tree_meds = normdf[(normdf['subtree'] == 'whole') & (normdf['method'] == 'mrca')].groupby('tree').median()   # id has to be changed to tree\n",
    "mrca_nf = tree_meds['med'] / tree_meds.median()['med']"
   ]
  },
  {
   "cell_type": "code",
   "execution_count": null,
   "id": "14c7bf7a-a5b8-4edf-a2be-4cdc26ea4b28",
   "metadata": {},
   "outputs": [],
   "source": []
  }
 ],
 "metadata": {
  "kernelspec": {
   "display_name": "Python 3",
   "language": "python",
   "name": "python3"
  },
  "language_info": {
   "codemirror_mode": {
    "name": "ipython",
    "version": 3
   },
   "file_extension": ".py",
   "mimetype": "text/x-python",
   "name": "python",
   "nbconvert_exporter": "python",
   "pygments_lexer": "ipython3",
   "version": "3.6.15"
  }
 },
 "nbformat": 4,
 "nbformat_minor": 5
}
