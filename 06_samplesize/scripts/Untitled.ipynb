{
 "cells": [
  {
   "cell_type": "code",
   "execution_count": 175,
   "id": "7f2cd25f-2749-4c95-a9f6-ca02e64f1ac5",
   "metadata": {},
   "outputs": [],
   "source": [
    "import ete3\n",
    "import numpy as np\n",
    "from clade_sp_dist import *"
   ]
  },
  {
   "cell_type": "code",
   "execution_count": 176,
   "id": "b7741913-7684-4a7b-a368-ae450935ddd7",
   "metadata": {},
   "outputs": [],
   "source": [
    "def get_sp(node):\n",
    "    spnm = node.split('_', 1)[1]\n",
    "    return spnm"
   ]
  },
  {
   "cell_type": "code",
   "execution_count": 177,
   "id": "a24d5878-a76c-44f6-8250-e369c36390f9",
   "metadata": {},
   "outputs": [
    {
     "name": "stdout",
     "output_type": "stream",
     "text": [
      "(2.5685869, {'wdth': 3.0752810000000004, 'len_med': 2.5685869, 'len_avg': 2.532806366666667})\n"
     ]
    }
   ],
   "source": [
    "leafdists = list()\n",
    "for leaf in tree.get_leaf_names():\n",
    "    leafdists.append(tree.get_distance(leaf))\n",
    "\n",
    "print((np.median(leafdists), {'wdth': tree.get_farthest_leaf()[1],\n",
    "                              'len_med': np.median(leafdists),\n",
    "                              'len_avg': np.mean(leafdists)}))"
   ]
  },
  {
   "cell_type": "code",
   "execution_count": 178,
   "id": "13605eb0-1147-4cc9-b395-56668b62c6f5",
   "metadata": {},
   "outputs": [],
   "source": [
    "treel = open('../data/0076_108.txt', 'r').read().split('\\n')[0].split('\\t')\n",
    "t = ete3.PhyloTree(treel[3], sp_naming_function=get_sp)"
   ]
  },
  {
   "cell_type": "code",
   "execution_count": 179,
   "id": "14641d52-541b-4f52-9901-3570e71cd6ca",
   "metadata": {},
   "outputs": [],
   "source": [
    "t.set_outgroup(t.get_midpoint_outgroup())"
   ]
  },
  {
   "cell_type": "code",
   "execution_count": 180,
   "id": "dc2c08d3-f458-41fd-8a6e-aa2cbdaf1dee",
   "metadata": {},
   "outputs": [
    {
     "data": {
      "text/plain": [
       "[<ete3.phylo.evolevents.EvolEvent at 0x7fde19d00b70>,\n",
       " <ete3.phylo.evolevents.EvolEvent at 0x7fde353e7d68>,\n",
       " <ete3.phylo.evolevents.EvolEvent at 0x7fde19d1f198>,\n",
       " <ete3.phylo.evolevents.EvolEvent at 0x7fde19d1f2e8>,\n",
       " <ete3.phylo.evolevents.EvolEvent at 0x7fde19d643c8>,\n",
       " <ete3.phylo.evolevents.EvolEvent at 0x7fde19d1f6d8>,\n",
       " <ete3.phylo.evolevents.EvolEvent at 0x7fde1a8b4978>,\n",
       " <ete3.phylo.evolevents.EvolEvent at 0x7fde19d1ffd0>,\n",
       " <ete3.phylo.evolevents.EvolEvent at 0x7fde19d1ff28>,\n",
       " <ete3.phylo.evolevents.EvolEvent at 0x7fde19d16898>,\n",
       " <ete3.phylo.evolevents.EvolEvent at 0x7fde19d640b8>,\n",
       " <ete3.phylo.evolevents.EvolEvent at 0x7fde19d64b38>,\n",
       " <ete3.phylo.evolevents.EvolEvent at 0x7fde19d644e0>,\n",
       " <ete3.phylo.evolevents.EvolEvent at 0x7fde19d64908>,\n",
       " <ete3.phylo.evolevents.EvolEvent at 0x7fde19d64748>,\n",
       " <ete3.phylo.evolevents.EvolEvent at 0x7fde19d646d8>,\n",
       " <ete3.phylo.evolevents.EvolEvent at 0x7fde19d641d0>,\n",
       " <ete3.phylo.evolevents.EvolEvent at 0x7fde19d64a20>,\n",
       " <ete3.phylo.evolevents.EvolEvent at 0x7fde19d000b8>,\n",
       " <ete3.phylo.evolevents.EvolEvent at 0x7fde19d00128>,\n",
       " <ete3.phylo.evolevents.EvolEvent at 0x7fde19d00048>,\n",
       " <ete3.phylo.evolevents.EvolEvent at 0x7fde19d00080>,\n",
       " <ete3.phylo.evolevents.EvolEvent at 0x7fde19d645c0>,\n",
       " <ete3.phylo.evolevents.EvolEvent at 0x7fde19d64a90>,\n",
       " <ete3.phylo.evolevents.EvolEvent at 0x7fde19d64ac8>,\n",
       " <ete3.phylo.evolevents.EvolEvent at 0x7fde19d64c88>,\n",
       " <ete3.phylo.evolevents.EvolEvent at 0x7fde19d64550>,\n",
       " <ete3.phylo.evolevents.EvolEvent at 0x7fde1a62e4a8>,\n",
       " <ete3.phylo.evolevents.EvolEvent at 0x7fde1a62e048>,\n",
       " <ete3.phylo.evolevents.EvolEvent at 0x7fde1a62e2b0>,\n",
       " <ete3.phylo.evolevents.EvolEvent at 0x7fde1a62e7b8>,\n",
       " <ete3.phylo.evolevents.EvolEvent at 0x7fde1a62e470>,\n",
       " <ete3.phylo.evolevents.EvolEvent at 0x7fde19d90160>,\n",
       " <ete3.phylo.evolevents.EvolEvent at 0x7fde19d90cf8>,\n",
       " <ete3.phylo.evolevents.EvolEvent at 0x7fde19d908d0>,\n",
       " <ete3.phylo.evolevents.EvolEvent at 0x7fde19d907f0>,\n",
       " <ete3.phylo.evolevents.EvolEvent at 0x7fde19d90278>,\n",
       " <ete3.phylo.evolevents.EvolEvent at 0x7fde19d90470>,\n",
       " <ete3.phylo.evolevents.EvolEvent at 0x7fde19d902b0>,\n",
       " <ete3.phylo.evolevents.EvolEvent at 0x7fde19d905c0>,\n",
       " <ete3.phylo.evolevents.EvolEvent at 0x7fde19d3d3c8>,\n",
       " <ete3.phylo.evolevents.EvolEvent at 0x7fde19d3d438>,\n",
       " <ete3.phylo.evolevents.EvolEvent at 0x7fde19d3dac8>,\n",
       " <ete3.phylo.evolevents.EvolEvent at 0x7fde19d3d400>]"
      ]
     },
     "execution_count": 180,
     "metadata": {},
     "output_type": "execute_result"
    }
   ],
   "source": [
    "t.get_descendant_evol_events()"
   ]
  },
  {
   "cell_type": "code",
   "execution_count": 181,
   "id": "177a674d-8bf4-4016-b9b0-77526186c38f",
   "metadata": {},
   "outputs": [
    {
     "name": "stdout",
     "output_type": "stream",
     "text": [
      "\n",
      "                     /-Phy003JLOJ_BOVIN\n",
      "                  /-|\n",
      "                 |  |   /-Phy003J7QO_CANFA\n",
      "                 |   \\-|\n",
      "                 |      \\-Phy003J10S_PANTR\n",
      "               /-|\n",
      "              |  |      /-Phy001RQ5X_MOUSE\n",
      "              |  |   /-|\n",
      "              |  |  |  |   /-Phy003F26R_RAT\n",
      "            /-|   \\-|   \\-|\n",
      "           |  |     |      \\-Phy003IGXJ_MACMU\n",
      "           |  |     |\n",
      "         /-|  |      \\-Phy001R5PF_HUMAN\n",
      "        |  |  |\n",
      "        |  |   \\-Phy003FJD9_MONDO\n",
      "        |  |\n",
      "      /-|   \\-Phy003IBYS_CHICK\n",
      "     |  |\n",
      "     |  |      /-Phy000DK73_TETNG\n",
      "     |  |   /-|\n",
      "   /-|   \\-|   \\-Phy003FSNT_TAKRU\n",
      "  |  |     |\n",
      "  |  |      \\-Phy001QUVB_DANRE\n",
      "  |  |\n",
      "  |   \\-Phy003HUYJ_XENTR\n",
      "  |\n",
      "  |                  /-Phy003JP2O_BOVIN\n",
      "  |               /-|\n",
      "  |            /-|   \\-Phy003JCAN_CANFA\n",
      "--|           |  |\n",
      "  |         /-|   \\-Phy003IALO_CHICK\n",
      "  |        |  |\n",
      "  |      /-|   \\-Phy003F0S6_MOUSE\n",
      "  |     |  |\n",
      "  |     |  |   /-Phy001R83G_HUMAN\n",
      "  |   /-|   \\-|\n",
      "  |  |  |      \\-Phy003IU6P_PANTR\n",
      "  |  |  |\n",
      "   \\-|   \\-Phy003IOPT_MACMU\n",
      "     |\n",
      "     |   /-Phy000DJY6_TETNG\n",
      "      \\-|\n",
      "         \\-Phy003G20W_TAKRU\n",
      "\n",
      "                  /-Phy003JLOJ_BOVIN\n",
      "               /-|\n",
      "              |  |   /-Phy003J7QO_CANFA\n",
      "              |   \\-|\n",
      "              |      \\-Phy003J10S_PANTR\n",
      "            /-|\n",
      "           |  |      /-Phy001RQ5X_MOUSE\n",
      "           |  |   /-|\n",
      "           |  |  |  |   /-Phy003F26R_RAT\n",
      "         /-|   \\-|   \\-|\n",
      "        |  |     |      \\-Phy003IGXJ_MACMU\n",
      "        |  |     |\n",
      "      /-|  |      \\-Phy001R5PF_HUMAN\n",
      "     |  |  |\n",
      "     |  |   \\-Phy003FJD9_MONDO\n",
      "     |  |\n",
      "   /-|   \\-Phy003IBYS_CHICK\n",
      "  |  |\n",
      "  |  |      /-Phy000DK73_TETNG\n",
      "  |  |   /-|\n",
      "--|   \\-|   \\-Phy003FSNT_TAKRU\n",
      "  |     |\n",
      "  |      \\-Phy001QUVB_DANRE\n",
      "  |\n",
      "   \\-Phy003HUYJ_XENTR\n",
      "\n",
      "                  /-Phy003JP2O_BOVIN\n",
      "               /-|\n",
      "            /-|   \\-Phy003JCAN_CANFA\n",
      "           |  |\n",
      "         /-|   \\-Phy003IALO_CHICK\n",
      "        |  |\n",
      "      /-|   \\-Phy003F0S6_MOUSE\n",
      "     |  |\n",
      "     |  |   /-Phy001R83G_HUMAN\n",
      "   /-|   \\-|\n",
      "  |  |      \\-Phy003IU6P_PANTR\n",
      "  |  |\n",
      "--|   \\-Phy003IOPT_MACMU\n",
      "  |\n",
      "  |   /-Phy000DJY6_TETNG\n",
      "   \\-|\n",
      "      \\-Phy003G20W_TAKRU\n"
     ]
    }
   ],
   "source": [
    "for st in t.traverse():\n",
    "    if len(st.get_leaf_names()) > 1 and st.evoltype == 'D':\n",
    "        childs = st.get_children()\n",
    "        if len(childs) == 2 and [len(l.get_leaf_names()) > 4 for l in childs]:\n",
    "            chevtypes = list()\n",
    "            for child in childs:\n",
    "                chevtypes += [nd.evoltype for nd in child.iter_search_nodes() \n",
    "                              if 'evoltype' in list(nd.features)]\n",
    "            if set(chevtypes) == {'S'}:\n",
    "                print(st)\n",
    "                for child in st.get_children():\n",
    "                    print(child)"
   ]
  },
  {
   "cell_type": "code",
   "execution_count": 304,
   "id": "85c9063f-7e06-4901-9e09-af7680341c71",
   "metadata": {},
   "outputs": [],
   "source": [
    "def get_subtree(tree, feature, leafth, seed):\n",
    "    vertleaves = [l for l in t.get_leaves() if str(getattr(l, feature)) != 'nan']\n",
    "    leafno = int((1 - leafth) * len(t.get_leaf_names()))\n",
    "    to_save = random.choices(vertleaves, k=leafno) + [seed]\n",
    "    tree.prune(to_save)\n",
    "    return 0"
   ]
  },
  {
   "cell_type": "code",
   "execution_count": 305,
   "id": "5cc1256b-bc26-4026-9c02-759a25d4a919",
   "metadata": {},
   "outputs": [],
   "source": [
    "def get_distdict(seed, tree, subtree):\n",
    "    odict = dict()\n",
    "    odict[subtree + '_seed'] = seed\n",
    "    odict[subtree + '_species'] = get_species_tag(seed)\n",
    "    odict[subtree + '_vert_dist'] = vert_dict['node'].get_distance(seed)\n",
    "    odict[subtree + '_met_dist'] = met_dict['node'].get_distance(seed)\n",
    "    odict[subtree + '_seed_dist'] = tree.get_distance(seed)\n",
    "    odict[subtree + '_vert_ndist'] = vert_dict['node'].get_distance(seed) / nfactor\n",
    "    odict[subtree + '_met_ndist'] = met_dict['node'].get_distance(seed) / nfactor\n",
    "    odict[subtree + '_seed_ndist'] = t.get_distance(seed) / nfactor\n",
    "    \n",
    "    return odict"
   ]
  },
  {
   "cell_type": "code",
   "execution_count": 312,
   "id": "3c0e6a06-e643-4115-a029-50730defa779",
   "metadata": {},
   "outputs": [
    {
     "name": "stdout",
     "output_type": "stream",
     "text": [
      "['vertebrates', 'vertebrates', 'vertebrates', 'vertebrates', 'vertebrates', 'vertebrates', 'vertebrates', 'vertebrates', 'vertebrates', 'vertebrates', 'vertebrates', 'vertebrates', 'vertebrates', 'vertebrates', 'vertebrates', 'vertebrates', 'vertebrates', 'vertebrates', 'vertebrates', 'vertebrates', 'vertebrates', 'vertebrates', 'vertebrates', 'vertebrates', 'vertebrates', 'vertebrates']\n",
      "['vertebrates', 'vertebrates', 'vertebrates', 'vertebrates', 'vertebrates', 'vertebrates', 'vertebrates', 'vertebrates', 'vertebrates', 'vertebrates', 'vertebrates', 'vertebrates', 'vertebrates', 'vertebrates']\n",
      "['vertebrates', 'vertebrates', 'vertebrates', 'vertebrates', 'vertebrates', 'vertebrates']\n"
     ]
    }
   ],
   "source": [
    "import random\n",
    "import ete3\n",
    "import numpy as np\n",
    "from clade_sp_dist import *\n",
    "\n",
    "phylome_id = '0076'\n",
    "\n",
    "odict = dict()\n",
    "\n",
    "treel = open('../data/0076_108.txt', 'r').read().split('\\n')[0].split('\\t')\n",
    "t = ete3.PhyloTree(treel[3], sp_naming_function=get_sp)\n",
    "\n",
    "gnmdf = pd.read_csv('../data/0076_norm_groups.csv')\n",
    "root(t, root_dict[int(phylome_id)])\n",
    "t.get_descendant_evol_events()\n",
    "\n",
    "annotate_lineages(t, gnmdf, ['Normalising group',\n",
    "                             'Vertebrate',\n",
    "                             'Metazoan'])\n",
    "\n",
    "norm_dict = clade_norm(t, treel[0], 'Normalising group')\n",
    "\n",
    "nfactor = norm_dict['norm_factor']\n",
    "\n",
    "vert_dict = get_group_mrca(t, treel[0], 'Vertebrate',\n",
    "                           'vertebrate', treel[0])\n",
    "met_dict = get_group_mrca(t, treel[0], 'Metazoan',\n",
    "                          'metazoan', treel[0])\n",
    "\n",
    "odict = get_distdict(treel[0], t, 'whole')\n",
    "\n",
    "for i in [0.1, 0.25, 0.5]:\n",
    "    st = t\n",
    "    \n",
    "    get_subtree(st, 'Vertebrate', i, treel[0])\n",
    "    \n",
    "    print([l.Vertebrate for l in st.get_leaves()])\n",
    "    \n",
    "    norm_dict = clade_norm(st, treel[0], 'Normalising group')\n",
    "\n",
    "    nfactor = norm_dict['norm_factor']\n",
    "    \n",
    "    vert_dict = get_group_mrca(t, treel[0], 'Vertebrate',\n",
    "                           'vertebrate', treel[0])\n",
    "    \n",
    "    met_dict = get_group_mrca(st, treel[0], 'Metazoan',\n",
    "                              'metazoan', treel[0])\n",
    "    \n",
    "    odict = {**odict, **get_distdict(treel[0], st, str(i))}\n",
    "\n",
    "olist()"
   ]
  },
  {
   "cell_type": "code",
   "execution_count": 316,
   "id": "2a416386-1878-4e22-b049-4500a28a006a",
   "metadata": {},
   "outputs": [
    {
     "data": {
      "text/html": [
       "<div>\n",
       "<style scoped>\n",
       "    .dataframe tbody tr th:only-of-type {\n",
       "        vertical-align: middle;\n",
       "    }\n",
       "\n",
       "    .dataframe tbody tr th {\n",
       "        vertical-align: top;\n",
       "    }\n",
       "\n",
       "    .dataframe thead th {\n",
       "        text-align: right;\n",
       "    }\n",
       "</style>\n",
       "<table border=\"1\" class=\"dataframe\">\n",
       "  <thead>\n",
       "    <tr style=\"text-align: right;\">\n",
       "      <th></th>\n",
       "      <th>whole_seed</th>\n",
       "      <th>whole_species</th>\n",
       "      <th>whole_vert_dist</th>\n",
       "      <th>whole_met_dist</th>\n",
       "      <th>whole_seed_dist</th>\n",
       "      <th>whole_vert_ndist</th>\n",
       "      <th>whole_met_ndist</th>\n",
       "      <th>whole_seed_ndist</th>\n",
       "      <th>0.1_seed</th>\n",
       "      <th>0.1_species</th>\n",
       "      <th>...</th>\n",
       "      <th>0.25_met_ndist</th>\n",
       "      <th>0.25_seed_ndist</th>\n",
       "      <th>0.5_seed</th>\n",
       "      <th>0.5_species</th>\n",
       "      <th>0.5_vert_dist</th>\n",
       "      <th>0.5_met_dist</th>\n",
       "      <th>0.5_seed_dist</th>\n",
       "      <th>0.5_vert_ndist</th>\n",
       "      <th>0.5_met_ndist</th>\n",
       "      <th>0.5_seed_ndist</th>\n",
       "    </tr>\n",
       "  </thead>\n",
       "  <tbody>\n",
       "    <tr>\n",
       "      <th>0</th>\n",
       "      <td>Phy001R83G_HUMAN</td>\n",
       "      <td>HUMAN</td>\n",
       "      <td>0.432531</td>\n",
       "      <td>1.257411</td>\n",
       "      <td>2.478446</td>\n",
       "      <td>0.320156</td>\n",
       "      <td>0.930724</td>\n",
       "      <td>1.834523</td>\n",
       "      <td>Phy001R83G_HUMAN</td>\n",
       "      <td>HUMAN</td>\n",
       "      <td>...</td>\n",
       "      <td>0.979082</td>\n",
       "      <td>1.44589</td>\n",
       "      <td>Phy001R83G_HUMAN</td>\n",
       "      <td>HUMAN</td>\n",
       "      <td>0.140227</td>\n",
       "      <td>0.140227</td>\n",
       "      <td>0.248454</td>\n",
       "      <td>1.0</td>\n",
       "      <td>1.0</td>\n",
       "      <td>1.771799</td>\n",
       "    </tr>\n",
       "  </tbody>\n",
       "</table>\n",
       "<p>1 rows × 32 columns</p>\n",
       "</div>"
      ],
      "text/plain": [
       "         whole_seed whole_species  whole_vert_dist  whole_met_dist  \\\n",
       "0  Phy001R83G_HUMAN         HUMAN         0.432531        1.257411   \n",
       "\n",
       "   whole_seed_dist  whole_vert_ndist  whole_met_ndist  whole_seed_ndist  \\\n",
       "0         2.478446          0.320156         0.930724          1.834523   \n",
       "\n",
       "           0.1_seed 0.1_species  ...  0.25_met_ndist  0.25_seed_ndist  \\\n",
       "0  Phy001R83G_HUMAN       HUMAN  ...        0.979082          1.44589   \n",
       "\n",
       "           0.5_seed  0.5_species  0.5_vert_dist  0.5_met_dist 0.5_seed_dist  \\\n",
       "0  Phy001R83G_HUMAN        HUMAN       0.140227      0.140227      0.248454   \n",
       "\n",
       "  0.5_vert_ndist  0.5_met_ndist  0.5_seed_ndist  \n",
       "0            1.0            1.0        1.771799  \n",
       "\n",
       "[1 rows x 32 columns]"
      ]
     },
     "execution_count": 316,
     "metadata": {},
     "output_type": "execute_result"
    }
   ],
   "source": []
  },
  {
   "cell_type": "code",
   "execution_count": 226,
   "id": "05b2a47f-eb06-444b-bc36-3ec7761b2904",
   "metadata": {},
   "outputs": [
    {
     "name": "stdout",
     "output_type": "stream",
     "text": [
      "\n",
      "--Phy003JP2O_BOVIN\n"
     ]
    }
   ],
   "source": [
    "print(stt)features"
   ]
  },
  {
   "cell_type": "code",
   "execution_count": null,
   "id": "a5de1878-f1e4-42e4-86a8-c0242ad1cf6e",
   "metadata": {},
   "outputs": [],
   "source": []
  }
 ],
 "metadata": {
  "kernelspec": {
   "display_name": "Python 3",
   "language": "python",
   "name": "python3"
  },
  "language_info": {
   "codemirror_mode": {
    "name": "ipython",
    "version": 3
   },
   "file_extension": ".py",
   "mimetype": "text/x-python",
   "name": "python",
   "nbconvert_exporter": "python",
   "pygments_lexer": "ipython3",
   "version": "3.6.15"
  }
 },
 "nbformat": 4,
 "nbformat_minor": 5
}
