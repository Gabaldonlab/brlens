{
 "cells": [
  {
   "cell_type": "code",
   "execution_count": 27,
   "id": "ede8efb8-c137-4c7e-a924-dd7f09d4545a",
   "metadata": {},
   "outputs": [],
   "source": [
    "import pandas as pd\n",
    "import matplotlib.pyplot as plt"
   ]
  },
  {
   "cell_type": "code",
   "execution_count": 42,
   "id": "bea8796d-c6e6-4c4c-986b-0fa3e3a7b2b6",
   "metadata": {},
   "outputs": [],
   "source": [
    "distdf = pd.read_csv('../outputs/0005_dist_noh.csv')\n",
    "norm_fact = distdf.groupby('tree').median()\n",
    "meds = norm_fact.median(0)"
   ]
  },
  {
   "cell_type": "code",
   "execution_count": 43,
   "id": "b6151c6c-d30b-4404-aee2-014d93eb2236",
   "metadata": {},
   "outputs": [],
   "source": [
    "distdf['mrca_ndist'] = distdf['dist'] / (distdf['mrca_median'] / meds['mrca_median'])\n",
    "distdf['st_ndist'] = distdf['dist'] / (distdf['st_median'] / meds['st_median'])\n",
    "distdf['root_ndist'] = distdf['dist'] / (distdf['root_median'] / meds['root_median'])\n",
    "distdf['twdth_ndist'] = distdf['dist'] / (distdf['tree_width'] / meds['tree_width'])\n",
    "distdf['sbrl_ndist'] = distdf['dist'] / (distdf['sum_brl'] / meds['sum_brl'])\n",
    "distdf['brl_ndist'] = distdf['dist'] / (distdf['med_brl'] / meds['med_brl'])"
   ]
  },
  {
   "cell_type": "code",
   "execution_count": 45,
   "id": "bc1b09c8-a9eb-48b2-b1ba-07cb8bc3fa06",
   "metadata": {},
   "outputs": [],
   "source": [
    "distdf.to_csv('../outputs/norm_dists_test.csv')"
   ]
  },
  {
   "cell_type": "code",
   "execution_count": null,
   "id": "adf1b106-55ac-4b81-adc1-7e79ac8031be",
   "metadata": {},
   "outputs": [],
   "source": []
  }
 ],
 "metadata": {
  "kernelspec": {
   "display_name": "Python 3 (ipykernel)",
   "language": "python",
   "name": "python3"
  },
  "language_info": {
   "codemirror_mode": {
    "name": "ipython",
    "version": 3
   },
   "file_extension": ".py",
   "mimetype": "text/x-python",
   "name": "python",
   "nbconvert_exporter": "python",
   "pygments_lexer": "ipython3",
   "version": "3.8.10"
  }
 },
 "nbformat": 4,
 "nbformat_minor": 5
}
