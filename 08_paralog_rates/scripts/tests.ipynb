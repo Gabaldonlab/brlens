{
 "cells": [
  {
   "cell_type": "code",
   "execution_count": 15,
   "id": "7f2cd25f-2749-4c95-a9f6-ca02e64f1ac5",
   "metadata": {},
   "outputs": [],
   "source": [
    "import ete3\n",
    "import numpy as np\n",
    "from treefuns import *\n",
    "from operator import itemgetter"
   ]
  },
  {
   "cell_type": "code",
   "execution_count": 5,
   "id": "b7741913-7684-4a7b-a368-ae450935ddd7",
   "metadata": {},
   "outputs": [],
   "source": [
    "def get_sp(node):\n",
    "    spnm = node.split('_', 1)[1]\n",
    "    return spnm"
   ]
  },
  {
   "cell_type": "code",
   "execution_count": 6,
   "id": "a24d5878-a76c-44f6-8250-e369c36390f9",
   "metadata": {},
   "outputs": [
    {
     "ename": "NameError",
     "evalue": "name 'tree' is not defined",
     "output_type": "error",
     "traceback": [
      "\u001b[0;31m---------------------------------------------------------------------------\u001b[0m",
      "\u001b[0;31mNameError\u001b[0m                                 Traceback (most recent call last)",
      "\u001b[0;32m<ipython-input-6-47a92e1f3275>\u001b[0m in \u001b[0;36m<module>\u001b[0;34m\u001b[0m\n\u001b[1;32m      1\u001b[0m \u001b[0mleafdists\u001b[0m \u001b[0;34m=\u001b[0m \u001b[0mlist\u001b[0m\u001b[0;34m(\u001b[0m\u001b[0;34m)\u001b[0m\u001b[0;34m\u001b[0m\u001b[0;34m\u001b[0m\u001b[0m\n\u001b[0;32m----> 2\u001b[0;31m \u001b[0;32mfor\u001b[0m \u001b[0mleaf\u001b[0m \u001b[0;32min\u001b[0m \u001b[0mtree\u001b[0m\u001b[0;34m.\u001b[0m\u001b[0mget_leaf_names\u001b[0m\u001b[0;34m(\u001b[0m\u001b[0;34m)\u001b[0m\u001b[0;34m:\u001b[0m\u001b[0;34m\u001b[0m\u001b[0;34m\u001b[0m\u001b[0m\n\u001b[0m\u001b[1;32m      3\u001b[0m     \u001b[0mleafdists\u001b[0m\u001b[0;34m.\u001b[0m\u001b[0mappend\u001b[0m\u001b[0;34m(\u001b[0m\u001b[0mtree\u001b[0m\u001b[0;34m.\u001b[0m\u001b[0mget_distance\u001b[0m\u001b[0;34m(\u001b[0m\u001b[0mleaf\u001b[0m\u001b[0;34m)\u001b[0m\u001b[0;34m)\u001b[0m\u001b[0;34m\u001b[0m\u001b[0;34m\u001b[0m\u001b[0m\n\u001b[1;32m      4\u001b[0m \u001b[0;34m\u001b[0m\u001b[0m\n\u001b[1;32m      5\u001b[0m print((np.median(leafdists), {'wdth': tree.get_farthest_leaf()[1],\n",
      "\u001b[0;31mNameError\u001b[0m: name 'tree' is not defined"
     ]
    }
   ],
   "source": [
    "leafdists = list()\n",
    "for leaf in tree.get_leaf_names():\n",
    "    leafdists.append(tree.get_distance(leaf))\n",
    "\n",
    "print((np.median(leafdists), {'wdth': tree.get_farthest_leaf()[1],\n",
    "                              'len_med': np.median(leafdists),\n",
    "                              'len_avg': np.mean(leafdists)}))"
   ]
  },
  {
   "cell_type": "code",
   "execution_count": 7,
   "id": "13605eb0-1147-4cc9-b395-56668b62c6f5",
   "metadata": {},
   "outputs": [],
   "source": [
    "treel = open('../data/0076_108.txt', 'r').read().split('\\n')[0].split('\\t')\n",
    "t = ete3.PhyloTree(treel[3], sp_naming_function=get_sp)"
   ]
  },
  {
   "cell_type": "code",
   "execution_count": 8,
   "id": "14641d52-541b-4f52-9901-3570e71cd6ca",
   "metadata": {},
   "outputs": [],
   "source": [
    "t.set_outgroup(t.get_midpoint_outgroup())"
   ]
  },
  {
   "cell_type": "code",
   "execution_count": 9,
   "id": "dc2c08d3-f458-41fd-8a6e-aa2cbdaf1dee",
   "metadata": {},
   "outputs": [
    {
     "data": {
      "text/plain": [
       "[<ete3.phylo.evolevents.EvolEvent at 0x7fcb84691d68>,\n",
       " <ete3.phylo.evolevents.EvolEvent at 0x7fcb2e72dcf8>,\n",
       " <ete3.phylo.evolevents.EvolEvent at 0x7fcb2e6bef60>,\n",
       " <ete3.phylo.evolevents.EvolEvent at 0x7fcb2e72dfd0>,\n",
       " <ete3.phylo.evolevents.EvolEvent at 0x7fcb2e6bef28>,\n",
       " <ete3.phylo.evolevents.EvolEvent at 0x7fcb2e72de10>,\n",
       " <ete3.phylo.evolevents.EvolEvent at 0x7fcb2e72dd68>,\n",
       " <ete3.phylo.evolevents.EvolEvent at 0x7fcb2e6bef98>,\n",
       " <ete3.phylo.evolevents.EvolEvent at 0x7fcb2e72d908>,\n",
       " <ete3.phylo.evolevents.EvolEvent at 0x7fcb2e72dba8>,\n",
       " <ete3.phylo.evolevents.EvolEvent at 0x7fcb2e72d358>,\n",
       " <ete3.phylo.evolevents.EvolEvent at 0x7fcb2e6bee80>,\n",
       " <ete3.phylo.evolevents.EvolEvent at 0x7fcb2e72df60>,\n",
       " <ete3.phylo.evolevents.EvolEvent at 0x7fcb2e72d278>,\n",
       " <ete3.phylo.evolevents.EvolEvent at 0x7fcb2e72dd30>,\n",
       " <ete3.phylo.evolevents.EvolEvent at 0x7fcb2e72d208>,\n",
       " <ete3.phylo.evolevents.EvolEvent at 0x7fcb2e6b2550>,\n",
       " <ete3.phylo.evolevents.EvolEvent at 0x7fcb2e6b2390>,\n",
       " <ete3.phylo.evolevents.EvolEvent at 0x7fcb2e6b2358>,\n",
       " <ete3.phylo.evolevents.EvolEvent at 0x7fcb2e6b22e8>,\n",
       " <ete3.phylo.evolevents.EvolEvent at 0x7fcb2e6b2438>,\n",
       " <ete3.phylo.evolevents.EvolEvent at 0x7fcb2e6b21d0>,\n",
       " <ete3.phylo.evolevents.EvolEvent at 0x7fcb2e6b2710>,\n",
       " <ete3.phylo.evolevents.EvolEvent at 0x7fcb2e6b2588>,\n",
       " <ete3.phylo.evolevents.EvolEvent at 0x7fcb2e6b24a8>,\n",
       " <ete3.phylo.evolevents.EvolEvent at 0x7fcb2e6b25f8>,\n",
       " <ete3.phylo.evolevents.EvolEvent at 0x7fcb2e6b2128>,\n",
       " <ete3.phylo.evolevents.EvolEvent at 0x7fcb2e6b2240>,\n",
       " <ete3.phylo.evolevents.EvolEvent at 0x7fcb2e6b2668>,\n",
       " <ete3.phylo.evolevents.EvolEvent at 0x7fcb2e6b2518>,\n",
       " <ete3.phylo.evolevents.EvolEvent at 0x7fcb2e6b2860>,\n",
       " <ete3.phylo.evolevents.EvolEvent at 0x7fcb2e6b26d8>,\n",
       " <ete3.phylo.evolevents.EvolEvent at 0x7fcb2e6b2208>,\n",
       " <ete3.phylo.evolevents.EvolEvent at 0x7fcb2e6b2780>,\n",
       " <ete3.phylo.evolevents.EvolEvent at 0x7fcb2e6b2908>,\n",
       " <ete3.phylo.evolevents.EvolEvent at 0x7fcb2e6b2748>,\n",
       " <ete3.phylo.evolevents.EvolEvent at 0x7fcb2e6b2a20>,\n",
       " <ete3.phylo.evolevents.EvolEvent at 0x7fcb2e6b2ba8>,\n",
       " <ete3.phylo.evolevents.EvolEvent at 0x7fcb2e6b2a58>,\n",
       " <ete3.phylo.evolevents.EvolEvent at 0x7fcb2e6b2b00>,\n",
       " <ete3.phylo.evolevents.EvolEvent at 0x7fcb2e6b2c50>,\n",
       " <ete3.phylo.evolevents.EvolEvent at 0x7fcb2e6b2b70>,\n",
       " <ete3.phylo.evolevents.EvolEvent at 0x7fcb2e6b29e8>,\n",
       " <ete3.phylo.evolevents.EvolEvent at 0x7fcb2e6b2cc0>]"
      ]
     },
     "execution_count": 9,
     "metadata": {},
     "output_type": "execute_result"
    }
   ],
   "source": [
    "t.get_descendant_evol_events()"
   ]
  },
  {
   "cell_type": "code",
   "execution_count": 19,
   "id": "177a674d-8bf4-4016-b9b0-77526186c38f",
   "metadata": {},
   "outputs": [
    {
     "name": "stdout",
     "output_type": "stream",
     "text": [
      "[(0.15922160000000002, {'leafno': 13, 'median': 0.15922160000000002, 'mean': 0.18346275384615382, 'width': 0.4262566, 'sum': 2.3850157999999992, 'kurt': 2.769643454381928, 'skew': 1.7485548877815096}), (0.2485555, {'leafno': 9, 'median': 0.2485555, 'mean': 0.24089553333333333, 'width': 0.49819399999999997, 'sum': 2.1680598, 'kurt': -0.8912959637721558, 'skew': 0.5984124506840857})]\n"
     ]
    }
   ],
   "source": [
    "parlist = list()\n",
    "\n",
    "# Analyse all the subtrees from the tree\n",
    "for st in t.traverse():\n",
    "    # Get those subtrees that root in a duplication node\n",
    "    if len(st.get_leaf_names()) > 1 and st.evoltype == 'D':\n",
    "        childs = st.get_children()\n",
    "        \n",
    "        # Check both child clades have more than 4 and there are 2 childs\n",
    "        if len(childs) == 2 and [len(ch.get_leaf_names()) > 4 for ch in childs]:\n",
    "            chevtypes = list()\n",
    "            # Go through childs storing the descendant node evoltytpe\n",
    "            for child in childs:\n",
    "                chevtypes += [nd.evoltype for nd in child.iter_search_nodes() \n",
    "                              if 'evoltype' in list(nd.features)]\n",
    "            \n",
    "            # Check all the descendant nodes from the childs are speciation\n",
    "            # nodes and then store them in a list of tupples\n",
    "            if set(chevtypes) == {'S'}:\n",
    "                for child in st.get_children():\n",
    "                    chstats = tree_stats(child)\n",
    "                    parlist.append((chstats['median'], chstats))\n",
    "\n",
    "parlist = sorted(parlist, key=itemgetter(0))\n",
    "print(parlist)"
   ]
  },
  {
   "cell_type": "code",
   "execution_count": 30,
   "id": "d890ac4b-4fba-4f86-bf55-000228df2659",
   "metadata": {},
   "outputs": [
    {
     "name": "stdout",
     "output_type": "stream",
     "text": [
      "{'min_leafno': 13, 'min_median': 0.15922160000000002, 'min_mean': 0.18346275384615382, 'min_width': 0.4262566, 'min_sum': 2.3850157999999992, 'min_kurt': 2.769643454381928, 'min_skew': 1.7485548877815096, 'max_leafno': 13, 'max_median': 0.15922160000000002, 'max_mean': 0.18346275384615382, 'max_width': 0.4262566, 'max_sum': 2.3850157999999992, 'max_kurt': 2.769643454381928, 'max_skew': 1.7485548877815096}\n"
     ]
    }
   ],
   "source": [
    "print({**{'min_' + k: v for k, v in parlist[0][1].items()},\n",
    "       **{'max_' + k: v for k, v in parlist[0][1].items()}})"
   ]
  },
  {
   "cell_type": "code",
   "execution_count": 304,
   "id": "85c9063f-7e06-4901-9e09-af7680341c71",
   "metadata": {},
   "outputs": [],
   "source": [
    "def get_subtree(tree, feature, leafth, seed):\n",
    "    vertleaves = [l for l in t.get_leaves() if str(getattr(l, feature)) != 'nan']\n",
    "    leafno = int((1 - leafth) * len(t.get_leaf_names()))\n",
    "    to_save = random.choices(vertleaves, k=leafno) + [seed]\n",
    "    tree.prune(to_save)\n",
    "    return 0"
   ]
  },
  {
   "cell_type": "code",
   "execution_count": 305,
   "id": "5cc1256b-bc26-4026-9c02-759a25d4a919",
   "metadata": {},
   "outputs": [],
   "source": [
    "def get_distdict(seed, tree, subtree):\n",
    "    odict = dict()\n",
    "    odict[subtree + '_seed'] = seed\n",
    "    odict[subtree + '_species'] = get_species_tag(seed)\n",
    "    odict[subtree + '_vert_dist'] = vert_dict['node'].get_distance(seed)\n",
    "    odict[subtree + '_met_dist'] = met_dict['node'].get_distance(seed)\n",
    "    odict[subtree + '_seed_dist'] = tree.get_distance(seed)\n",
    "    odict[subtree + '_vert_ndist'] = vert_dict['node'].get_distance(seed) / nfactor\n",
    "    odict[subtree + '_met_ndist'] = met_dict['node'].get_distance(seed) / nfactor\n",
    "    odict[subtree + '_seed_ndist'] = t.get_distance(seed) / nfactor\n",
    "    \n",
    "    return odict"
   ]
  },
  {
   "cell_type": "code",
   "execution_count": 312,
   "id": "3c0e6a06-e643-4115-a029-50730defa779",
   "metadata": {},
   "outputs": [
    {
     "name": "stdout",
     "output_type": "stream",
     "text": [
      "['vertebrates', 'vertebrates', 'vertebrates', 'vertebrates', 'vertebrates', 'vertebrates', 'vertebrates', 'vertebrates', 'vertebrates', 'vertebrates', 'vertebrates', 'vertebrates', 'vertebrates', 'vertebrates', 'vertebrates', 'vertebrates', 'vertebrates', 'vertebrates', 'vertebrates', 'vertebrates', 'vertebrates', 'vertebrates', 'vertebrates', 'vertebrates', 'vertebrates', 'vertebrates']\n",
      "['vertebrates', 'vertebrates', 'vertebrates', 'vertebrates', 'vertebrates', 'vertebrates', 'vertebrates', 'vertebrates', 'vertebrates', 'vertebrates', 'vertebrates', 'vertebrates', 'vertebrates', 'vertebrates']\n",
      "['vertebrates', 'vertebrates', 'vertebrates', 'vertebrates', 'vertebrates', 'vertebrates']\n"
     ]
    }
   ],
   "source": [
    "import random\n",
    "import ete3\n",
    "import numpy as np\n",
    "from clade_sp_dist import *\n",
    "\n",
    "phylome_id = '0076'\n",
    "\n",
    "odict = dict()\n",
    "\n",
    "treel = open('../data/0076_108.txt', 'r').read().split('\\n')[0].split('\\t')\n",
    "t = ete3.PhyloTree(treel[3], sp_naming_function=get_sp)\n",
    "\n",
    "gnmdf = pd.read_csv('../data/0076_norm_groups.csv')\n",
    "root(t, root_dict[int(phylome_id)])\n",
    "t.get_descendant_evol_events()\n",
    "\n",
    "annotate_lineages(t, gnmdf, ['Normalising group',\n",
    "                             'Vertebrate',\n",
    "                             'Metazoan'])\n",
    "\n",
    "norm_dict = clade_norm(t, treel[0], 'Normalising group')\n",
    "\n",
    "nfactor = norm_dict['norm_factor']\n",
    "\n",
    "vert_dict = get_group_mrca(t, treel[0], 'Vertebrate',\n",
    "                           'vertebrate', treel[0])\n",
    "met_dict = get_group_mrca(t, treel[0], 'Metazoan',\n",
    "                          'metazoan', treel[0])\n",
    "\n",
    "odict = get_distdict(treel[0], t, 'whole')\n",
    "\n",
    "for i in [0.1, 0.25, 0.5]:\n",
    "    st = t\n",
    "    \n",
    "    get_subtree(st, 'Vertebrate', i, treel[0])\n",
    "    \n",
    "    print([l.Vertebrate for l in st.get_leaves()])\n",
    "    \n",
    "    norm_dict = clade_norm(st, treel[0], 'Normalising group')\n",
    "\n",
    "    nfactor = norm_dict['norm_factor']\n",
    "    \n",
    "    vert_dict = get_group_mrca(t, treel[0], 'Vertebrate',\n",
    "                           'vertebrate', treel[0])\n",
    "    \n",
    "    met_dict = get_group_mrca(st, treel[0], 'Metazoan',\n",
    "                              'metazoan', treel[0])\n",
    "    \n",
    "    odict = {**odict, **get_distdict(treel[0], st, str(i))}\n",
    "\n",
    "olist()"
   ]
  },
  {
   "cell_type": "code",
   "execution_count": 316,
   "id": "2a416386-1878-4e22-b049-4500a28a006a",
   "metadata": {},
   "outputs": [
    {
     "data": {
      "text/html": [
       "<div>\n",
       "<style scoped>\n",
       "    .dataframe tbody tr th:only-of-type {\n",
       "        vertical-align: middle;\n",
       "    }\n",
       "\n",
       "    .dataframe tbody tr th {\n",
       "        vertical-align: top;\n",
       "    }\n",
       "\n",
       "    .dataframe thead th {\n",
       "        text-align: right;\n",
       "    }\n",
       "</style>\n",
       "<table border=\"1\" class=\"dataframe\">\n",
       "  <thead>\n",
       "    <tr style=\"text-align: right;\">\n",
       "      <th></th>\n",
       "      <th>whole_seed</th>\n",
       "      <th>whole_species</th>\n",
       "      <th>whole_vert_dist</th>\n",
       "      <th>whole_met_dist</th>\n",
       "      <th>whole_seed_dist</th>\n",
       "      <th>whole_vert_ndist</th>\n",
       "      <th>whole_met_ndist</th>\n",
       "      <th>whole_seed_ndist</th>\n",
       "      <th>0.1_seed</th>\n",
       "      <th>0.1_species</th>\n",
       "      <th>...</th>\n",
       "      <th>0.25_met_ndist</th>\n",
       "      <th>0.25_seed_ndist</th>\n",
       "      <th>0.5_seed</th>\n",
       "      <th>0.5_species</th>\n",
       "      <th>0.5_vert_dist</th>\n",
       "      <th>0.5_met_dist</th>\n",
       "      <th>0.5_seed_dist</th>\n",
       "      <th>0.5_vert_ndist</th>\n",
       "      <th>0.5_met_ndist</th>\n",
       "      <th>0.5_seed_ndist</th>\n",
       "    </tr>\n",
       "  </thead>\n",
       "  <tbody>\n",
       "    <tr>\n",
       "      <th>0</th>\n",
       "      <td>Phy001R83G_HUMAN</td>\n",
       "      <td>HUMAN</td>\n",
       "      <td>0.432531</td>\n",
       "      <td>1.257411</td>\n",
       "      <td>2.478446</td>\n",
       "      <td>0.320156</td>\n",
       "      <td>0.930724</td>\n",
       "      <td>1.834523</td>\n",
       "      <td>Phy001R83G_HUMAN</td>\n",
       "      <td>HUMAN</td>\n",
       "      <td>...</td>\n",
       "      <td>0.979082</td>\n",
       "      <td>1.44589</td>\n",
       "      <td>Phy001R83G_HUMAN</td>\n",
       "      <td>HUMAN</td>\n",
       "      <td>0.140227</td>\n",
       "      <td>0.140227</td>\n",
       "      <td>0.248454</td>\n",
       "      <td>1.0</td>\n",
       "      <td>1.0</td>\n",
       "      <td>1.771799</td>\n",
       "    </tr>\n",
       "  </tbody>\n",
       "</table>\n",
       "<p>1 rows × 32 columns</p>\n",
       "</div>"
      ],
      "text/plain": [
       "         whole_seed whole_species  whole_vert_dist  whole_met_dist  \\\n",
       "0  Phy001R83G_HUMAN         HUMAN         0.432531        1.257411   \n",
       "\n",
       "   whole_seed_dist  whole_vert_ndist  whole_met_ndist  whole_seed_ndist  \\\n",
       "0         2.478446          0.320156         0.930724          1.834523   \n",
       "\n",
       "           0.1_seed 0.1_species  ...  0.25_met_ndist  0.25_seed_ndist  \\\n",
       "0  Phy001R83G_HUMAN       HUMAN  ...        0.979082          1.44589   \n",
       "\n",
       "           0.5_seed  0.5_species  0.5_vert_dist  0.5_met_dist 0.5_seed_dist  \\\n",
       "0  Phy001R83G_HUMAN        HUMAN       0.140227      0.140227      0.248454   \n",
       "\n",
       "  0.5_vert_ndist  0.5_met_ndist  0.5_seed_ndist  \n",
       "0            1.0            1.0        1.771799  \n",
       "\n",
       "[1 rows x 32 columns]"
      ]
     },
     "execution_count": 316,
     "metadata": {},
     "output_type": "execute_result"
    }
   ],
   "source": []
  },
  {
   "cell_type": "code",
   "execution_count": 226,
   "id": "05b2a47f-eb06-444b-bc36-3ec7761b2904",
   "metadata": {},
   "outputs": [
    {
     "name": "stdout",
     "output_type": "stream",
     "text": [
      "\n",
      "--Phy003JP2O_BOVIN\n"
     ]
    }
   ],
   "source": [
    "print(stt)features"
   ]
  },
  {
   "cell_type": "code",
   "execution_count": 33,
   "id": "a5de1878-f1e4-42e4-86a8-c0242ad1cf6e",
   "metadata": {},
   "outputs": [
    {
     "name": "stdout",
     "output_type": "stream",
     "text": [
      "Miau\n"
     ]
    }
   ],
   "source": [
    "if (True and True):\n",
    "    print('Miau')"
   ]
  },
  {
   "cell_type": "code",
   "execution_count": null,
   "id": "026af152-0e96-45ad-8f29-db277f687fb5",
   "metadata": {},
   "outputs": [],
   "source": []
  }
 ],
 "metadata": {
  "kernelspec": {
   "display_name": "Python 3",
   "language": "python",
   "name": "python3"
  },
  "language_info": {
   "codemirror_mode": {
    "name": "ipython",
    "version": 3
   },
   "file_extension": ".py",
   "mimetype": "text/x-python",
   "name": "python",
   "nbconvert_exporter": "python",
   "pygments_lexer": "ipython3",
   "version": "3.6.15"
  }
 },
 "nbformat": 4,
 "nbformat_minor": 5
}
